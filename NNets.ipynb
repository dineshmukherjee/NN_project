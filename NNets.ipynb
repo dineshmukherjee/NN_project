{
 "cells": [
  {
   "cell_type": "markdown",
   "metadata": {},
   "source": [
    "### NN implementation"
   ]
  },
  {
   "cell_type": "code",
   "execution_count": 2,
   "metadata": {},
   "outputs": [],
   "source": [
    "# Helpers fcts.\n",
    "def sigmoid(z):\n",
    "    return 1/(1+np.exp(-z))\n",
    "\n",
    "def compute_multiclass_loss(y, y_fwrd):\n",
    "    l_sum = np.sum(np.multiply(y, np.log(y_fwrd)))\n",
    "    m = y.shape[1]\n",
    "    loss = -(1/m) * l_sum\n",
    "    return loss\n",
    "\n",
    "def precision(y, y_fwrd):\n",
    "    n = y.shape[1]\n",
    "    return np.sum([np.argmax(y_fwrd[:,i]) == np.argmax(y[:,i]) for i in range(n)]) / n\n",
    "\n",
    "\n",
    "\n",
    "class NeuralNetwork:\n",
    "    \"\"\" \n",
    "        Standard, feed forward NN's implementation\n",
    "    \"\"\"\n",
    "    def __init__(self, X, y, n_h):\n",
    "        self.n_x = X.shape[0]\n",
    "        self.w1 = np.random.randn(n_h, self.n_x)\n",
    "        self.b1 = np.zeros((n_h, 1))\n",
    "        self.n_y = y.shape[0]\n",
    "        self.w2 = np.random.randn(self.n_y, n_h)\n",
    "        self.b2 = np.zeros((self.n_y, 1))    \n",
    "\n",
    "    def train(self, X, y, learn_rate=1):\n",
    "        \n",
    "        # feed forward\n",
    "        z1 = np.matmul(self.w1, X) + self.b1\n",
    "        ff1 = sigmoid(z1) # feed forward layer 1\n",
    "        z2 = np.matmul(self.w2, ff1) + self.b2\n",
    "        ff2 = np.exp(z2) / np.sum(np.exp(z2), axis=0) # feed forward layer 2\n",
    "        \n",
    "        # backprop: relations are found by variational calculus on the optimisation function\n",
    "        m = y.shape[1]\n",
    "        dz2 = ff2 - y\n",
    "        dw2 = (1./m) * np.matmul(dz2, ff1.T)\n",
    "        db2 = (1./m) * np.sum(dz2, axis=1, keepdims=True)\n",
    "\n",
    "        dff1 = np.matmul(self.w2.T, dz2)\n",
    "        dz1 = dff1 * sigmoid(z1) * (1 - sigmoid(z1))\n",
    "        dw1 = (1./m) * np.matmul(dz1, X.T)\n",
    "        db1 = (1./m) * np.sum(dz1, axis=1, keepdims=True)\n",
    "\n",
    "        self.w2 = self.w2 - learn_rate * dw2\n",
    "        self.b2 = self.b2 - learn_rate * db2\n",
    "        self.w1 = self.w1 - learn_rate * dw1\n",
    "        self.b1 = self.b1 - learn_rate * db1\n",
    "        \n",
    "        loss = compute_multiclass_loss(y, ff2)\n",
    "        prec = precision(y, ff2)\n",
    "        \n",
    "        return {'loss': loss, 'prec': prec}\n",
    "    \n",
    "    def test(self, X, y):\n",
    "        \n",
    "        z1 = np.matmul(self.w1, X) + self.b1\n",
    "        ff1 = sigmoid(z1)\n",
    "        z2 = np.matmul(self.w2, ff1) + self.b2\n",
    "        ff2 = np.exp(z2) / np.sum(np.exp(z2), axis=0)\n",
    "        \n",
    "        loss = compute_multiclass_loss(y, ff2)\n",
    "        prec = precision(y, ff2)\n",
    "        \n",
    "        return {'loss': loss, 'prec': prec}"
   ]
  },
  {
   "cell_type": "markdown",
   "metadata": {},
   "source": [
    "### MNIST Dataset"
   ]
  },
  {
   "cell_type": "code",
   "execution_count": 21,
   "metadata": {},
   "outputs": [
    {
     "name": "stderr",
     "output_type": "stream",
     "text": [
      "/root/miniconda3/envs/invoicenet/lib/python3.6/site-packages/sklearn/utils/deprecation.py:77: DeprecationWarning: Function fetch_mldata is deprecated; fetch_mldata was deprecated in version 0.20 and will be removed in version 0.22\n",
      "  warnings.warn(msg, category=DeprecationWarning)\n",
      "/root/miniconda3/envs/invoicenet/lib/python3.6/site-packages/sklearn/utils/deprecation.py:77: DeprecationWarning: Function mldata_filename is deprecated; mldata_filename was deprecated in version 0.20 and will be removed in version 0.22\n",
      "  warnings.warn(msg, category=DeprecationWarning)\n"
     ]
    }
   ],
   "source": [
    "# Import\n",
    "import matplotlib.pylab as plt\n",
    "import numpy as np\n",
    "from tqdm import tqdm\n",
    "\n",
    "from sklearn.datasets import fetch_mldata\n",
    "mnist = fetch_mldata('MNIST original')\n",
    "X, y = mnist[\"data\"], mnist[\"target\"]\n",
    "\n",
    "# Preprocessing\n",
    "X = X / 255\n",
    "digits = 10\n",
    "examples = y.shape[0]\n",
    "\n",
    "# hot encoding a la python\n",
    "y = y.reshape(1, examples)\n",
    "y = np.eye(digits)[y.astype('int32')]\n",
    "y = y.T.reshape(digits, examples)\n",
    "\n",
    "# Build train/test datasets\n",
    "train_frac = .8 \n",
    "m_train = int(X.shape[0]*train_frac)\n",
    "X_train, X_test = X[:m_train].T, X[m_train:].T\n",
    "y_train, y_test = y[:,:m_train], y[:,m_train:]\n",
    "\n",
    "# it is standard to seek for balance in updates for NNs.\n",
    "shuffle_index = np.random.permutation(m_train)\n",
    "X_train, y_train = X_train[:, shuffle_index], y_train[:, shuffle_index];"
   ]
  },
  {
   "cell_type": "code",
   "execution_count": 3,
   "metadata": {},
   "outputs": [
    {
     "name": "stderr",
     "output_type": "stream",
     "text": [
      "  0%|          | 1/2500 [00:01<1:07:32,  1.62s/it]"
     ]
    },
    {
     "name": "stdout",
     "output_type": "stream",
     "text": [
      "Epoch 0 loss:  9.922842934951339\n",
      "Epoch 0 precision:  0.10908928571428571\n"
     ]
    },
    {
     "name": "stderr",
     "output_type": "stream",
     "text": [
      "  0%|          | 11/2500 [00:16<1:03:07,  1.52s/it]"
     ]
    },
    {
     "name": "stdout",
     "output_type": "stream",
     "text": [
      "Epoch 10 loss:  2.367696080828881\n",
      "Epoch 10 precision:  0.38158928571428574\n"
     ]
    },
    {
     "name": "stderr",
     "output_type": "stream",
     "text": [
      "  1%|          | 21/2500 [00:32<1:04:36,  1.56s/it]"
     ]
    },
    {
     "name": "stdout",
     "output_type": "stream",
     "text": [
      "Epoch 20 loss:  1.6679571926212526\n",
      "Epoch 20 precision:  0.5312142857142857\n"
     ]
    },
    {
     "name": "stderr",
     "output_type": "stream",
     "text": [
      "  1%|          | 31/2500 [00:47<1:04:04,  1.56s/it]"
     ]
    },
    {
     "name": "stdout",
     "output_type": "stream",
     "text": [
      "Epoch 30 loss:  1.3569891308069113\n",
      "Epoch 30 precision:  0.608625\n"
     ]
    },
    {
     "name": "stderr",
     "output_type": "stream",
     "text": [
      "  2%|▏         | 41/2500 [01:03<1:03:09,  1.54s/it]"
     ]
    },
    {
     "name": "stdout",
     "output_type": "stream",
     "text": [
      "Epoch 40 loss:  1.1754657745183483\n",
      "Epoch 40 precision:  0.6566785714285714\n"
     ]
    },
    {
     "name": "stderr",
     "output_type": "stream",
     "text": [
      "  2%|▏         | 51/2500 [01:19<1:04:05,  1.57s/it]"
     ]
    },
    {
     "name": "stdout",
     "output_type": "stream",
     "text": [
      "Epoch 50 loss:  1.0535852998973232\n",
      "Epoch 50 precision:  0.6886964285714285\n"
     ]
    },
    {
     "name": "stderr",
     "output_type": "stream",
     "text": [
      "  2%|▏         | 61/2500 [01:33<1:00:44,  1.49s/it]"
     ]
    },
    {
     "name": "stdout",
     "output_type": "stream",
     "text": [
      "Epoch 60 loss:  0.9647441726725152\n",
      "Epoch 60 precision:  0.7120714285714286\n"
     ]
    },
    {
     "name": "stderr",
     "output_type": "stream",
     "text": [
      "  3%|▎         | 71/2500 [01:47<56:02,  1.38s/it]  "
     ]
    },
    {
     "name": "stdout",
     "output_type": "stream",
     "text": [
      "Epoch 70 loss:  0.8964438070678713\n",
      "Epoch 70 precision:  0.7313392857142857\n"
     ]
    },
    {
     "name": "stderr",
     "output_type": "stream",
     "text": [
      "  3%|▎         | 81/2500 [02:01<55:40,  1.38s/it]"
     ]
    },
    {
     "name": "stdout",
     "output_type": "stream",
     "text": [
      "Epoch 80 loss:  0.8419717740134951\n",
      "Epoch 80 precision:  0.7464821428571429\n"
     ]
    },
    {
     "name": "stderr",
     "output_type": "stream",
     "text": [
      "  4%|▎         | 91/2500 [02:15<55:40,  1.39s/it]"
     ]
    },
    {
     "name": "stdout",
     "output_type": "stream",
     "text": [
      "Epoch 90 loss:  0.7973554365839572\n",
      "Epoch 90 precision:  0.7588214285714285\n"
     ]
    },
    {
     "name": "stderr",
     "output_type": "stream",
     "text": [
      "  4%|▍         | 101/2500 [02:29<55:24,  1.39s/it]"
     ]
    },
    {
     "name": "stdout",
     "output_type": "stream",
     "text": [
      "Epoch 100 loss:  0.7600475857311418\n",
      "Epoch 100 precision:  0.7694642857142857\n"
     ]
    },
    {
     "name": "stderr",
     "output_type": "stream",
     "text": [
      "  4%|▍         | 111/2500 [02:42<54:33,  1.37s/it]"
     ]
    },
    {
     "name": "stdout",
     "output_type": "stream",
     "text": [
      "Epoch 110 loss:  0.7283138084710136\n",
      "Epoch 110 precision:  0.7785714285714286\n"
     ]
    },
    {
     "name": "stderr",
     "output_type": "stream",
     "text": [
      "  5%|▍         | 121/2500 [02:56<54:47,  1.38s/it]"
     ]
    },
    {
     "name": "stdout",
     "output_type": "stream",
     "text": [
      "Epoch 120 loss:  0.7009266152792747\n",
      "Epoch 120 precision:  0.7861428571428571\n"
     ]
    },
    {
     "name": "stderr",
     "output_type": "stream",
     "text": [
      "  5%|▌         | 131/2500 [03:11<55:38,  1.41s/it]"
     ]
    },
    {
     "name": "stdout",
     "output_type": "stream",
     "text": [
      "Epoch 130 loss:  0.6769949467815596\n",
      "Epoch 130 precision:  0.7931785714285714\n"
     ]
    },
    {
     "name": "stderr",
     "output_type": "stream",
     "text": [
      "  6%|▌         | 141/2500 [03:25<54:38,  1.39s/it]"
     ]
    },
    {
     "name": "stdout",
     "output_type": "stream",
     "text": [
      "Epoch 140 loss:  0.6558582420409137\n",
      "Epoch 140 precision:  0.7994285714285714\n"
     ]
    },
    {
     "name": "stderr",
     "output_type": "stream",
     "text": [
      "  6%|▌         | 151/2500 [03:39<54:08,  1.38s/it]"
     ]
    },
    {
     "name": "stdout",
     "output_type": "stream",
     "text": [
      "Epoch 150 loss:  0.6370166834255806\n",
      "Epoch 150 precision:  0.8056964285714285\n"
     ]
    },
    {
     "name": "stderr",
     "output_type": "stream",
     "text": [
      "  6%|▋         | 161/2500 [03:53<55:29,  1.42s/it]"
     ]
    },
    {
     "name": "stdout",
     "output_type": "stream",
     "text": [
      "Epoch 160 loss:  0.6200847538927822\n",
      "Epoch 160 precision:  0.811375\n"
     ]
    },
    {
     "name": "stderr",
     "output_type": "stream",
     "text": [
      "  7%|▋         | 171/2500 [04:07<54:39,  1.41s/it]"
     ]
    },
    {
     "name": "stdout",
     "output_type": "stream",
     "text": [
      "Epoch 170 loss:  0.6047603326779517\n",
      "Epoch 170 precision:  0.8158392857142858\n"
     ]
    },
    {
     "name": "stderr",
     "output_type": "stream",
     "text": [
      "  7%|▋         | 181/2500 [04:21<53:56,  1.40s/it]"
     ]
    },
    {
     "name": "stdout",
     "output_type": "stream",
     "text": [
      "Epoch 180 loss:  0.5908035954550813\n",
      "Epoch 180 precision:  0.8205535714285714\n"
     ]
    },
    {
     "name": "stderr",
     "output_type": "stream",
     "text": [
      "  8%|▊         | 191/2500 [04:35<54:15,  1.41s/it]"
     ]
    },
    {
     "name": "stdout",
     "output_type": "stream",
     "text": [
      "Epoch 190 loss:  0.5780218696658892\n",
      "Epoch 190 precision:  0.8241428571428572\n"
     ]
    },
    {
     "name": "stderr",
     "output_type": "stream",
     "text": [
      "  8%|▊         | 201/2500 [04:49<52:53,  1.38s/it]"
     ]
    },
    {
     "name": "stdout",
     "output_type": "stream",
     "text": [
      "Epoch 200 loss:  0.5662583759540045\n",
      "Epoch 200 precision:  0.8275714285714286\n"
     ]
    },
    {
     "name": "stderr",
     "output_type": "stream",
     "text": [
      "  8%|▊         | 211/2500 [05:03<53:53,  1.41s/it]"
     ]
    },
    {
     "name": "stdout",
     "output_type": "stream",
     "text": [
      "Epoch 210 loss:  0.5553838426806089\n",
      "Epoch 210 precision:  0.8309285714285715\n"
     ]
    },
    {
     "name": "stderr",
     "output_type": "stream",
     "text": [
      "  9%|▉         | 221/2500 [05:17<53:02,  1.40s/it]"
     ]
    },
    {
     "name": "stdout",
     "output_type": "stream",
     "text": [
      "Epoch 220 loss:  0.5452903570822926\n",
      "Epoch 220 precision:  0.83425\n"
     ]
    },
    {
     "name": "stderr",
     "output_type": "stream",
     "text": [
      "  9%|▉         | 231/2500 [05:31<53:02,  1.40s/it]"
     ]
    },
    {
     "name": "stdout",
     "output_type": "stream",
     "text": [
      "Epoch 230 loss:  0.5358869091414301\n",
      "Epoch 230 precision:  0.8368214285714286\n"
     ]
    },
    {
     "name": "stderr",
     "output_type": "stream",
     "text": [
      " 10%|▉         | 241/2500 [05:45<52:31,  1.39s/it]"
     ]
    },
    {
     "name": "stdout",
     "output_type": "stream",
     "text": [
      "Epoch 240 loss:  0.5270961469988532\n",
      "Epoch 240 precision:  0.8394821428571428\n"
     ]
    },
    {
     "name": "stderr",
     "output_type": "stream",
     "text": [
      " 10%|█         | 251/2500 [05:59<54:05,  1.44s/it]"
     ]
    },
    {
     "name": "stdout",
     "output_type": "stream",
     "text": [
      "Epoch 250 loss:  0.5188519554046543\n",
      "Epoch 250 precision:  0.841875\n"
     ]
    },
    {
     "name": "stderr",
     "output_type": "stream",
     "text": [
      " 10%|█         | 261/2500 [06:13<51:33,  1.38s/it]"
     ]
    },
    {
     "name": "stdout",
     "output_type": "stream",
     "text": [
      "Epoch 260 loss:  0.5110975768251114\n",
      "Epoch 260 precision:  0.8445\n"
     ]
    },
    {
     "name": "stderr",
     "output_type": "stream",
     "text": [
      " 11%|█         | 271/2500 [06:27<51:45,  1.39s/it]"
     ]
    },
    {
     "name": "stdout",
     "output_type": "stream",
     "text": [
      "Epoch 270 loss:  0.5037840957007246\n",
      "Epoch 270 precision:  0.8471785714285714\n"
     ]
    },
    {
     "name": "stderr",
     "output_type": "stream",
     "text": [
      " 11%|█         | 281/2500 [06:41<53:28,  1.45s/it]"
     ]
    },
    {
     "name": "stdout",
     "output_type": "stream",
     "text": [
      "Epoch 280 loss:  0.4968691829416431\n",
      "Epoch 280 precision:  0.8490178571428572\n"
     ]
    },
    {
     "name": "stderr",
     "output_type": "stream",
     "text": [
      " 12%|█▏        | 291/2500 [06:55<52:21,  1.42s/it]"
     ]
    },
    {
     "name": "stdout",
     "output_type": "stream",
     "text": [
      "Epoch 290 loss:  0.4903160447639263\n",
      "Epoch 290 precision:  0.8508928571428571\n"
     ]
    },
    {
     "name": "stderr",
     "output_type": "stream",
     "text": [
      " 12%|█▏        | 301/2500 [07:10<52:15,  1.43s/it]"
     ]
    },
    {
     "name": "stdout",
     "output_type": "stream",
     "text": [
      "Epoch 300 loss:  0.48409254332010293\n",
      "Epoch 300 precision:  0.8532857142857143\n"
     ]
    },
    {
     "name": "stderr",
     "output_type": "stream",
     "text": [
      " 12%|█▏        | 311/2500 [07:24<53:06,  1.46s/it]"
     ]
    },
    {
     "name": "stdout",
     "output_type": "stream",
     "text": [
      "Epoch 310 loss:  0.47817046589811785\n",
      "Epoch 310 precision:  0.8551607142857143\n"
     ]
    },
    {
     "name": "stderr",
     "output_type": "stream",
     "text": [
      " 13%|█▎        | 321/2500 [07:38<50:58,  1.40s/it]"
     ]
    },
    {
     "name": "stdout",
     "output_type": "stream",
     "text": [
      "Epoch 320 loss:  0.47252492228102677\n",
      "Epoch 320 precision:  0.8568928571428571\n"
     ]
    },
    {
     "name": "stderr",
     "output_type": "stream",
     "text": [
      " 13%|█▎        | 331/2500 [07:52<51:09,  1.42s/it]"
     ]
    },
    {
     "name": "stdout",
     "output_type": "stream",
     "text": [
      "Epoch 330 loss:  0.46713385047924705\n",
      "Epoch 330 precision:  0.858875\n"
     ]
    },
    {
     "name": "stderr",
     "output_type": "stream",
     "text": [
      " 14%|█▎        | 341/2500 [08:07<52:23,  1.46s/it]"
     ]
    },
    {
     "name": "stdout",
     "output_type": "stream",
     "text": [
      "Epoch 340 loss:  0.4619776116162566\n",
      "Epoch 340 precision:  0.8602678571428571\n"
     ]
    },
    {
     "name": "stderr",
     "output_type": "stream",
     "text": [
      " 14%|█▍        | 351/2500 [08:21<50:47,  1.42s/it]"
     ]
    },
    {
     "name": "stdout",
     "output_type": "stream",
     "text": [
      "Epoch 350 loss:  0.45703865618291745\n",
      "Epoch 350 precision:  0.8618928571428571\n"
     ]
    },
    {
     "name": "stderr",
     "output_type": "stream",
     "text": [
      " 14%|█▍        | 361/2500 [08:35<50:00,  1.40s/it]"
     ]
    },
    {
     "name": "stdout",
     "output_type": "stream",
     "text": [
      "Epoch 360 loss:  0.4523012462693468\n",
      "Epoch 360 precision:  0.863125\n"
     ]
    },
    {
     "name": "stderr",
     "output_type": "stream",
     "text": [
      " 15%|█▍        | 371/2500 [08:50<59:28,  1.68s/it]"
     ]
    },
    {
     "name": "stdout",
     "output_type": "stream",
     "text": [
      "Epoch 370 loss:  0.4477512213289845\n",
      "Epoch 370 precision:  0.8644821428571429\n"
     ]
    },
    {
     "name": "stderr",
     "output_type": "stream",
     "text": [
      " 15%|█▌        | 381/2500 [09:07<55:00,  1.56s/it]  "
     ]
    },
    {
     "name": "stdout",
     "output_type": "stream",
     "text": [
      "Epoch 380 loss:  0.4433757980030599\n",
      "Epoch 380 precision:  0.8656071428571429\n"
     ]
    },
    {
     "name": "stderr",
     "output_type": "stream",
     "text": [
      " 16%|█▌        | 391/2500 [09:21<49:46,  1.42s/it]"
     ]
    },
    {
     "name": "stdout",
     "output_type": "stream",
     "text": [
      "Epoch 390 loss:  0.4391633971831168\n",
      "Epoch 390 precision:  0.8668571428571429\n"
     ]
    },
    {
     "name": "stderr",
     "output_type": "stream",
     "text": [
      " 16%|█▌        | 401/2500 [09:35<49:53,  1.43s/it]"
     ]
    },
    {
     "name": "stdout",
     "output_type": "stream",
     "text": [
      "Epoch 400 loss:  0.43510349369265494\n",
      "Epoch 400 precision:  0.8678571428571429\n"
     ]
    },
    {
     "name": "stderr",
     "output_type": "stream",
     "text": [
      " 16%|█▋        | 411/2500 [09:50<50:07,  1.44s/it]"
     ]
    },
    {
     "name": "stdout",
     "output_type": "stream",
     "text": [
      "Epoch 410 loss:  0.43118648571259416\n",
      "Epoch 410 precision:  0.86925\n"
     ]
    },
    {
     "name": "stderr",
     "output_type": "stream",
     "text": [
      " 17%|█▋        | 421/2500 [10:04<50:12,  1.45s/it]"
     ]
    },
    {
     "name": "stdout",
     "output_type": "stream",
     "text": [
      "Epoch 420 loss:  0.427403582315531\n",
      "Epoch 420 precision:  0.8703214285714286\n"
     ]
    },
    {
     "name": "stderr",
     "output_type": "stream",
     "text": [
      " 17%|█▋        | 431/2500 [10:19<50:18,  1.46s/it]"
     ]
    },
    {
     "name": "stdout",
     "output_type": "stream",
     "text": [
      "Epoch 430 loss:  0.42374670811539833\n",
      "Epoch 430 precision:  0.871625\n"
     ]
    },
    {
     "name": "stderr",
     "output_type": "stream",
     "text": [
      " 18%|█▊        | 441/2500 [10:33<51:22,  1.50s/it]"
     ]
    },
    {
     "name": "stdout",
     "output_type": "stream",
     "text": [
      "Epoch 440 loss:  0.42020842404340064\n",
      "Epoch 440 precision:  0.8728214285714285\n"
     ]
    },
    {
     "name": "stderr",
     "output_type": "stream",
     "text": [
      " 18%|█▊        | 451/2500 [10:48<51:02,  1.49s/it]"
     ]
    },
    {
     "name": "stdout",
     "output_type": "stream",
     "text": [
      "Epoch 450 loss:  0.41678186277154305\n",
      "Epoch 450 precision:  0.8740357142857142\n"
     ]
    },
    {
     "name": "stderr",
     "output_type": "stream",
     "text": [
      " 18%|█▊        | 461/2500 [11:03<51:51,  1.53s/it]"
     ]
    },
    {
     "name": "stdout",
     "output_type": "stream",
     "text": [
      "Epoch 460 loss:  0.4134606766479826\n",
      "Epoch 460 precision:  0.8750178571428572\n"
     ]
    },
    {
     "name": "stderr",
     "output_type": "stream",
     "text": [
      " 19%|█▉        | 471/2500 [11:18<51:15,  1.52s/it]"
     ]
    },
    {
     "name": "stdout",
     "output_type": "stream",
     "text": [
      "Epoch 470 loss:  0.4102389955368435\n",
      "Epoch 470 precision:  0.8761607142857143\n"
     ]
    },
    {
     "name": "stderr",
     "output_type": "stream",
     "text": [
      " 19%|█▉        | 481/2500 [11:33<50:43,  1.51s/it]"
     ]
    },
    {
     "name": "stdout",
     "output_type": "stream",
     "text": [
      "Epoch 480 loss:  0.4071113918577552\n",
      "Epoch 480 precision:  0.8770714285714286\n"
     ]
    },
    {
     "name": "stderr",
     "output_type": "stream",
     "text": [
      " 20%|█▉        | 491/2500 [11:49<51:52,  1.55s/it]"
     ]
    },
    {
     "name": "stdout",
     "output_type": "stream",
     "text": [
      "Epoch 490 loss:  0.4040728503516718\n",
      "Epoch 490 precision:  0.87825\n"
     ]
    },
    {
     "name": "stderr",
     "output_type": "stream",
     "text": [
      " 20%|██        | 501/2500 [12:04<51:00,  1.53s/it]"
     ]
    },
    {
     "name": "stdout",
     "output_type": "stream",
     "text": [
      "Epoch 500 loss:  0.4011187404783099\n",
      "Epoch 500 precision:  0.879125\n"
     ]
    },
    {
     "name": "stderr",
     "output_type": "stream",
     "text": [
      " 20%|██        | 511/2500 [12:19<49:57,  1.51s/it]"
     ]
    },
    {
     "name": "stdout",
     "output_type": "stream",
     "text": [
      "Epoch 510 loss:  0.39824478973736976\n",
      "Epoch 510 precision:  0.8799821428571428\n"
     ]
    },
    {
     "name": "stderr",
     "output_type": "stream",
     "text": [
      " 21%|██        | 521/2500 [12:35<50:42,  1.54s/it]"
     ]
    },
    {
     "name": "stdout",
     "output_type": "stream",
     "text": [
      "Epoch 520 loss:  0.39544705661489143\n",
      "Epoch 520 precision:  0.8810178571428572\n"
     ]
    },
    {
     "name": "stderr",
     "output_type": "stream",
     "text": [
      " 21%|██        | 531/2500 [12:50<50:12,  1.53s/it]"
     ]
    },
    {
     "name": "stdout",
     "output_type": "stream",
     "text": [
      "Epoch 530 loss:  0.3927219024066502\n",
      "Epoch 530 precision:  0.8818571428571429\n"
     ]
    },
    {
     "name": "stderr",
     "output_type": "stream",
     "text": [
      " 22%|██▏       | 541/2500 [13:06<51:17,  1.57s/it]"
     ]
    },
    {
     "name": "stdout",
     "output_type": "stream",
     "text": [
      "Epoch 540 loss:  0.3900659619145843\n",
      "Epoch 540 precision:  0.8828928571428571\n"
     ]
    },
    {
     "name": "stderr",
     "output_type": "stream",
     "text": [
      " 22%|██▏       | 551/2500 [13:21<50:05,  1.54s/it]"
     ]
    },
    {
     "name": "stdout",
     "output_type": "stream",
     "text": [
      "Epoch 550 loss:  0.38747611380431124\n",
      "Epoch 550 precision:  0.8838392857142857\n"
     ]
    },
    {
     "name": "stderr",
     "output_type": "stream",
     "text": [
      " 22%|██▏       | 561/2500 [13:36<49:42,  1.54s/it]"
     ]
    },
    {
     "name": "stdout",
     "output_type": "stream",
     "text": [
      "Epoch 560 loss:  0.3849494519634348\n",
      "Epoch 560 precision:  0.8846071428571428\n"
     ]
    },
    {
     "name": "stderr",
     "output_type": "stream",
     "text": [
      " 23%|██▎       | 571/2500 [13:52<49:16,  1.53s/it]"
     ]
    },
    {
     "name": "stdout",
     "output_type": "stream",
     "text": [
      "Epoch 570 loss:  0.3824832592875445\n",
      "Epoch 570 precision:  0.8853571428571428\n"
     ]
    },
    {
     "name": "stderr",
     "output_type": "stream",
     "text": [
      " 23%|██▎       | 581/2500 [14:07<49:27,  1.55s/it]"
     ]
    },
    {
     "name": "stdout",
     "output_type": "stream",
     "text": [
      "Epoch 580 loss:  0.3800749849497729\n",
      "Epoch 580 precision:  0.8860178571428572\n"
     ]
    },
    {
     "name": "stderr",
     "output_type": "stream",
     "text": [
      " 24%|██▎       | 591/2500 [14:23<48:19,  1.52s/it]"
     ]
    },
    {
     "name": "stdout",
     "output_type": "stream",
     "text": [
      "Epoch 590 loss:  0.3777222255977168\n",
      "Epoch 590 precision:  0.88675\n"
     ]
    },
    {
     "name": "stderr",
     "output_type": "stream",
     "text": [
      " 24%|██▍       | 601/2500 [14:38<48:41,  1.54s/it]"
     ]
    },
    {
     "name": "stdout",
     "output_type": "stream",
     "text": [
      "Epoch 600 loss:  0.3754227103362051\n",
      "Epoch 600 precision:  0.8873214285714286\n"
     ]
    },
    {
     "name": "stderr",
     "output_type": "stream",
     "text": [
      " 24%|██▍       | 611/2500 [14:53<48:34,  1.54s/it]"
     ]
    },
    {
     "name": "stdout",
     "output_type": "stream",
     "text": [
      "Epoch 610 loss:  0.37317428896561644\n",
      "Epoch 610 precision:  0.8880714285714286\n"
     ]
    },
    {
     "name": "stderr",
     "output_type": "stream",
     "text": [
      " 25%|██▍       | 621/2500 [15:09<50:46,  1.62s/it]"
     ]
    },
    {
     "name": "stdout",
     "output_type": "stream",
     "text": [
      "Epoch 620 loss:  0.37097492278407845\n",
      "Epoch 620 precision:  0.8886785714285714\n"
     ]
    },
    {
     "name": "stderr",
     "output_type": "stream",
     "text": [
      " 25%|██▌       | 631/2500 [15:28<57:08,  1.83s/it]  "
     ]
    },
    {
     "name": "stdout",
     "output_type": "stream",
     "text": [
      "Epoch 630 loss:  0.36882267726900125\n",
      "Epoch 630 precision:  0.8891785714285714\n"
     ]
    },
    {
     "name": "stderr",
     "output_type": "stream",
     "text": [
      " 26%|██▌       | 641/2500 [15:44<51:19,  1.66s/it]"
     ]
    },
    {
     "name": "stdout",
     "output_type": "stream",
     "text": [
      "Epoch 640 loss:  0.36671571605055564\n",
      "Epoch 640 precision:  0.8898214285714285\n"
     ]
    },
    {
     "name": "stderr",
     "output_type": "stream",
     "text": [
      " 26%|██▌       | 651/2500 [16:04<1:10:57,  2.30s/it]"
     ]
    },
    {
     "name": "stdout",
     "output_type": "stream",
     "text": [
      "Epoch 650 loss:  0.3646522957197479\n",
      "Epoch 650 precision:  0.8905357142857143\n"
     ]
    },
    {
     "name": "stderr",
     "output_type": "stream",
     "text": [
      " 26%|██▋       | 661/2500 [16:22<51:23,  1.68s/it]  "
     ]
    },
    {
     "name": "stdout",
     "output_type": "stream",
     "text": [
      "Epoch 660 loss:  0.36263076114594855\n",
      "Epoch 660 precision:  0.8911607142857143\n"
     ]
    },
    {
     "name": "stderr",
     "output_type": "stream",
     "text": [
      " 27%|██▋       | 671/2500 [16:40<50:29,  1.66s/it]"
     ]
    },
    {
     "name": "stdout",
     "output_type": "stream",
     "text": [
      "Epoch 670 loss:  0.3606495410972038\n",
      "Epoch 670 precision:  0.8919285714285714\n"
     ]
    },
    {
     "name": "stderr",
     "output_type": "stream",
     "text": [
      " 27%|██▋       | 681/2500 [16:55<46:42,  1.54s/it]"
     ]
    },
    {
     "name": "stdout",
     "output_type": "stream",
     "text": [
      "Epoch 680 loss:  0.35870714405149007\n",
      "Epoch 680 precision:  0.8925\n"
     ]
    },
    {
     "name": "stderr",
     "output_type": "stream",
     "text": [
      " 28%|██▊       | 691/2500 [17:11<46:25,  1.54s/it]"
     ]
    },
    {
     "name": "stdout",
     "output_type": "stream",
     "text": [
      "Epoch 690 loss:  0.35680215415295946\n",
      "Epoch 690 precision:  0.8931071428571429\n"
     ]
    },
    {
     "name": "stderr",
     "output_type": "stream",
     "text": [
      " 28%|██▊       | 701/2500 [17:26<45:20,  1.51s/it]"
     ]
    },
    {
     "name": "stdout",
     "output_type": "stream",
     "text": [
      "Epoch 700 loss:  0.35493322730480653\n",
      "Epoch 700 precision:  0.8936785714285714\n"
     ]
    },
    {
     "name": "stderr",
     "output_type": "stream",
     "text": [
      " 28%|██▊       | 711/2500 [17:41<45:09,  1.51s/it]"
     ]
    },
    {
     "name": "stdout",
     "output_type": "stream",
     "text": [
      "Epoch 710 loss:  0.3530990874058108\n",
      "Epoch 710 precision:  0.894125\n"
     ]
    },
    {
     "name": "stderr",
     "output_type": "stream",
     "text": [
      " 29%|██▉       | 721/2500 [17:56<45:24,  1.53s/it]"
     ]
    },
    {
     "name": "stdout",
     "output_type": "stream",
     "text": [
      "Epoch 720 loss:  0.35129852273941153\n",
      "Epoch 720 precision:  0.8946071428571428\n"
     ]
    },
    {
     "name": "stderr",
     "output_type": "stream",
     "text": [
      " 29%|██▉       | 731/2500 [18:11<45:06,  1.53s/it]"
     ]
    },
    {
     "name": "stdout",
     "output_type": "stream",
     "text": [
      "Epoch 730 loss:  0.3495303825201158\n",
      "Epoch 730 precision:  0.8956071428571428\n"
     ]
    },
    {
     "name": "stderr",
     "output_type": "stream",
     "text": [
      " 30%|██▉       | 741/2500 [18:27<44:53,  1.53s/it]"
     ]
    },
    {
     "name": "stdout",
     "output_type": "stream",
     "text": [
      "Epoch 740 loss:  0.3477935735972686\n",
      "Epoch 740 precision:  0.8961964285714286\n"
     ]
    },
    {
     "name": "stderr",
     "output_type": "stream",
     "text": [
      " 30%|███       | 751/2500 [18:42<44:50,  1.54s/it]"
     ]
    },
    {
     "name": "stdout",
     "output_type": "stream",
     "text": [
      "Epoch 750 loss:  0.3460870573129555\n",
      "Epoch 750 precision:  0.8968035714285715\n"
     ]
    },
    {
     "name": "stderr",
     "output_type": "stream",
     "text": [
      " 30%|███       | 761/2500 [18:57<43:34,  1.50s/it]"
     ]
    },
    {
     "name": "stdout",
     "output_type": "stream",
     "text": [
      "Epoch 760 loss:  0.34440984650939577\n",
      "Epoch 760 precision:  0.8975357142857143\n"
     ]
    },
    {
     "name": "stderr",
     "output_type": "stream",
     "text": [
      " 31%|███       | 771/2500 [19:12<44:26,  1.54s/it]"
     ]
    },
    {
     "name": "stdout",
     "output_type": "stream",
     "text": [
      "Epoch 770 loss:  0.34276100268093634\n",
      "Epoch 770 precision:  0.8980714285714285\n"
     ]
    },
    {
     "name": "stderr",
     "output_type": "stream",
     "text": [
      " 31%|███       | 781/2500 [19:27<43:40,  1.52s/it]"
     ]
    },
    {
     "name": "stdout",
     "output_type": "stream",
     "text": [
      "Epoch 780 loss:  0.3411396332659012\n",
      "Epoch 780 precision:  0.8986607142857143\n"
     ]
    },
    {
     "name": "stderr",
     "output_type": "stream",
     "text": [
      " 32%|███▏      | 791/2500 [19:43<43:34,  1.53s/it]"
     ]
    },
    {
     "name": "stdout",
     "output_type": "stream",
     "text": [
      "Epoch 790 loss:  0.3395448890735451\n",
      "Epoch 790 precision:  0.8992142857142857\n"
     ]
    },
    {
     "name": "stderr",
     "output_type": "stream",
     "text": [
      " 32%|███▏      | 801/2500 [19:58<42:38,  1.51s/it]"
     ]
    },
    {
     "name": "stdout",
     "output_type": "stream",
     "text": [
      "Epoch 800 loss:  0.33797596184100615\n",
      "Epoch 800 precision:  0.8996785714285714\n"
     ]
    },
    {
     "name": "stderr",
     "output_type": "stream",
     "text": [
      " 32%|███▏      | 811/2500 [20:14<43:16,  1.54s/it]"
     ]
    },
    {
     "name": "stdout",
     "output_type": "stream",
     "text": [
      "Epoch 810 loss:  0.3364320819145224\n",
      "Epoch 810 precision:  0.900125\n"
     ]
    },
    {
     "name": "stderr",
     "output_type": "stream",
     "text": [
      " 33%|███▎      | 821/2500 [20:29<44:36,  1.59s/it]"
     ]
    },
    {
     "name": "stdout",
     "output_type": "stream",
     "text": [
      "Epoch 820 loss:  0.3349125160484496\n",
      "Epoch 820 precision:  0.9006964285714286\n"
     ]
    },
    {
     "name": "stderr",
     "output_type": "stream",
     "text": [
      " 33%|███▎      | 831/2500 [20:45<42:43,  1.54s/it]"
     ]
    },
    {
     "name": "stdout",
     "output_type": "stream",
     "text": [
      "Epoch 830 loss:  0.333416565315036\n",
      "Epoch 830 precision:  0.9011607142857143\n"
     ]
    },
    {
     "name": "stderr",
     "output_type": "stream",
     "text": [
      " 34%|███▎      | 841/2500 [21:00<41:20,  1.50s/it]"
     ]
    },
    {
     "name": "stdout",
     "output_type": "stream",
     "text": [
      "Epoch 840 loss:  0.3319435631175909\n",
      "Epoch 840 precision:  0.9016607142857143\n"
     ]
    },
    {
     "name": "stderr",
     "output_type": "stream",
     "text": [
      " 34%|███▍      | 851/2500 [21:15<41:18,  1.50s/it]"
     ]
    },
    {
     "name": "stdout",
     "output_type": "stream",
     "text": [
      "Epoch 850 loss:  0.330492873299793\n",
      "Epoch 850 precision:  0.9022857142857142\n"
     ]
    },
    {
     "name": "stderr",
     "output_type": "stream",
     "text": [
      " 34%|███▍      | 861/2500 [21:30<43:01,  1.58s/it]"
     ]
    },
    {
     "name": "stdout",
     "output_type": "stream",
     "text": [
      "Epoch 860 loss:  0.32906388834435935\n",
      "Epoch 860 precision:  0.9028035714285715\n"
     ]
    },
    {
     "name": "stderr",
     "output_type": "stream",
     "text": [
      " 35%|███▍      | 871/2500 [21:46<41:57,  1.55s/it]"
     ]
    },
    {
     "name": "stdout",
     "output_type": "stream",
     "text": [
      "Epoch 870 loss:  0.3276560276551555\n",
      "Epoch 870 precision:  0.9032142857142857\n"
     ]
    },
    {
     "name": "stderr",
     "output_type": "stream",
     "text": [
      " 35%|███▌      | 881/2500 [22:01<41:16,  1.53s/it]"
     ]
    },
    {
     "name": "stdout",
     "output_type": "stream",
     "text": [
      "Epoch 880 loss:  0.32626873591795347\n",
      "Epoch 880 precision:  0.9035892857142858\n"
     ]
    },
    {
     "name": "stderr",
     "output_type": "stream",
     "text": [
      " 36%|███▌      | 891/2500 [22:17<42:13,  1.57s/it]"
     ]
    },
    {
     "name": "stdout",
     "output_type": "stream",
     "text": [
      "Epoch 890 loss:  0.3249014815363147\n",
      "Epoch 890 precision:  0.9039821428571428\n"
     ]
    },
    {
     "name": "stderr",
     "output_type": "stream",
     "text": [
      " 36%|███▌      | 901/2500 [22:32<40:44,  1.53s/it]"
     ]
    },
    {
     "name": "stdout",
     "output_type": "stream",
     "text": [
      "Epoch 900 loss:  0.3235537551403941\n",
      "Epoch 900 precision:  0.9046071428571428\n"
     ]
    },
    {
     "name": "stderr",
     "output_type": "stream",
     "text": [
      " 36%|███▋      | 911/2500 [22:48<40:40,  1.54s/it]"
     ]
    },
    {
     "name": "stdout",
     "output_type": "stream",
     "text": [
      "Epoch 910 loss:  0.3222250681676744\n",
      "Epoch 910 precision:  0.9049821428571428\n"
     ]
    },
    {
     "name": "stderr",
     "output_type": "stream",
     "text": [
      " 37%|███▋      | 921/2500 [23:03<40:50,  1.55s/it]"
     ]
    },
    {
     "name": "stdout",
     "output_type": "stream",
     "text": [
      "Epoch 920 loss:  0.3209149515156644\n",
      "Epoch 920 precision:  0.9054464285714285\n"
     ]
    },
    {
     "name": "stderr",
     "output_type": "stream",
     "text": [
      " 37%|███▋      | 931/2500 [23:19<41:30,  1.59s/it]"
     ]
    },
    {
     "name": "stdout",
     "output_type": "stream",
     "text": [
      "Epoch 930 loss:  0.319622954267333\n",
      "Epoch 930 precision:  0.9059821428571428\n"
     ]
    },
    {
     "name": "stderr",
     "output_type": "stream",
     "text": [
      " 38%|███▊      | 941/2500 [23:35<40:45,  1.57s/it]"
     ]
    },
    {
     "name": "stdout",
     "output_type": "stream",
     "text": [
      "Epoch 940 loss:  0.3183486424904604\n",
      "Epoch 940 precision:  0.9064821428571429\n"
     ]
    },
    {
     "name": "stderr",
     "output_type": "stream",
     "text": [
      " 38%|███▊      | 951/2500 [23:51<41:08,  1.59s/it]"
     ]
    },
    {
     "name": "stdout",
     "output_type": "stream",
     "text": [
      "Epoch 950 loss:  0.31709159811213533\n",
      "Epoch 950 precision:  0.9067678571428571\n"
     ]
    },
    {
     "name": "stderr",
     "output_type": "stream",
     "text": [
      " 38%|███▊      | 961/2500 [24:07<40:02,  1.56s/it]"
     ]
    },
    {
     "name": "stdout",
     "output_type": "stream",
     "text": [
      "Epoch 960 loss:  0.31585141786935356\n",
      "Epoch 960 precision:  0.9071785714285714\n"
     ]
    },
    {
     "name": "stderr",
     "output_type": "stream",
     "text": [
      " 39%|███▉      | 971/2500 [24:23<40:26,  1.59s/it]"
     ]
    },
    {
     "name": "stdout",
     "output_type": "stream",
     "text": [
      "Epoch 970 loss:  0.31462771233610154\n",
      "Epoch 970 precision:  0.9076428571428572\n"
     ]
    },
    {
     "name": "stderr",
     "output_type": "stream",
     "text": [
      " 39%|███▉      | 981/2500 [24:38<39:49,  1.57s/it]"
     ]
    },
    {
     "name": "stdout",
     "output_type": "stream",
     "text": [
      "Epoch 980 loss:  0.31342010502652823\n",
      "Epoch 980 precision:  0.9078928571428572\n"
     ]
    },
    {
     "name": "stderr",
     "output_type": "stream",
     "text": [
      " 40%|███▉      | 991/2500 [24:57<43:19,  1.72s/it]"
     ]
    },
    {
     "name": "stdout",
     "output_type": "stream",
     "text": [
      "Epoch 990 loss:  0.31222823157290763\n",
      "Epoch 990 precision:  0.9082142857142858\n"
     ]
    },
    {
     "name": "stderr",
     "output_type": "stream",
     "text": [
      " 40%|████      | 1001/2500 [25:12<39:00,  1.56s/it]"
     ]
    },
    {
     "name": "stdout",
     "output_type": "stream",
     "text": [
      "Epoch 1000 loss:  0.31105173897615573\n",
      "Epoch 1000 precision:  0.9086428571428572\n"
     ]
    },
    {
     "name": "stderr",
     "output_type": "stream",
     "text": [
      " 40%|████      | 1011/2500 [25:28<38:43,  1.56s/it]"
     ]
    },
    {
     "name": "stdout",
     "output_type": "stream",
     "text": [
      "Epoch 1010 loss:  0.3098902849257851\n",
      "Epoch 1010 precision:  0.908875\n"
     ]
    },
    {
     "name": "stderr",
     "output_type": "stream",
     "text": [
      " 41%|████      | 1021/2500 [25:44<38:51,  1.58s/it]"
     ]
    },
    {
     "name": "stdout",
     "output_type": "stream",
     "text": [
      "Epoch 1020 loss:  0.3087435371854187\n",
      "Epoch 1020 precision:  0.9091428571428571\n"
     ]
    },
    {
     "name": "stderr",
     "output_type": "stream",
     "text": [
      " 41%|████      | 1031/2500 [26:00<38:39,  1.58s/it]"
     ]
    },
    {
     "name": "stdout",
     "output_type": "stream",
     "text": [
      "Epoch 1030 loss:  0.30761117303940166\n",
      "Epoch 1030 precision:  0.9093571428571429\n"
     ]
    },
    {
     "name": "stderr",
     "output_type": "stream",
     "text": [
      " 42%|████▏     | 1041/2500 [26:15<37:53,  1.56s/it]"
     ]
    },
    {
     "name": "stdout",
     "output_type": "stream",
     "text": [
      "Epoch 1040 loss:  0.3064928787956545\n",
      "Epoch 1040 precision:  0.9097142857142857\n"
     ]
    },
    {
     "name": "stderr",
     "output_type": "stream",
     "text": [
      " 42%|████▏     | 1051/2500 [26:31<37:00,  1.53s/it]"
     ]
    },
    {
     "name": "stdout",
     "output_type": "stream",
     "text": [
      "Epoch 1050 loss:  0.305388349339724\n",
      "Epoch 1050 precision:  0.91\n"
     ]
    },
    {
     "name": "stderr",
     "output_type": "stream",
     "text": [
      " 42%|████▏     | 1061/2500 [26:47<37:42,  1.57s/it]"
     ]
    },
    {
     "name": "stdout",
     "output_type": "stream",
     "text": [
      "Epoch 1060 loss:  0.30429728773497927\n",
      "Epoch 1060 precision:  0.9102857142857143\n"
     ]
    },
    {
     "name": "stderr",
     "output_type": "stream",
     "text": [
      " 43%|████▎     | 1071/2500 [27:02<37:40,  1.58s/it]"
     ]
    },
    {
     "name": "stdout",
     "output_type": "stream",
     "text": [
      "Epoch 1070 loss:  0.30321940486405063\n",
      "Epoch 1070 precision:  0.9105535714285714\n"
     ]
    },
    {
     "name": "stderr",
     "output_type": "stream",
     "text": [
      " 43%|████▎     | 1081/2500 [27:18<37:00,  1.56s/it]"
     ]
    },
    {
     "name": "stdout",
     "output_type": "stream",
     "text": [
      "Epoch 1080 loss:  0.30215441910687824\n",
      "Epoch 1080 precision:  0.9109464285714286\n"
     ]
    },
    {
     "name": "stderr",
     "output_type": "stream",
     "text": [
      " 44%|████▎     | 1091/2500 [27:33<36:06,  1.54s/it]"
     ]
    },
    {
     "name": "stdout",
     "output_type": "stream",
     "text": [
      "Epoch 1090 loss:  0.30110205605108387\n",
      "Epoch 1090 precision:  0.911375\n"
     ]
    },
    {
     "name": "stderr",
     "output_type": "stream",
     "text": [
      " 44%|████▍     | 1101/2500 [27:49<37:01,  1.59s/it]"
     ]
    },
    {
     "name": "stdout",
     "output_type": "stream",
     "text": [
      "Epoch 1100 loss:  0.300062048230781\n",
      "Epoch 1100 precision:  0.9116607142857143\n"
     ]
    },
    {
     "name": "stderr",
     "output_type": "stream",
     "text": [
      " 44%|████▍     | 1111/2500 [28:05<35:31,  1.53s/it]"
     ]
    },
    {
     "name": "stdout",
     "output_type": "stream",
     "text": [
      "Epoch 1110 loss:  0.2990341348903461\n",
      "Epoch 1110 precision:  0.9118571428571428\n"
     ]
    },
    {
     "name": "stderr",
     "output_type": "stream",
     "text": [
      " 45%|████▍     | 1121/2500 [28:20<36:26,  1.59s/it]"
     ]
    },
    {
     "name": "stdout",
     "output_type": "stream",
     "text": [
      "Epoch 1120 loss:  0.2980180617700736\n",
      "Epoch 1120 precision:  0.9121785714285714\n"
     ]
    },
    {
     "name": "stderr",
     "output_type": "stream",
     "text": [
      " 45%|████▌     | 1131/2500 [28:36<35:29,  1.56s/it]"
     ]
    },
    {
     "name": "stdout",
     "output_type": "stream",
     "text": [
      "Epoch 1130 loss:  0.2970135809110147\n",
      "Epoch 1130 precision:  0.9123571428571429\n"
     ]
    },
    {
     "name": "stderr",
     "output_type": "stream",
     "text": [
      " 46%|████▌     | 1141/2500 [28:52<36:11,  1.60s/it]"
     ]
    },
    {
     "name": "stdout",
     "output_type": "stream",
     "text": [
      "Epoch 1140 loss:  0.2960204504766313\n",
      "Epoch 1140 precision:  0.9127857142857143\n"
     ]
    },
    {
     "name": "stderr",
     "output_type": "stream",
     "text": [
      " 46%|████▌     | 1151/2500 [29:08<35:02,  1.56s/it]"
     ]
    },
    {
     "name": "stdout",
     "output_type": "stream",
     "text": [
      "Epoch 1150 loss:  0.29503843458918966\n",
      "Epoch 1150 precision:  0.9131428571428571\n"
     ]
    },
    {
     "name": "stderr",
     "output_type": "stream",
     "text": [
      " 46%|████▋     | 1161/2500 [29:23<35:09,  1.58s/it]"
     ]
    },
    {
     "name": "stdout",
     "output_type": "stream",
     "text": [
      "Epoch 1160 loss:  0.2940673031790625\n",
      "Epoch 1160 precision:  0.9133571428571429\n"
     ]
    },
    {
     "name": "stderr",
     "output_type": "stream",
     "text": [
      " 47%|████▋     | 1171/2500 [29:39<35:34,  1.61s/it]"
     ]
    },
    {
     "name": "stdout",
     "output_type": "stream",
     "text": [
      "Epoch 1170 loss:  0.2931068318453108\n",
      "Epoch 1170 precision:  0.9136607142857143\n"
     ]
    },
    {
     "name": "stderr",
     "output_type": "stream",
     "text": [
      " 47%|████▋     | 1181/2500 [29:55<34:57,  1.59s/it]"
     ]
    },
    {
     "name": "stdout",
     "output_type": "stream",
     "text": [
      "Epoch 1180 loss:  0.2921568017260839\n",
      "Epoch 1180 precision:  0.9139285714285714\n"
     ]
    },
    {
     "name": "stderr",
     "output_type": "stream",
     "text": [
      " 48%|████▊     | 1191/2500 [30:11<34:39,  1.59s/it]"
     ]
    },
    {
     "name": "stdout",
     "output_type": "stream",
     "text": [
      "Epoch 1190 loss:  0.2912169993775031\n",
      "Epoch 1190 precision:  0.9142142857142858\n"
     ]
    },
    {
     "name": "stderr",
     "output_type": "stream",
     "text": [
      " 48%|████▊     | 1201/2500 [30:27<34:16,  1.58s/it]"
     ]
    },
    {
     "name": "stdout",
     "output_type": "stream",
     "text": [
      "Epoch 1200 loss:  0.29028721665980406\n",
      "Epoch 1200 precision:  0.9143928571428571\n"
     ]
    },
    {
     "name": "stderr",
     "output_type": "stream",
     "text": [
      " 48%|████▊     | 1211/2500 [30:43<33:48,  1.57s/it]"
     ]
    },
    {
     "name": "stdout",
     "output_type": "stream",
     "text": [
      "Epoch 1210 loss:  0.28936725062960117\n",
      "Epoch 1210 precision:  0.9146785714285715\n"
     ]
    },
    {
     "name": "stderr",
     "output_type": "stream",
     "text": [
      " 49%|████▉     | 1221/2500 [30:59<33:47,  1.58s/it]"
     ]
    },
    {
     "name": "stdout",
     "output_type": "stream",
     "text": [
      "Epoch 1220 loss:  0.28845690343720465\n",
      "Epoch 1220 precision:  0.9149285714285714\n"
     ]
    },
    {
     "name": "stderr",
     "output_type": "stream",
     "text": [
      " 49%|████▉     | 1231/2500 [31:14<32:55,  1.56s/it]"
     ]
    },
    {
     "name": "stdout",
     "output_type": "stream",
     "text": [
      "Epoch 1230 loss:  0.2875559822279944\n",
      "Epoch 1230 precision:  0.9151785714285714\n"
     ]
    },
    {
     "name": "stderr",
     "output_type": "stream",
     "text": [
      " 50%|████▉     | 1241/2500 [31:30<34:21,  1.64s/it]"
     ]
    },
    {
     "name": "stdout",
     "output_type": "stream",
     "text": [
      "Epoch 1240 loss:  0.28666429904691637\n",
      "Epoch 1240 precision:  0.915375\n"
     ]
    },
    {
     "name": "stderr",
     "output_type": "stream",
     "text": [
      " 50%|█████     | 1251/2500 [31:46<33:08,  1.59s/it]"
     ]
    },
    {
     "name": "stdout",
     "output_type": "stream",
     "text": [
      "Epoch 1250 loss:  0.2857816707452322\n",
      "Epoch 1250 precision:  0.9155714285714286\n"
     ]
    },
    {
     "name": "stderr",
     "output_type": "stream",
     "text": [
      " 50%|█████     | 1261/2500 [32:02<32:37,  1.58s/it]"
     ]
    },
    {
     "name": "stdout",
     "output_type": "stream",
     "text": [
      "Epoch 1260 loss:  0.28490791888872735\n",
      "Epoch 1260 precision:  0.91575\n"
     ]
    },
    {
     "name": "stderr",
     "output_type": "stream",
     "text": [
      " 51%|█████     | 1271/2500 [32:18<32:04,  1.57s/it]"
     ]
    },
    {
     "name": "stdout",
     "output_type": "stream",
     "text": [
      "Epoch 1270 loss:  0.2840428696666591\n",
      "Epoch 1270 precision:  0.9161428571428571\n"
     ]
    },
    {
     "name": "stderr",
     "output_type": "stream",
     "text": [
      " 51%|█████     | 1281/2500 [32:34<32:19,  1.59s/it]"
     ]
    },
    {
     "name": "stdout",
     "output_type": "stream",
     "text": [
      "Epoch 1280 loss:  0.28318635380080837\n",
      "Epoch 1280 precision:  0.9164642857142857\n"
     ]
    },
    {
     "name": "stderr",
     "output_type": "stream",
     "text": [
      " 52%|█████▏    | 1291/2500 [32:49<31:39,  1.57s/it]"
     ]
    },
    {
     "name": "stdout",
     "output_type": "stream",
     "text": [
      "Epoch 1290 loss:  0.28233820645409885\n",
      "Epoch 1290 precision:  0.9166607142857143\n"
     ]
    },
    {
     "name": "stderr",
     "output_type": "stream",
     "text": [
      " 52%|█████▏    | 1301/2500 [33:05<31:14,  1.56s/it]"
     ]
    },
    {
     "name": "stdout",
     "output_type": "stream",
     "text": [
      "Epoch 1300 loss:  0.2814982671383329\n",
      "Epoch 1300 precision:  0.9168214285714286\n"
     ]
    },
    {
     "name": "stderr",
     "output_type": "stream",
     "text": [
      " 52%|█████▏    | 1311/2500 [33:21<31:31,  1.59s/it]"
     ]
    },
    {
     "name": "stdout",
     "output_type": "stream",
     "text": [
      "Epoch 1310 loss:  0.28066637962070334\n",
      "Epoch 1310 precision:  0.9170178571428571\n"
     ]
    },
    {
     "name": "stderr",
     "output_type": "stream",
     "text": [
      " 53%|█████▎    | 1321/2500 [33:36<31:01,  1.58s/it]"
     ]
    },
    {
     "name": "stdout",
     "output_type": "stream",
     "text": [
      "Epoch 1320 loss:  0.2798423918288301\n",
      "Epoch 1320 precision:  0.91725\n"
     ]
    },
    {
     "name": "stderr",
     "output_type": "stream",
     "text": [
      " 53%|█████▎    | 1331/2500 [33:53<31:25,  1.61s/it]"
     ]
    },
    {
     "name": "stdout",
     "output_type": "stream",
     "text": [
      "Epoch 1330 loss:  0.279026155754177\n",
      "Epoch 1330 precision:  0.9175\n"
     ]
    },
    {
     "name": "stderr",
     "output_type": "stream",
     "text": [
      " 54%|█████▎    | 1341/2500 [34:08<30:46,  1.59s/it]"
     ]
    },
    {
     "name": "stdout",
     "output_type": "stream",
     "text": [
      "Epoch 1340 loss:  0.27821752735378447\n",
      "Epoch 1340 precision:  0.9178571428571428\n"
     ]
    },
    {
     "name": "stderr",
     "output_type": "stream",
     "text": [
      " 54%|█████▍    | 1351/2500 [34:24<29:52,  1.56s/it]"
     ]
    },
    {
     "name": "stdout",
     "output_type": "stream",
     "text": [
      "Epoch 1350 loss:  0.27741636645034556\n",
      "Epoch 1350 precision:  0.9180892857142857\n"
     ]
    },
    {
     "name": "stderr",
     "output_type": "stream",
     "text": [
      " 54%|█████▍    | 1361/2500 [34:40<29:49,  1.57s/it]"
     ]
    },
    {
     "name": "stdout",
     "output_type": "stream",
     "text": [
      "Epoch 1360 loss:  0.2766225366307237\n",
      "Epoch 1360 precision:  0.9183035714285714\n"
     ]
    },
    {
     "name": "stderr",
     "output_type": "stream",
     "text": [
      " 55%|█████▍    | 1371/2500 [34:56<30:10,  1.60s/it]"
     ]
    },
    {
     "name": "stdout",
     "output_type": "stream",
     "text": [
      "Epoch 1370 loss:  0.2758359051430765\n",
      "Epoch 1370 precision:  0.9185357142857142\n"
     ]
    },
    {
     "name": "stderr",
     "output_type": "stream",
     "text": [
      " 55%|█████▌    | 1381/2500 [35:11<29:21,  1.57s/it]"
     ]
    },
    {
     "name": "stdout",
     "output_type": "stream",
     "text": [
      "Epoch 1380 loss:  0.2750563427928083\n",
      "Epoch 1380 precision:  0.9187857142857143\n"
     ]
    },
    {
     "name": "stderr",
     "output_type": "stream",
     "text": [
      " 56%|█████▌    | 1391/2500 [35:27<28:49,  1.56s/it]"
     ]
    },
    {
     "name": "stdout",
     "output_type": "stream",
     "text": [
      "Epoch 1390 loss:  0.27428372383762256\n",
      "Epoch 1390 precision:  0.9190357142857143\n"
     ]
    },
    {
     "name": "stderr",
     "output_type": "stream",
     "text": [
      " 56%|█████▌    | 1401/2500 [35:43<29:37,  1.62s/it]"
     ]
    },
    {
     "name": "stdout",
     "output_type": "stream",
     "text": [
      "Epoch 1400 loss:  0.273517925881988\n",
      "Epoch 1400 precision:  0.91925\n"
     ]
    },
    {
     "name": "stderr",
     "output_type": "stream",
     "text": [
      " 56%|█████▋    | 1411/2500 [35:59<28:54,  1.59s/it]"
     ]
    },
    {
     "name": "stdout",
     "output_type": "stream",
     "text": [
      "Epoch 1410 loss:  0.2727588297713684\n",
      "Epoch 1410 precision:  0.9194821428571428\n"
     ]
    },
    {
     "name": "stderr",
     "output_type": "stream",
     "text": [
      " 57%|█████▋    | 1421/2500 [36:16<29:35,  1.65s/it]"
     ]
    },
    {
     "name": "stdout",
     "output_type": "stream",
     "text": [
      "Epoch 1420 loss:  0.2720063194865975\n",
      "Epoch 1420 precision:  0.9197857142857143\n"
     ]
    },
    {
     "name": "stderr",
     "output_type": "stream",
     "text": [
      " 57%|█████▋    | 1431/2500 [36:31<28:04,  1.58s/it]"
     ]
    },
    {
     "name": "stdout",
     "output_type": "stream",
     "text": [
      "Epoch 1430 loss:  0.2712602820388097\n",
      "Epoch 1430 precision:  0.9199285714285714\n"
     ]
    },
    {
     "name": "stderr",
     "output_type": "stream",
     "text": [
      " 58%|█████▊    | 1441/2500 [36:47<27:26,  1.55s/it]"
     ]
    },
    {
     "name": "stdout",
     "output_type": "stream",
     "text": [
      "Epoch 1440 loss:  0.2705206073653517\n",
      "Epoch 1440 precision:  0.9201785714285714\n"
     ]
    },
    {
     "name": "stderr",
     "output_type": "stream",
     "text": [
      " 58%|█████▊    | 1451/2500 [37:03<27:28,  1.57s/it]"
     ]
    },
    {
     "name": "stdout",
     "output_type": "stream",
     "text": [
      "Epoch 1450 loss:  0.26978718822712733\n",
      "Epoch 1450 precision:  0.9203928571428571\n"
     ]
    },
    {
     "name": "stderr",
     "output_type": "stream",
     "text": [
      " 58%|█████▊    | 1461/2500 [37:18<27:06,  1.57s/it]"
     ]
    },
    {
     "name": "stdout",
     "output_type": "stream",
     "text": [
      "Epoch 1460 loss:  0.26905992010782237\n",
      "Epoch 1460 precision:  0.9205357142857142\n"
     ]
    },
    {
     "name": "stderr",
     "output_type": "stream",
     "text": [
      " 59%|█████▉    | 1471/2500 [37:34<26:57,  1.57s/it]"
     ]
    },
    {
     "name": "stdout",
     "output_type": "stream",
     "text": [
      "Epoch 1470 loss:  0.2683387011154667\n",
      "Epoch 1470 precision:  0.9207678571428571\n"
     ]
    },
    {
     "name": "stderr",
     "output_type": "stream",
     "text": [
      " 59%|█████▉    | 1481/2500 [37:50<27:06,  1.60s/it]"
     ]
    },
    {
     "name": "stdout",
     "output_type": "stream",
     "text": [
      "Epoch 1480 loss:  0.26762343188677246\n",
      "Epoch 1480 precision:  0.9210357142857143\n"
     ]
    },
    {
     "name": "stderr",
     "output_type": "stream",
     "text": [
      " 60%|█████▉    | 1491/2500 [38:06<26:24,  1.57s/it]"
     ]
    },
    {
     "name": "stdout",
     "output_type": "stream",
     "text": [
      "Epoch 1490 loss:  0.26691401549466875\n",
      "Epoch 1490 precision:  0.9212678571428572\n"
     ]
    },
    {
     "name": "stderr",
     "output_type": "stream",
     "text": [
      " 60%|██████    | 1501/2500 [38:21<26:04,  1.57s/it]"
     ]
    },
    {
     "name": "stdout",
     "output_type": "stream",
     "text": [
      "Epoch 1500 loss:  0.2662103573594165\n",
      "Epoch 1500 precision:  0.9215357142857142\n"
     ]
    },
    {
     "name": "stderr",
     "output_type": "stream",
     "text": [
      " 60%|██████    | 1511/2500 [38:37<25:39,  1.56s/it]"
     ]
    },
    {
     "name": "stdout",
     "output_type": "stream",
     "text": [
      "Epoch 1510 loss:  0.2655123651636413\n",
      "Epoch 1510 precision:  0.9218035714285714\n"
     ]
    },
    {
     "name": "stderr",
     "output_type": "stream",
     "text": [
      " 61%|██████    | 1521/2500 [38:53<25:38,  1.57s/it]"
     ]
    },
    {
     "name": "stdout",
     "output_type": "stream",
     "text": [
      "Epoch 1520 loss:  0.2648199487715655\n",
      "Epoch 1520 precision:  0.9219821428571429\n"
     ]
    },
    {
     "name": "stderr",
     "output_type": "stream",
     "text": [
      " 61%|██████    | 1531/2500 [39:08<25:17,  1.57s/it]"
     ]
    },
    {
     "name": "stdout",
     "output_type": "stream",
     "text": [
      "Epoch 1530 loss:  0.26413302015265155\n",
      "Epoch 1530 precision:  0.922125\n"
     ]
    },
    {
     "name": "stderr",
     "output_type": "stream",
     "text": [
      " 62%|██████▏   | 1541/2500 [39:24<25:05,  1.57s/it]"
     ]
    },
    {
     "name": "stdout",
     "output_type": "stream",
     "text": [
      "Epoch 1540 loss:  0.2634514933097994\n",
      "Epoch 1540 precision:  0.9222857142857143\n"
     ]
    },
    {
     "name": "stderr",
     "output_type": "stream",
     "text": [
      " 62%|██████▏   | 1551/2500 [5:09:11<1279:15:17, 4852.81s/it]"
     ]
    },
    {
     "name": "stdout",
     "output_type": "stream",
     "text": [
      "Epoch 1550 loss:  0.26277528421215784\n",
      "Epoch 1550 precision:  0.9225178571428572\n"
     ]
    },
    {
     "name": "stderr",
     "output_type": "stream",
     "text": [
      " 62%|██████▏   | 1561/2500 [5:09:28<36:09:45, 138.64s/it]   "
     ]
    },
    {
     "name": "stdout",
     "output_type": "stream",
     "text": [
      "Epoch 1560 loss:  0.26210431073253243\n",
      "Epoch 1560 precision:  0.9226785714285715\n"
     ]
    },
    {
     "name": "stderr",
     "output_type": "stream",
     "text": [
      " 63%|██████▎   | 1571/2500 [5:09:43<1:23:42,  5.41s/it]  "
     ]
    },
    {
     "name": "stdout",
     "output_type": "stream",
     "text": [
      "Epoch 1570 loss:  0.26143849258930013\n",
      "Epoch 1570 precision:  0.9228035714285714\n"
     ]
    },
    {
     "name": "stderr",
     "output_type": "stream",
     "text": [
      " 63%|██████▎   | 1581/2500 [5:09:58<23:46,  1.55s/it]  "
     ]
    },
    {
     "name": "stdout",
     "output_type": "stream",
     "text": [
      "Epoch 1580 loss:  0.26077775129266023\n",
      "Epoch 1580 precision:  0.9229642857142857\n"
     ]
    },
    {
     "name": "stderr",
     "output_type": "stream",
     "text": [
      " 64%|██████▎   | 1591/2500 [5:10:12<21:01,  1.39s/it]"
     ]
    },
    {
     "name": "stdout",
     "output_type": "stream",
     "text": [
      "Epoch 1590 loss:  0.26012201009499325\n",
      "Epoch 1590 precision:  0.9231785714285714\n"
     ]
    },
    {
     "name": "stderr",
     "output_type": "stream",
     "text": [
      " 64%|██████▍   | 1601/2500 [5:10:26<20:41,  1.38s/it]"
     ]
    },
    {
     "name": "stdout",
     "output_type": "stream",
     "text": [
      "Epoch 1600 loss:  0.2594711939450439\n",
      "Epoch 1600 precision:  0.9233214285714286\n"
     ]
    },
    {
     "name": "stderr",
     "output_type": "stream",
     "text": [
      " 64%|██████▍   | 1611/2500 [5:10:40<20:12,  1.36s/it]"
     ]
    },
    {
     "name": "stdout",
     "output_type": "stream",
     "text": [
      "Epoch 1610 loss:  0.25882522944559855\n",
      "Epoch 1610 precision:  0.9234464285714286\n"
     ]
    },
    {
     "name": "stderr",
     "output_type": "stream",
     "text": [
      " 65%|██████▍   | 1621/2500 [5:10:55<21:35,  1.47s/it]"
     ]
    },
    {
     "name": "stdout",
     "output_type": "stream",
     "text": [
      "Epoch 1620 loss:  0.25818404481429647\n",
      "Epoch 1620 precision:  0.923625\n"
     ]
    },
    {
     "name": "stderr",
     "output_type": "stream",
     "text": [
      " 65%|██████▌   | 1631/2500 [5:11:08<19:53,  1.37s/it]"
     ]
    },
    {
     "name": "stdout",
     "output_type": "stream",
     "text": [
      "Epoch 1630 loss:  0.25754756984719623\n",
      "Epoch 1630 precision:  0.9238392857142858\n"
     ]
    },
    {
     "name": "stderr",
     "output_type": "stream",
     "text": [
      " 66%|██████▌   | 1641/2500 [5:11:22<19:46,  1.38s/it]"
     ]
    },
    {
     "name": "stdout",
     "output_type": "stream",
     "text": [
      "Epoch 1640 loss:  0.25691573588471234\n",
      "Epoch 1640 precision:  0.9240714285714285\n"
     ]
    },
    {
     "name": "stderr",
     "output_type": "stream",
     "text": [
      " 66%|██████▌   | 1651/2500 [5:11:36<19:14,  1.36s/it]"
     ]
    },
    {
     "name": "stdout",
     "output_type": "stream",
     "text": [
      "Epoch 1650 loss:  0.25628847577953595\n",
      "Epoch 1650 precision:  0.9243392857142857\n"
     ]
    },
    {
     "name": "stderr",
     "output_type": "stream",
     "text": [
      " 66%|██████▋   | 1661/2500 [5:11:50<19:12,  1.37s/it]"
     ]
    },
    {
     "name": "stdout",
     "output_type": "stream",
     "text": [
      "Epoch 1660 loss:  0.2556657238661753\n",
      "Epoch 1660 precision:  0.9245357142857142\n"
     ]
    },
    {
     "name": "stderr",
     "output_type": "stream",
     "text": [
      " 67%|██████▋   | 1671/2500 [5:12:04<19:00,  1.38s/it]"
     ]
    },
    {
     "name": "stdout",
     "output_type": "stream",
     "text": [
      "Epoch 1670 loss:  0.25504741593176655\n",
      "Epoch 1670 precision:  0.924625\n"
     ]
    },
    {
     "name": "stderr",
     "output_type": "stream",
     "text": [
      " 67%|██████▋   | 1681/2500 [5:12:17<18:50,  1.38s/it]"
     ]
    },
    {
     "name": "stdout",
     "output_type": "stream",
     "text": [
      "Epoch 1680 loss:  0.25443348918784076\n",
      "Epoch 1680 precision:  0.9249107142857143\n"
     ]
    },
    {
     "name": "stderr",
     "output_type": "stream",
     "text": [
      " 68%|██████▊   | 1691/2500 [5:12:31<18:28,  1.37s/it]"
     ]
    },
    {
     "name": "stdout",
     "output_type": "stream",
     "text": [
      "Epoch 1690 loss:  0.25382388224276403\n",
      "Epoch 1690 precision:  0.9251607142857143\n"
     ]
    },
    {
     "name": "stderr",
     "output_type": "stream",
     "text": [
      " 68%|██████▊   | 1701/2500 [5:12:45<18:09,  1.36s/it]"
     ]
    },
    {
     "name": "stdout",
     "output_type": "stream",
     "text": [
      "Epoch 1700 loss:  0.2532185350746092\n",
      "Epoch 1700 precision:  0.9251428571428572\n"
     ]
    },
    {
     "name": "stderr",
     "output_type": "stream",
     "text": [
      " 68%|██████▊   | 1711/2500 [5:12:59<18:06,  1.38s/it]"
     ]
    },
    {
     "name": "stdout",
     "output_type": "stream",
     "text": [
      "Epoch 1710 loss:  0.25261738900425357\n",
      "Epoch 1710 precision:  0.9252321428571428\n"
     ]
    },
    {
     "name": "stderr",
     "output_type": "stream",
     "text": [
      " 69%|██████▉   | 1721/2500 [5:13:13<18:54,  1.46s/it]"
     ]
    },
    {
     "name": "stdout",
     "output_type": "stream",
     "text": [
      "Epoch 1720 loss:  0.2520203866685431\n",
      "Epoch 1720 precision:  0.9255357142857142\n"
     ]
    },
    {
     "name": "stderr",
     "output_type": "stream",
     "text": [
      " 69%|██████▉   | 1731/2500 [5:13:27<17:40,  1.38s/it]"
     ]
    },
    {
     "name": "stdout",
     "output_type": "stream",
     "text": [
      "Epoch 1730 loss:  0.2514274719933978\n",
      "Epoch 1730 precision:  0.9256964285714285\n"
     ]
    },
    {
     "name": "stderr",
     "output_type": "stream",
     "text": [
      " 70%|██████▉   | 1741/2500 [5:13:40<17:29,  1.38s/it]"
     ]
    },
    {
     "name": "stdout",
     "output_type": "stream",
     "text": [
      "Epoch 1740 loss:  0.25083859016677496\n",
      "Epoch 1740 precision:  0.9258035714285714\n"
     ]
    },
    {
     "name": "stderr",
     "output_type": "stream",
     "text": [
      " 70%|███████   | 1751/2500 [5:13:54<17:05,  1.37s/it]"
     ]
    },
    {
     "name": "stdout",
     "output_type": "stream",
     "text": [
      "Epoch 1750 loss:  0.25025368761143907\n",
      "Epoch 1750 precision:  0.925875\n"
     ]
    },
    {
     "name": "stderr",
     "output_type": "stream",
     "text": [
      " 70%|███████   | 1761/2500 [5:14:08<16:55,  1.37s/it]"
     ]
    },
    {
     "name": "stdout",
     "output_type": "stream",
     "text": [
      "Epoch 1760 loss:  0.24967271195751584\n",
      "Epoch 1760 precision:  0.926\n"
     ]
    },
    {
     "name": "stderr",
     "output_type": "stream",
     "text": [
      " 71%|███████   | 1771/2500 [5:14:22<16:41,  1.37s/it]"
     ]
    },
    {
     "name": "stdout",
     "output_type": "stream",
     "text": [
      "Epoch 1770 loss:  0.24909561201484282\n",
      "Epoch 1770 precision:  0.9261071428571429\n"
     ]
    },
    {
     "name": "stderr",
     "output_type": "stream",
     "text": [
      " 71%|███████   | 1781/2500 [5:14:35<16:22,  1.37s/it]"
     ]
    },
    {
     "name": "stdout",
     "output_type": "stream",
     "text": [
      "Epoch 1780 loss:  0.24852233774513516\n",
      "Epoch 1780 precision:  0.9262142857142858\n"
     ]
    },
    {
     "name": "stderr",
     "output_type": "stream",
     "text": [
      " 72%|███████▏  | 1791/2500 [5:14:49<16:22,  1.39s/it]"
     ]
    },
    {
     "name": "stdout",
     "output_type": "stream",
     "text": [
      "Epoch 1790 loss:  0.24795284023402062\n",
      "Epoch 1790 precision:  0.9265178571428572\n"
     ]
    },
    {
     "name": "stderr",
     "output_type": "stream",
     "text": [
      " 72%|███████▏  | 1801/2500 [5:15:03<16:09,  1.39s/it]"
     ]
    },
    {
     "name": "stdout",
     "output_type": "stream",
     "text": [
      "Epoch 1800 loss:  0.24738707166299265\n",
      "Epoch 1800 precision:  0.9267678571428571\n"
     ]
    },
    {
     "name": "stderr",
     "output_type": "stream",
     "text": [
      " 72%|███████▏  | 1811/2500 [5:15:17<16:03,  1.40s/it]"
     ]
    },
    {
     "name": "stdout",
     "output_type": "stream",
     "text": [
      "Epoch 1810 loss:  0.24682498528135227\n",
      "Epoch 1810 precision:  0.9269285714285714\n"
     ]
    },
    {
     "name": "stderr",
     "output_type": "stream",
     "text": [
      " 73%|███████▎  | 1821/2500 [5:15:31<15:28,  1.37s/it]"
     ]
    },
    {
     "name": "stdout",
     "output_type": "stream",
     "text": [
      "Epoch 1820 loss:  0.2462665353782017\n",
      "Epoch 1820 precision:  0.9271428571428572\n"
     ]
    },
    {
     "name": "stderr",
     "output_type": "stream",
     "text": [
      " 73%|███████▎  | 1831/2500 [5:15:46<16:21,  1.47s/it]"
     ]
    },
    {
     "name": "stdout",
     "output_type": "stream",
     "text": [
      "Epoch 1830 loss:  0.24571167725456272\n",
      "Epoch 1830 precision:  0.9273392857142857\n"
     ]
    },
    {
     "name": "stderr",
     "output_type": "stream",
     "text": [
      " 74%|███████▎  | 1841/2500 [5:16:01<18:33,  1.69s/it]"
     ]
    },
    {
     "name": "stdout",
     "output_type": "stream",
     "text": [
      "Epoch 1840 loss:  0.24516036719568182\n",
      "Epoch 1840 precision:  0.9275178571428572\n"
     ]
    },
    {
     "name": "stderr",
     "output_type": "stream",
     "text": [
      " 74%|███████▍  | 1851/2500 [5:16:16<15:24,  1.42s/it]"
     ]
    },
    {
     "name": "stdout",
     "output_type": "stream",
     "text": [
      "Epoch 1850 loss:  0.24461256244358534\n",
      "Epoch 1850 precision:  0.9277142857142857\n"
     ]
    },
    {
     "name": "stderr",
     "output_type": "stream",
     "text": [
      " 74%|███████▍  | 1861/2500 [5:16:30<14:43,  1.38s/it]"
     ]
    },
    {
     "name": "stdout",
     "output_type": "stream",
     "text": [
      "Epoch 1860 loss:  0.24406822116993765\n",
      "Epoch 1860 precision:  0.9278928571428572\n"
     ]
    },
    {
     "name": "stderr",
     "output_type": "stream",
     "text": [
      " 75%|███████▍  | 1871/2500 [5:16:44<14:51,  1.42s/it]"
     ]
    },
    {
     "name": "stdout",
     "output_type": "stream",
     "text": [
      "Epoch 1870 loss:  0.24352730244925025\n",
      "Epoch 1870 precision:  0.9281071428571429\n"
     ]
    },
    {
     "name": "stderr",
     "output_type": "stream",
     "text": [
      " 75%|███████▌  | 1881/2500 [5:16:58<14:25,  1.40s/it]"
     ]
    },
    {
     "name": "stdout",
     "output_type": "stream",
     "text": [
      "Epoch 1880 loss:  0.24298976623248014\n",
      "Epoch 1880 precision:  0.9283035714285715\n"
     ]
    },
    {
     "name": "stderr",
     "output_type": "stream",
     "text": [
      " 76%|███████▌  | 1891/2500 [5:17:12<14:11,  1.40s/it]"
     ]
    },
    {
     "name": "stdout",
     "output_type": "stream",
     "text": [
      "Epoch 1890 loss:  0.2424555733210487\n",
      "Epoch 1890 precision:  0.928375\n"
     ]
    },
    {
     "name": "stderr",
     "output_type": "stream",
     "text": [
      " 76%|███████▌  | 1901/2500 [5:17:26<13:46,  1.38s/it]"
     ]
    },
    {
     "name": "stdout",
     "output_type": "stream",
     "text": [
      "Epoch 1900 loss:  0.24192468534130865\n",
      "Epoch 1900 precision:  0.9284821428571428\n"
     ]
    },
    {
     "name": "stderr",
     "output_type": "stream",
     "text": [
      " 76%|███████▋  | 1911/2500 [5:17:40<13:24,  1.37s/it]"
     ]
    },
    {
     "name": "stdout",
     "output_type": "stream",
     "text": [
      "Epoch 1910 loss:  0.24139706471947267\n",
      "Epoch 1910 precision:  0.9286785714285715\n"
     ]
    },
    {
     "name": "stderr",
     "output_type": "stream",
     "text": [
      " 77%|███████▋  | 1921/2500 [5:17:54<13:27,  1.39s/it]"
     ]
    },
    {
     "name": "stdout",
     "output_type": "stream",
     "text": [
      "Epoch 1920 loss:  0.24087267465702214\n",
      "Epoch 1920 precision:  0.9290535714285715\n"
     ]
    },
    {
     "name": "stderr",
     "output_type": "stream",
     "text": [
      " 77%|███████▋  | 1931/2500 [5:18:08<13:09,  1.39s/it]"
     ]
    },
    {
     "name": "stdout",
     "output_type": "stream",
     "text": [
      "Epoch 1930 loss:  0.2403514791066045\n",
      "Epoch 1930 precision:  0.9292678571428571\n"
     ]
    },
    {
     "name": "stderr",
     "output_type": "stream",
     "text": [
      " 78%|███████▊  | 1941/2500 [5:18:22<12:51,  1.38s/it]"
     ]
    },
    {
     "name": "stdout",
     "output_type": "stream",
     "text": [
      "Epoch 1940 loss:  0.23983344274842458\n",
      "Epoch 1940 precision:  0.9293392857142857\n"
     ]
    },
    {
     "name": "stderr",
     "output_type": "stream",
     "text": [
      " 78%|███████▊  | 1951/2500 [5:18:36<12:32,  1.37s/it]"
     ]
    },
    {
     "name": "stdout",
     "output_type": "stream",
     "text": [
      "Epoch 1950 loss:  0.23931853096714087\n",
      "Epoch 1950 precision:  0.9295714285714286\n"
     ]
    },
    {
     "name": "stderr",
     "output_type": "stream",
     "text": [
      " 78%|███████▊  | 1961/2500 [5:18:49<12:25,  1.38s/it]"
     ]
    },
    {
     "name": "stdout",
     "output_type": "stream",
     "text": [
      "Epoch 1960 loss:  0.238806709829268\n",
      "Epoch 1960 precision:  0.9297678571428571\n"
     ]
    },
    {
     "name": "stderr",
     "output_type": "stream",
     "text": [
      " 79%|███████▉  | 1971/2500 [5:19:03<12:12,  1.38s/it]"
     ]
    },
    {
     "name": "stdout",
     "output_type": "stream",
     "text": [
      "Epoch 1970 loss:  0.23829794606109483\n",
      "Epoch 1970 precision:  0.9298928571428572\n"
     ]
    },
    {
     "name": "stderr",
     "output_type": "stream",
     "text": [
      " 79%|███████▉  | 1981/2500 [5:19:17<12:19,  1.42s/it]"
     ]
    },
    {
     "name": "stdout",
     "output_type": "stream",
     "text": [
      "Epoch 1980 loss:  0.2377922070271243\n",
      "Epoch 1980 precision:  0.9301071428571429\n"
     ]
    },
    {
     "name": "stderr",
     "output_type": "stream",
     "text": [
      " 80%|███████▉  | 1991/2500 [5:19:31<11:33,  1.36s/it]"
     ]
    },
    {
     "name": "stdout",
     "output_type": "stream",
     "text": [
      "Epoch 1990 loss:  0.23728946070904347\n",
      "Epoch 1990 precision:  0.9303928571428571\n"
     ]
    },
    {
     "name": "stderr",
     "output_type": "stream",
     "text": [
      " 80%|████████  | 2001/2500 [5:19:45<11:28,  1.38s/it]"
     ]
    },
    {
     "name": "stdout",
     "output_type": "stream",
     "text": [
      "Epoch 2000 loss:  0.23678967568523368\n",
      "Epoch 2000 precision:  0.9304821428571428\n"
     ]
    },
    {
     "name": "stderr",
     "output_type": "stream",
     "text": [
      " 80%|████████  | 2011/2500 [5:19:58<11:09,  1.37s/it]"
     ]
    },
    {
     "name": "stdout",
     "output_type": "stream",
     "text": [
      "Epoch 2010 loss:  0.2362928211108316\n",
      "Epoch 2010 precision:  0.9306785714285715\n"
     ]
    },
    {
     "name": "stderr",
     "output_type": "stream",
     "text": [
      " 81%|████████  | 2021/2500 [5:20:12<10:56,  1.37s/it]"
     ]
    },
    {
     "name": "stdout",
     "output_type": "stream",
     "text": [
      "Epoch 2020 loss:  0.23579886669835273\n",
      "Epoch 2020 precision:  0.9307142857142857\n"
     ]
    },
    {
     "name": "stderr",
     "output_type": "stream",
     "text": [
      " 81%|████████  | 2031/2500 [5:20:26<10:45,  1.38s/it]"
     ]
    },
    {
     "name": "stdout",
     "output_type": "stream",
     "text": [
      "Epoch 2030 loss:  0.2353077826988891\n",
      "Epoch 2030 precision:  0.9308214285714286\n"
     ]
    },
    {
     "name": "stderr",
     "output_type": "stream",
     "text": [
      " 82%|████████▏ | 2041/2500 [5:20:40<10:30,  1.37s/it]"
     ]
    },
    {
     "name": "stdout",
     "output_type": "stream",
     "text": [
      "Epoch 2040 loss:  0.23481953988389398\n",
      "Epoch 2040 precision:  0.9309642857142857\n"
     ]
    },
    {
     "name": "stderr",
     "output_type": "stream",
     "text": [
      " 82%|████████▏ | 2051/2500 [5:20:53<10:14,  1.37s/it]"
     ]
    },
    {
     "name": "stdout",
     "output_type": "stream",
     "text": [
      "Epoch 2050 loss:  0.23433410952756323\n",
      "Epoch 2050 precision:  0.9311785714285714\n"
     ]
    },
    {
     "name": "stderr",
     "output_type": "stream",
     "text": [
      " 82%|████████▏ | 2061/2500 [5:21:07<10:00,  1.37s/it]"
     ]
    },
    {
     "name": "stdout",
     "output_type": "stream",
     "text": [
      "Epoch 2060 loss:  0.2338514633898251\n",
      "Epoch 2060 precision:  0.9313392857142857\n"
     ]
    },
    {
     "name": "stderr",
     "output_type": "stream",
     "text": [
      " 83%|████████▎ | 2071/2500 [5:21:21<09:53,  1.38s/it]"
     ]
    },
    {
     "name": "stdout",
     "output_type": "stream",
     "text": [
      "Epoch 2070 loss:  0.23337157369994485\n",
      "Epoch 2070 precision:  0.9314107142857143\n"
     ]
    },
    {
     "name": "stderr",
     "output_type": "stream",
     "text": [
      " 83%|████████▎ | 2081/2500 [5:21:35<09:34,  1.37s/it]"
     ]
    },
    {
     "name": "stdout",
     "output_type": "stream",
     "text": [
      "Epoch 2080 loss:  0.23289441314075343\n",
      "Epoch 2080 precision:  0.9315357142857142\n"
     ]
    },
    {
     "name": "stderr",
     "output_type": "stream",
     "text": [
      " 84%|████████▎ | 2091/2500 [5:21:49<09:23,  1.38s/it]"
     ]
    },
    {
     "name": "stdout",
     "output_type": "stream",
     "text": [
      "Epoch 2090 loss:  0.2324199548334998\n",
      "Epoch 2090 precision:  0.9315892857142857\n"
     ]
    },
    {
     "name": "stderr",
     "output_type": "stream",
     "text": [
      " 84%|████████▍ | 2101/2500 [5:22:02<09:06,  1.37s/it]"
     ]
    },
    {
     "name": "stdout",
     "output_type": "stream",
     "text": [
      "Epoch 2100 loss:  0.2319481723233338\n",
      "Epoch 2100 precision:  0.9317857142857143\n"
     ]
    },
    {
     "name": "stderr",
     "output_type": "stream",
     "text": [
      " 84%|████████▍ | 2111/2500 [5:22:16<09:00,  1.39s/it]"
     ]
    },
    {
     "name": "stdout",
     "output_type": "stream",
     "text": [
      "Epoch 2110 loss:  0.23147903956541152\n",
      "Epoch 2110 precision:  0.9319285714285714\n"
     ]
    },
    {
     "name": "stderr",
     "output_type": "stream",
     "text": [
      " 85%|████████▍ | 2121/2500 [5:22:30<08:41,  1.38s/it]"
     ]
    },
    {
     "name": "stdout",
     "output_type": "stream",
     "text": [
      "Epoch 2120 loss:  0.23101253091162277\n",
      "Epoch 2120 precision:  0.9320535714285715\n"
     ]
    },
    {
     "name": "stderr",
     "output_type": "stream",
     "text": [
      " 85%|████████▌ | 2131/2500 [5:22:44<08:23,  1.36s/it]"
     ]
    },
    {
     "name": "stdout",
     "output_type": "stream",
     "text": [
      "Epoch 2130 loss:  0.23054862109793134\n",
      "Epoch 2130 precision:  0.9321607142857142\n"
     ]
    },
    {
     "name": "stderr",
     "output_type": "stream",
     "text": [
      " 86%|████████▌ | 2141/2500 [5:22:57<08:21,  1.40s/it]"
     ]
    },
    {
     "name": "stdout",
     "output_type": "stream",
     "text": [
      "Epoch 2140 loss:  0.23008728523231475\n",
      "Epoch 2140 precision:  0.93225\n"
     ]
    },
    {
     "name": "stderr",
     "output_type": "stream",
     "text": [
      " 86%|████████▌ | 2151/2500 [5:23:11<08:01,  1.38s/it]"
     ]
    },
    {
     "name": "stdout",
     "output_type": "stream",
     "text": [
      "Epoch 2150 loss:  0.22962849878329233\n",
      "Epoch 2150 precision:  0.9324107142857143\n"
     ]
    },
    {
     "name": "stderr",
     "output_type": "stream",
     "text": [
      " 86%|████████▋ | 2161/2500 [5:23:25<07:44,  1.37s/it]"
     ]
    },
    {
     "name": "stdout",
     "output_type": "stream",
     "text": [
      "Epoch 2160 loss:  0.22917223756901983\n",
      "Epoch 2160 precision:  0.9325892857142857\n"
     ]
    },
    {
     "name": "stderr",
     "output_type": "stream",
     "text": [
      " 87%|████████▋ | 2171/2500 [5:23:39<07:31,  1.37s/it]"
     ]
    },
    {
     "name": "stdout",
     "output_type": "stream",
     "text": [
      "Epoch 2170 loss:  0.22871847774693088\n",
      "Epoch 2170 precision:  0.932625\n"
     ]
    },
    {
     "name": "stderr",
     "output_type": "stream",
     "text": [
      " 87%|████████▋ | 2181/2500 [5:23:52<07:14,  1.36s/it]"
     ]
    },
    {
     "name": "stdout",
     "output_type": "stream",
     "text": [
      "Epoch 2180 loss:  0.2282671958039028\n",
      "Epoch 2180 precision:  0.9326964285714285\n"
     ]
    },
    {
     "name": "stderr",
     "output_type": "stream",
     "text": [
      " 88%|████████▊ | 2191/2500 [5:24:06<07:01,  1.37s/it]"
     ]
    },
    {
     "name": "stdout",
     "output_type": "stream",
     "text": [
      "Epoch 2190 loss:  0.22781836854691528\n",
      "Epoch 2190 precision:  0.9327857142857143\n"
     ]
    },
    {
     "name": "stderr",
     "output_type": "stream",
     "text": [
      " 88%|████████▊ | 2201/2500 [5:24:20<06:46,  1.36s/it]"
     ]
    },
    {
     "name": "stdout",
     "output_type": "stream",
     "text": [
      "Epoch 2200 loss:  0.22737197309417567\n",
      "Epoch 2200 precision:  0.932875\n"
     ]
    },
    {
     "name": "stderr",
     "output_type": "stream",
     "text": [
      " 88%|████████▊ | 2211/2500 [5:24:34<06:33,  1.36s/it]"
     ]
    },
    {
     "name": "stdout",
     "output_type": "stream",
     "text": [
      "Epoch 2210 loss:  0.22692798686667615\n",
      "Epoch 2210 precision:  0.9329464285714286\n"
     ]
    },
    {
     "name": "stderr",
     "output_type": "stream",
     "text": [
      " 89%|████████▉ | 2221/2500 [5:24:47<06:22,  1.37s/it]"
     ]
    },
    {
     "name": "stdout",
     "output_type": "stream",
     "text": [
      "Epoch 2220 loss:  0.2264863875801506\n",
      "Epoch 2220 precision:  0.9330892857142857\n"
     ]
    },
    {
     "name": "stderr",
     "output_type": "stream",
     "text": [
      " 89%|████████▉ | 2231/2500 [5:25:01<06:08,  1.37s/it]"
     ]
    },
    {
     "name": "stdout",
     "output_type": "stream",
     "text": [
      "Epoch 2230 loss:  0.22604715323739438\n",
      "Epoch 2230 precision:  0.93325\n"
     ]
    },
    {
     "name": "stderr",
     "output_type": "stream",
     "text": [
      " 90%|████████▉ | 2241/2500 [5:25:15<06:00,  1.39s/it]"
     ]
    },
    {
     "name": "stdout",
     "output_type": "stream",
     "text": [
      "Epoch 2240 loss:  0.22561026212091112\n",
      "Epoch 2240 precision:  0.9333214285714285\n"
     ]
    },
    {
     "name": "stderr",
     "output_type": "stream",
     "text": [
      " 90%|█████████ | 2251/2500 [5:25:29<05:40,  1.37s/it]"
     ]
    },
    {
     "name": "stdout",
     "output_type": "stream",
     "text": [
      "Epoch 2250 loss:  0.22517569278585214\n",
      "Epoch 2250 precision:  0.9335\n"
     ]
    },
    {
     "name": "stderr",
     "output_type": "stream",
     "text": [
      " 90%|█████████ | 2261/2500 [5:25:43<05:35,  1.40s/it]"
     ]
    },
    {
     "name": "stdout",
     "output_type": "stream",
     "text": [
      "Epoch 2260 loss:  0.22474342405321232\n",
      "Epoch 2260 precision:  0.9335892857142857\n"
     ]
    },
    {
     "name": "stderr",
     "output_type": "stream",
     "text": [
      " 91%|█████████ | 2271/2500 [5:25:56<05:14,  1.37s/it]"
     ]
    },
    {
     "name": "stdout",
     "output_type": "stream",
     "text": [
      "Epoch 2270 loss:  0.2243134350032484\n",
      "Epoch 2270 precision:  0.9336785714285715\n"
     ]
    },
    {
     "name": "stderr",
     "output_type": "stream",
     "text": [
      " 91%|█████████ | 2281/2500 [5:26:10<04:59,  1.37s/it]"
     ]
    },
    {
     "name": "stdout",
     "output_type": "stream",
     "text": [
      "Epoch 2280 loss:  0.22388570496909244\n",
      "Epoch 2280 precision:  0.9336964285714285\n"
     ]
    },
    {
     "name": "stderr",
     "output_type": "stream",
     "text": [
      " 92%|█████████▏| 2291/2500 [5:26:24<04:50,  1.39s/it]"
     ]
    },
    {
     "name": "stdout",
     "output_type": "stream",
     "text": [
      "Epoch 2290 loss:  0.22346021353052958\n",
      "Epoch 2290 precision:  0.9338214285714286\n"
     ]
    },
    {
     "name": "stderr",
     "output_type": "stream",
     "text": [
      " 92%|█████████▏| 2301/2500 [5:26:38<04:33,  1.37s/it]"
     ]
    },
    {
     "name": "stdout",
     "output_type": "stream",
     "text": [
      "Epoch 2300 loss:  0.2230369405079173\n",
      "Epoch 2300 precision:  0.9339107142857143\n"
     ]
    },
    {
     "name": "stderr",
     "output_type": "stream",
     "text": [
      " 92%|█████████▏| 2311/2500 [5:26:51<04:19,  1.37s/it]"
     ]
    },
    {
     "name": "stdout",
     "output_type": "stream",
     "text": [
      "Epoch 2310 loss:  0.2226158659562284\n",
      "Epoch 2310 precision:  0.9339821428571429\n"
     ]
    },
    {
     "name": "stderr",
     "output_type": "stream",
     "text": [
      " 93%|█████████▎| 2321/2500 [5:27:05<04:08,  1.39s/it]"
     ]
    },
    {
     "name": "stdout",
     "output_type": "stream",
     "text": [
      "Epoch 2320 loss:  0.22219697015920087\n",
      "Epoch 2320 precision:  0.9340714285714286\n"
     ]
    },
    {
     "name": "stderr",
     "output_type": "stream",
     "text": [
      " 93%|█████████▎| 2331/2500 [5:27:19<03:55,  1.39s/it]"
     ]
    },
    {
     "name": "stdout",
     "output_type": "stream",
     "text": [
      "Epoch 2330 loss:  0.2217802336235849\n",
      "Epoch 2330 precision:  0.9342321428571428\n"
     ]
    },
    {
     "name": "stderr",
     "output_type": "stream",
     "text": [
      " 94%|█████████▎| 2341/2500 [5:27:33<03:41,  1.39s/it]"
     ]
    },
    {
     "name": "stdout",
     "output_type": "stream",
     "text": [
      "Epoch 2340 loss:  0.22136563707348206\n",
      "Epoch 2340 precision:  0.9343928571428571\n"
     ]
    },
    {
     "name": "stderr",
     "output_type": "stream",
     "text": [
      " 94%|█████████▍| 2351/2500 [5:27:47<03:22,  1.36s/it]"
     ]
    },
    {
     "name": "stdout",
     "output_type": "stream",
     "text": [
      "Epoch 2350 loss:  0.22095316144477273\n",
      "Epoch 2350 precision:  0.9345714285714286\n"
     ]
    },
    {
     "name": "stderr",
     "output_type": "stream",
     "text": [
      " 94%|█████████▍| 2361/2500 [5:28:01<03:12,  1.39s/it]"
     ]
    },
    {
     "name": "stdout",
     "output_type": "stream",
     "text": [
      "Epoch 2360 loss:  0.22054278787963674\n",
      "Epoch 2360 precision:  0.9347857142857143\n"
     ]
    },
    {
     "name": "stderr",
     "output_type": "stream",
     "text": [
      " 95%|█████████▍| 2371/2500 [5:28:14<02:57,  1.38s/it]"
     ]
    },
    {
     "name": "stdout",
     "output_type": "stream",
     "text": [
      "Epoch 2370 loss:  0.22013449772116914\n",
      "Epoch 2370 precision:  0.935\n"
     ]
    },
    {
     "name": "stderr",
     "output_type": "stream",
     "text": [
      " 95%|█████████▌| 2381/2500 [5:28:28<02:44,  1.38s/it]"
     ]
    },
    {
     "name": "stdout",
     "output_type": "stream",
     "text": [
      "Epoch 2380 loss:  0.2197282725081\n",
      "Epoch 2380 precision:  0.9350714285714286\n"
     ]
    },
    {
     "name": "stderr",
     "output_type": "stream",
     "text": [
      " 96%|█████████▌| 2391/2500 [5:28:42<02:29,  1.37s/it]"
     ]
    },
    {
     "name": "stdout",
     "output_type": "stream",
     "text": [
      "Epoch 2390 loss:  0.2193240939696278\n",
      "Epoch 2390 precision:  0.9351071428571428\n"
     ]
    },
    {
     "name": "stderr",
     "output_type": "stream",
     "text": [
      " 96%|█████████▌| 2401/2500 [5:28:56<02:16,  1.38s/it]"
     ]
    },
    {
     "name": "stdout",
     "output_type": "stream",
     "text": [
      "Epoch 2400 loss:  0.2189219440203744\n",
      "Epoch 2400 precision:  0.9352142857142857\n"
     ]
    },
    {
     "name": "stderr",
     "output_type": "stream",
     "text": [
      " 96%|█████████▋| 2411/2500 [5:29:11<02:28,  1.66s/it]"
     ]
    },
    {
     "name": "stdout",
     "output_type": "stream",
     "text": [
      "Epoch 2410 loss:  0.218521804755476\n",
      "Epoch 2410 precision:  0.93525\n"
     ]
    },
    {
     "name": "stderr",
     "output_type": "stream",
     "text": [
      " 97%|█████████▋| 2421/2500 [5:29:26<01:51,  1.42s/it]"
     ]
    },
    {
     "name": "stdout",
     "output_type": "stream",
     "text": [
      "Epoch 2420 loss:  0.218123658445815\n",
      "Epoch 2420 precision:  0.9353035714285715\n"
     ]
    },
    {
     "name": "stderr",
     "output_type": "stream",
     "text": [
      " 97%|█████████▋| 2431/2500 [5:29:40<01:35,  1.38s/it]"
     ]
    },
    {
     "name": "stdout",
     "output_type": "stream",
     "text": [
      "Epoch 2430 loss:  0.2177274875334093\n",
      "Epoch 2430 precision:  0.9354642857142857\n"
     ]
    },
    {
     "name": "stderr",
     "output_type": "stream",
     "text": [
      " 98%|█████████▊| 2441/2500 [5:29:54<01:23,  1.41s/it]"
     ]
    },
    {
     "name": "stdout",
     "output_type": "stream",
     "text": [
      "Epoch 2440 loss:  0.21733327462696386\n",
      "Epoch 2440 precision:  0.9355535714285714\n"
     ]
    },
    {
     "name": "stderr",
     "output_type": "stream",
     "text": [
      " 98%|█████████▊| 2451/2500 [5:30:08<01:07,  1.39s/it]"
     ]
    },
    {
     "name": "stdout",
     "output_type": "stream",
     "text": [
      "Epoch 2450 loss:  0.21694100249759593\n",
      "Epoch 2450 precision:  0.9356071428571429\n"
     ]
    },
    {
     "name": "stderr",
     "output_type": "stream",
     "text": [
      " 98%|█████████▊| 2461/2500 [5:30:22<00:54,  1.39s/it]"
     ]
    },
    {
     "name": "stdout",
     "output_type": "stream",
     "text": [
      "Epoch 2460 loss:  0.2165506540747409\n",
      "Epoch 2460 precision:  0.93575\n"
     ]
    },
    {
     "name": "stderr",
     "output_type": "stream",
     "text": [
      " 99%|█████████▉| 2471/2500 [5:30:36<00:40,  1.39s/it]"
     ]
    },
    {
     "name": "stdout",
     "output_type": "stream",
     "text": [
      "Epoch 2470 loss:  0.21616221244224795\n",
      "Epoch 2470 precision:  0.9357857142857143\n"
     ]
    },
    {
     "name": "stderr",
     "output_type": "stream",
     "text": [
      " 99%|█████████▉| 2481/2500 [5:30:50<00:26,  1.41s/it]"
     ]
    },
    {
     "name": "stdout",
     "output_type": "stream",
     "text": [
      "Epoch 2480 loss:  0.21577566083467126\n",
      "Epoch 2480 precision:  0.9358928571428572\n"
     ]
    },
    {
     "name": "stderr",
     "output_type": "stream",
     "text": [
      "100%|█████████▉| 2491/2500 [5:31:04<00:12,  1.39s/it]"
     ]
    },
    {
     "name": "stdout",
     "output_type": "stream",
     "text": [
      "Epoch 2490 loss:  0.21539098263376424\n",
      "Epoch 2490 precision:  0.9359285714285714\n"
     ]
    },
    {
     "name": "stderr",
     "output_type": "stream",
     "text": [
      "100%|██████████| 2500/2500 [5:31:17<00:00,  1.46s/it]\n"
     ]
    }
   ],
   "source": [
    "n_h = 64\n",
    "nn = NeuralNetwork(X_train, y_train, n_h)\n",
    "\n",
    "loss_conv, prec_conv = [], []\n",
    "for i in tqdm(range(2500)):\n",
    "    scores = nn.train(X_train, y_train)\n",
    "    if (i % 10 == 0):\n",
    "        print(\"Epoch\", i, \"loss: \", scores['loss'])\n",
    "        print(\"Epoch\", i, \"precision: \", scores['prec'])\n",
    "        loss_conv.append(scores['loss'])\n",
    "        prec_conv.append(scores['prec'])"
   ]
  },
  {
   "cell_type": "code",
   "execution_count": 4,
   "metadata": {},
   "outputs": [
    {
     "name": "stdout",
     "output_type": "stream",
     "text": [
      "Epoch 2499 loss:  0.4099303133587895\n",
      "Epoch 2499 precision:  0.8744285714285714\n"
     ]
    }
   ],
   "source": [
    "scores = nn.test(X_test, y_test)\n",
    "print(\"Epoch\", i, \"loss: \", scores['loss'])\n",
    "print(\"Epoch\", i, \"precision: \", scores['prec'])"
   ]
  },
  {
   "cell_type": "markdown",
   "metadata": {},
   "source": [
    "#### With one hidden layer, we observed normal behaviour for training and already good scores for classificatio on the test dataset! Probably the neural network could have been trained longer before overfitting.This hypothesis could have been tested in comparing classification scores on the test dataset after various number of epochs. \n",
    "\n",
    "#### However, because we train on the full dataset each time, we could not do that. The standard improvement would have been to have a train method decomposing the data set in many batches for a lower learning rate...\n",
    "\n",
    "#### Similarly, the above code could be refactored to allow for arbitrary number of layers."
   ]
  },
  {
   "cell_type": "code",
   "execution_count": 20,
   "metadata": {},
   "outputs": [
    {
     "data": {
      "image/png": "[encoded data removed]",
      "text/plain": [
       "<matplotlib.figure.Figure at 0x7f8ccdb7ccf8>"
      ]
     },
     "metadata": {
      "needs_background": "light"
     },
     "output_type": "display_data"
    }
   ],
   "source": [
    "plt.subplot(2, 1, 1)\n",
    "plt.title('Precision and Loss during training')\n",
    "plt.plot(prec_conv)\n",
    "plt.ylabel('Precision')\n",
    "plt.subplot(2, 1, 2)\n",
    "plt.plot(loss_conv)\n",
    "plt.ylabel('Loss');"
   ]
  },
  {
   "cell_type": "markdown",
   "metadata": {},
   "source": [
    "### Spam Base Dataset "
   ]
  },
  {
   "cell_type": "code",
   "execution_count": 5,
   "metadata": {},
   "outputs": [],
   "source": [
    "# https://archive.ics.uci.edu/ml/machine-learning-databases/spambase/\n",
    "data = []\n",
    "f = open('data/spambase.data', \"r\")\n",
    "data = f.readlines()\n",
    "np.random.shuffle(data)\n",
    "f.close()\n",
    "\n",
    "X = np.array(list(map(lambda d: [float(x) for x in d[:-1].split(',')[:-1]], data)))\n",
    "to_class = lambda x: np.array([1, 0]) if x==0 else np.array([0, 1])\n",
    "y = np.array(list(map(lambda d: to_class(int(d[:-1].split(',')[-1])), data)))\n",
    "n_data, train_frac = X.shape[0], 0.8\n",
    "\n",
    "# massaging data into compatible formats as:\n",
    "m = int(n_data*train_frac)\n",
    "X_train, y_train = X[:m].T, y[:m].T\n",
    "X_test, y_test = X[m:].T, y[m:].T"
   ]
  },
  {
   "cell_type": "code",
   "execution_count": 8,
   "metadata": {},
   "outputs": [
    {
     "name": "stderr",
     "output_type": "stream",
     "text": [
      "  0%|          | 0/2500 [00:00<?, ?it/s]/root/miniconda3/envs/invoicenet/lib/python3.6/site-packages/ipykernel_launcher.py:3: RuntimeWarning: overflow encountered in exp\n",
      "  This is separate from the ipykernel package so we can avoid doing imports until\n",
      "  0%|          | 2/2500 [00:00<08:26,  4.93it/s]"
     ]
    },
    {
     "name": "stdout",
     "output_type": "stream",
     "text": [
      "Epoch 0 loss:  12.781733817420603\n",
      "Epoch 0 precision:  0.6038043478260869\n"
     ]
    },
    {
     "name": "stderr",
     "output_type": "stream",
     "text": [
      "  0%|          | 12/2500 [00:02<07:42,  5.38it/s]"
     ]
    },
    {
     "name": "stdout",
     "output_type": "stream",
     "text": [
      "Epoch 10 loss:  3.723019904514889\n",
      "Epoch 10 precision:  0.6038043478260869\n"
     ]
    },
    {
     "name": "stderr",
     "output_type": "stream",
     "text": [
      "  1%|          | 22/2500 [00:04<08:03,  5.13it/s]"
     ]
    },
    {
     "name": "stdout",
     "output_type": "stream",
     "text": [
      "Epoch 20 loss:  37.55676530778255\n",
      "Epoch 20 precision:  0.41494565217391305\n"
     ]
    },
    {
     "name": "stderr",
     "output_type": "stream",
     "text": [
      "  1%|▏         | 32/2500 [00:06<07:43,  5.32it/s]"
     ]
    },
    {
     "name": "stdout",
     "output_type": "stream",
     "text": [
      "Epoch 30 loss:  2.8325327662752597\n",
      "Epoch 30 precision:  0.5051630434782609\n"
     ]
    },
    {
     "name": "stderr",
     "output_type": "stream",
     "text": [
      "  2%|▏         | 42/2500 [00:08<07:43,  5.31it/s]"
     ]
    },
    {
     "name": "stdout",
     "output_type": "stream",
     "text": [
      "Epoch 40 loss:  25.128822464922813\n",
      "Epoch 40 precision:  0.6038043478260869\n"
     ]
    },
    {
     "name": "stderr",
     "output_type": "stream",
     "text": [
      "  2%|▏         | 52/2500 [00:10<07:56,  5.14it/s]"
     ]
    },
    {
     "name": "stdout",
     "output_type": "stream",
     "text": [
      "Epoch 50 loss:  1.352351819574663\n",
      "Epoch 50 precision:  0.6220108695652173\n"
     ]
    },
    {
     "name": "stderr",
     "output_type": "stream",
     "text": [
      "  2%|▏         | 61/2500 [00:11<07:53,  5.15it/s]"
     ]
    },
    {
     "name": "stdout",
     "output_type": "stream",
     "text": [
      "Epoch 60 loss:  1.6277976824861236\n",
      "Epoch 60 precision:  0.6141304347826086\n"
     ]
    },
    {
     "name": "stderr",
     "output_type": "stream",
     "text": [
      "  3%|▎         | 72/2500 [00:13<07:44,  5.22it/s]"
     ]
    },
    {
     "name": "stdout",
     "output_type": "stream",
     "text": [
      "Epoch 70 loss:  20.871783037075136\n",
      "Epoch 70 precision:  0.6038043478260869\n"
     ]
    },
    {
     "name": "stderr",
     "output_type": "stream",
     "text": [
      "  3%|▎         | 82/2500 [00:15<07:49,  5.15it/s]"
     ]
    },
    {
     "name": "stdout",
     "output_type": "stream",
     "text": [
      "Epoch 80 loss:  3.8891590825692823\n",
      "Epoch 80 precision:  0.4989130434782609\n"
     ]
    },
    {
     "name": "stderr",
     "output_type": "stream",
     "text": [
      "  4%|▎         | 92/2500 [00:17<07:49,  5.13it/s]"
     ]
    },
    {
     "name": "stdout",
     "output_type": "stream",
     "text": [
      "Epoch 90 loss:  5.081570310565168\n",
      "Epoch 90 precision:  0.49619565217391304\n"
     ]
    },
    {
     "name": "stderr",
     "output_type": "stream",
     "text": [
      "  4%|▍         | 102/2500 [00:19<07:41,  5.19it/s]"
     ]
    },
    {
     "name": "stdout",
     "output_type": "stream",
     "text": [
      "Epoch 100 loss:  23.78920521224997\n",
      "Epoch 100 precision:  0.6038043478260869\n"
     ]
    },
    {
     "name": "stderr",
     "output_type": "stream",
     "text": [
      "  4%|▍         | 111/2500 [00:21<07:53,  5.05it/s]"
     ]
    },
    {
     "name": "stdout",
     "output_type": "stream",
     "text": [
      "Epoch 110 loss:  10.898419404888125\n",
      "Epoch 110 precision:  0.46630434782608693\n"
     ]
    },
    {
     "name": "stderr",
     "output_type": "stream",
     "text": [
      "  5%|▍         | 121/2500 [00:23<07:52,  5.04it/s]"
     ]
    },
    {
     "name": "stdout",
     "output_type": "stream",
     "text": [
      "Epoch 120 loss:  22.60283296863652\n",
      "Epoch 120 precision:  0.6038043478260869\n"
     ]
    },
    {
     "name": "stderr",
     "output_type": "stream",
     "text": [
      "  5%|▌         | 131/2500 [00:25<07:54,  4.99it/s]"
     ]
    },
    {
     "name": "stdout",
     "output_type": "stream",
     "text": [
      "Epoch 130 loss:  1.9042670048529626\n",
      "Epoch 130 precision:  0.6165760869565218\n"
     ]
    },
    {
     "name": "stderr",
     "output_type": "stream",
     "text": [
      "  6%|▌         | 141/2500 [00:27<08:04,  4.87it/s]"
     ]
    },
    {
     "name": "stdout",
     "output_type": "stream",
     "text": [
      "Epoch 140 loss:  24.740073522219703\n",
      "Epoch 140 precision:  0.42527173913043476\n"
     ]
    },
    {
     "name": "stderr",
     "output_type": "stream",
     "text": [
      "  6%|▌         | 151/2500 [00:29<08:07,  4.82it/s]"
     ]
    },
    {
     "name": "stdout",
     "output_type": "stream",
     "text": [
      "Epoch 150 loss:  24.076272814337226\n",
      "Epoch 150 precision:  0.6038043478260869\n"
     ]
    },
    {
     "name": "stderr",
     "output_type": "stream",
     "text": [
      "  6%|▋         | 161/2500 [00:31<08:03,  4.84it/s]"
     ]
    },
    {
     "name": "stdout",
     "output_type": "stream",
     "text": [
      "Epoch 160 loss:  11.693613765953886\n",
      "Epoch 160 precision:  0.46005434782608695\n"
     ]
    },
    {
     "name": "stderr",
     "output_type": "stream",
     "text": [
      "  7%|▋         | 171/2500 [00:34<08:02,  4.82it/s]"
     ]
    },
    {
     "name": "stdout",
     "output_type": "stream",
     "text": [
      "Epoch 170 loss:  1.5774821998181523\n",
      "Epoch 170 precision:  0.6203804347826087\n"
     ]
    },
    {
     "name": "stderr",
     "output_type": "stream",
     "text": [
      "  7%|▋         | 181/2500 [00:36<08:05,  4.77it/s]"
     ]
    },
    {
     "name": "stdout",
     "output_type": "stream",
     "text": [
      "Epoch 180 loss:  24.780736301658997\n",
      "Epoch 180 precision:  0.6038043478260869\n"
     ]
    },
    {
     "name": "stderr",
     "output_type": "stream",
     "text": [
      "  8%|▊         | 191/2500 [00:38<07:55,  4.86it/s]"
     ]
    },
    {
     "name": "stdout",
     "output_type": "stream",
     "text": [
      "Epoch 190 loss:  1.848495253598175\n",
      "Epoch 190 precision:  0.627445652173913\n"
     ]
    },
    {
     "name": "stderr",
     "output_type": "stream",
     "text": [
      "  8%|▊         | 201/2500 [00:40<08:04,  4.74it/s]"
     ]
    },
    {
     "name": "stdout",
     "output_type": "stream",
     "text": [
      "Epoch 200 loss:  7.045698121780963\n",
      "Epoch 200 precision:  0.6038043478260869\n"
     ]
    },
    {
     "name": "stderr",
     "output_type": "stream",
     "text": [
      "  8%|▊         | 211/2500 [00:42<08:01,  4.76it/s]"
     ]
    },
    {
     "name": "stdout",
     "output_type": "stream",
     "text": [
      "Epoch 210 loss:  15.769203625154246\n",
      "Epoch 210 precision:  0.6038043478260869\n"
     ]
    },
    {
     "name": "stderr",
     "output_type": "stream",
     "text": [
      "  9%|▉         | 221/2500 [00:44<08:14,  4.60it/s]"
     ]
    },
    {
     "name": "stdout",
     "output_type": "stream",
     "text": [
      "Epoch 220 loss:  24.41677068594723\n",
      "Epoch 220 precision:  0.6038043478260869\n"
     ]
    },
    {
     "name": "stderr",
     "output_type": "stream",
     "text": [
      "  9%|▉         | 231/2500 [00:46<08:15,  4.58it/s]"
     ]
    },
    {
     "name": "stdout",
     "output_type": "stream",
     "text": [
      "Epoch 230 loss:  1.2191680087436567\n",
      "Epoch 230 precision:  0.53125\n"
     ]
    },
    {
     "name": "stderr",
     "output_type": "stream",
     "text": [
      " 10%|▉         | 241/2500 [00:48<07:46,  4.85it/s]"
     ]
    },
    {
     "name": "stdout",
     "output_type": "stream",
     "text": [
      "Epoch 240 loss:  6.894671043362499\n",
      "Epoch 240 precision:  0.6038043478260869\n"
     ]
    },
    {
     "name": "stderr",
     "output_type": "stream",
     "text": [
      " 10%|█         | 251/2500 [00:51<07:51,  4.77it/s]"
     ]
    },
    {
     "name": "stdout",
     "output_type": "stream",
     "text": [
      "Epoch 250 loss:  0.862395850827661\n",
      "Epoch 250 precision:  0.5616847826086957\n"
     ]
    },
    {
     "name": "stderr",
     "output_type": "stream",
     "text": [
      " 10%|█         | 262/2500 [00:53<07:38,  4.88it/s]"
     ]
    },
    {
     "name": "stdout",
     "output_type": "stream",
     "text": [
      "Epoch 260 loss:  21.0433633419736\n",
      "Epoch 260 precision:  0.6038043478260869\n"
     ]
    },
    {
     "name": "stderr",
     "output_type": "stream",
     "text": [
      " 11%|█         | 271/2500 [00:55<07:47,  4.77it/s]"
     ]
    },
    {
     "name": "stdout",
     "output_type": "stream",
     "text": [
      "Epoch 270 loss:  9.826067342294081\n",
      "Epoch 270 precision:  0.4611413043478261\n"
     ]
    },
    {
     "name": "stderr",
     "output_type": "stream",
     "text": [
      " 11%|█         | 281/2500 [00:57<08:01,  4.61it/s]"
     ]
    },
    {
     "name": "stdout",
     "output_type": "stream",
     "text": [
      "Epoch 280 loss:  12.641866803702749\n",
      "Epoch 280 precision:  0.6038043478260869\n"
     ]
    },
    {
     "name": "stderr",
     "output_type": "stream",
     "text": [
      " 12%|█▏        | 291/2500 [00:59<07:55,  4.65it/s]"
     ]
    },
    {
     "name": "stdout",
     "output_type": "stream",
     "text": [
      "Epoch 290 loss:  21.419025303289402\n",
      "Epoch 290 precision:  0.43125\n"
     ]
    },
    {
     "name": "stderr",
     "output_type": "stream",
     "text": [
      " 12%|█▏        | 301/2500 [01:01<08:24,  4.36it/s]"
     ]
    },
    {
     "name": "stdout",
     "output_type": "stream",
     "text": [
      "Epoch 300 loss:  1.3680367750154812\n",
      "Epoch 300 precision:  0.6168478260869565\n"
     ]
    },
    {
     "name": "stderr",
     "output_type": "stream",
     "text": [
      " 12%|█▏        | 311/2500 [01:04<08:16,  4.41it/s]"
     ]
    },
    {
     "name": "stdout",
     "output_type": "stream",
     "text": [
      "Epoch 310 loss:  19.688435381315966\n",
      "Epoch 310 precision:  0.43369565217391304\n"
     ]
    },
    {
     "name": "stderr",
     "output_type": "stream",
     "text": [
      " 13%|█▎        | 321/2500 [01:06<07:47,  4.66it/s]"
     ]
    },
    {
     "name": "stdout",
     "output_type": "stream",
     "text": [
      "Epoch 320 loss:  10.967104609274317\n",
      "Epoch 320 precision:  0.45543478260869563\n"
     ]
    },
    {
     "name": "stderr",
     "output_type": "stream",
     "text": [
      " 13%|█▎        | 331/2500 [01:08<07:54,  4.57it/s]"
     ]
    },
    {
     "name": "stdout",
     "output_type": "stream",
     "text": [
      "Epoch 330 loss:  19.281106403424662\n",
      "Epoch 330 precision:  0.6038043478260869\n"
     ]
    },
    {
     "name": "stderr",
     "output_type": "stream",
     "text": [
      " 14%|█▎        | 341/2500 [01:10<07:47,  4.62it/s]"
     ]
    },
    {
     "name": "stdout",
     "output_type": "stream",
     "text": [
      "Epoch 340 loss:  3.509340673245299\n",
      "Epoch 340 precision:  0.49972826086956523\n"
     ]
    },
    {
     "name": "stderr",
     "output_type": "stream",
     "text": [
      " 14%|█▍        | 351/2500 [01:12<07:42,  4.65it/s]"
     ]
    },
    {
     "name": "stdout",
     "output_type": "stream",
     "text": [
      "Epoch 350 loss:  19.27040760271603\n",
      "Epoch 350 precision:  0.6038043478260869\n"
     ]
    },
    {
     "name": "stderr",
     "output_type": "stream",
     "text": [
      " 14%|█▍        | 361/2500 [01:14<07:52,  4.52it/s]"
     ]
    },
    {
     "name": "stdout",
     "output_type": "stream",
     "text": [
      "Epoch 360 loss:  0.7906574107251817\n",
      "Epoch 360 precision:  0.6407608695652174\n"
     ]
    },
    {
     "name": "stderr",
     "output_type": "stream",
     "text": [
      " 15%|█▍        | 371/2500 [01:17<07:30,  4.72it/s]"
     ]
    },
    {
     "name": "stdout",
     "output_type": "stream",
     "text": [
      "Epoch 370 loss:  15.102450050484352\n",
      "Epoch 370 precision:  0.6038043478260869\n"
     ]
    },
    {
     "name": "stderr",
     "output_type": "stream",
     "text": [
      " 15%|█▌        | 381/2500 [01:19<07:21,  4.79it/s]"
     ]
    },
    {
     "name": "stdout",
     "output_type": "stream",
     "text": [
      "Epoch 380 loss:  13.720563526840424\n",
      "Epoch 380 precision:  0.6038043478260869\n"
     ]
    },
    {
     "name": "stderr",
     "output_type": "stream",
     "text": [
      " 16%|█▌        | 392/2500 [01:21<06:58,  5.03it/s]"
     ]
    },
    {
     "name": "stdout",
     "output_type": "stream",
     "text": [
      "Epoch 390 loss:  20.869787407108305\n",
      "Epoch 390 precision:  0.6038043478260869\n"
     ]
    },
    {
     "name": "stderr",
     "output_type": "stream",
     "text": [
      " 16%|█▌        | 401/2500 [01:23<07:01,  4.98it/s]"
     ]
    },
    {
     "name": "stdout",
     "output_type": "stream",
     "text": [
      "Epoch 400 loss:  19.822127759818006\n",
      "Epoch 400 precision:  0.6038043478260869\n"
     ]
    },
    {
     "name": "stderr",
     "output_type": "stream",
     "text": [
      " 16%|█▋        | 411/2500 [01:25<07:23,  4.71it/s]"
     ]
    },
    {
     "name": "stdout",
     "output_type": "stream",
     "text": [
      "Epoch 410 loss:  0.8389169079160144\n",
      "Epoch 410 precision:  0.6554347826086957\n"
     ]
    },
    {
     "name": "stderr",
     "output_type": "stream",
     "text": [
      " 17%|█▋        | 421/2500 [01:27<07:24,  4.68it/s]"
     ]
    },
    {
     "name": "stdout",
     "output_type": "stream",
     "text": [
      "Epoch 420 loss:  12.887162955414661\n",
      "Epoch 420 precision:  0.6038043478260869\n"
     ]
    },
    {
     "name": "stderr",
     "output_type": "stream",
     "text": [
      " 17%|█▋        | 431/2500 [01:29<07:24,  4.65it/s]"
     ]
    },
    {
     "name": "stdout",
     "output_type": "stream",
     "text": [
      "Epoch 430 loss:  12.441624932596731\n",
      "Epoch 430 precision:  0.6038043478260869\n"
     ]
    },
    {
     "name": "stderr",
     "output_type": "stream",
     "text": [
      " 18%|█▊        | 441/2500 [01:31<07:23,  4.64it/s]"
     ]
    },
    {
     "name": "stdout",
     "output_type": "stream",
     "text": [
      "Epoch 440 loss:  19.542431699607597\n",
      "Epoch 440 precision:  0.6038043478260869\n"
     ]
    },
    {
     "name": "stderr",
     "output_type": "stream",
     "text": [
      " 18%|█▊        | 451/2500 [01:33<07:19,  4.66it/s]"
     ]
    },
    {
     "name": "stdout",
     "output_type": "stream",
     "text": [
      "Epoch 450 loss:  18.780386929891552\n",
      "Epoch 450 precision:  0.6038043478260869\n"
     ]
    },
    {
     "name": "stderr",
     "output_type": "stream",
     "text": [
      " 18%|█▊        | 461/2500 [01:36<07:20,  4.63it/s]"
     ]
    },
    {
     "name": "stdout",
     "output_type": "stream",
     "text": [
      "Epoch 460 loss:  0.8065541731461382\n",
      "Epoch 460 precision:  0.6394021739130434\n"
     ]
    },
    {
     "name": "stderr",
     "output_type": "stream",
     "text": [
      " 19%|█▉        | 471/2500 [01:38<07:09,  4.72it/s]"
     ]
    },
    {
     "name": "stdout",
     "output_type": "stream",
     "text": [
      "Epoch 470 loss:  8.834574365838781\n",
      "Epoch 470 precision:  0.4573369565217391\n"
     ]
    },
    {
     "name": "stderr",
     "output_type": "stream",
     "text": [
      " 19%|█▉        | 481/2500 [01:40<07:16,  4.63it/s]"
     ]
    },
    {
     "name": "stdout",
     "output_type": "stream",
     "text": [
      "Epoch 480 loss:  14.016395328217131\n",
      "Epoch 480 precision:  0.6038043478260869\n"
     ]
    },
    {
     "name": "stderr",
     "output_type": "stream",
     "text": [
      " 20%|█▉        | 491/2500 [01:42<07:26,  4.50it/s]"
     ]
    },
    {
     "name": "stdout",
     "output_type": "stream",
     "text": [
      "Epoch 490 loss:  15.190664881905256\n",
      "Epoch 490 precision:  0.6038043478260869\n"
     ]
    },
    {
     "name": "stderr",
     "output_type": "stream",
     "text": [
      " 20%|██        | 501/2500 [01:44<07:09,  4.65it/s]"
     ]
    },
    {
     "name": "stdout",
     "output_type": "stream",
     "text": [
      "Epoch 500 loss:  15.23763386484981\n",
      "Epoch 500 precision:  0.6038043478260869\n"
     ]
    },
    {
     "name": "stderr",
     "output_type": "stream",
     "text": [
      " 20%|██        | 511/2500 [01:46<07:03,  4.70it/s]"
     ]
    },
    {
     "name": "stdout",
     "output_type": "stream",
     "text": [
      "Epoch 510 loss:  19.682573511480793\n",
      "Epoch 510 precision:  0.6038043478260869\n"
     ]
    },
    {
     "name": "stderr",
     "output_type": "stream",
     "text": [
      " 21%|██        | 521/2500 [01:48<06:55,  4.77it/s]"
     ]
    },
    {
     "name": "stdout",
     "output_type": "stream",
     "text": [
      "Epoch 520 loss:  18.972723389452376\n",
      "Epoch 520 precision:  0.6038043478260869\n"
     ]
    },
    {
     "name": "stderr",
     "output_type": "stream",
     "text": [
      " 21%|██        | 531/2500 [01:51<06:48,  4.82it/s]"
     ]
    },
    {
     "name": "stdout",
     "output_type": "stream",
     "text": [
      "Epoch 530 loss:  17.473430442542682\n",
      "Epoch 530 precision:  0.4331521739130435\n"
     ]
    },
    {
     "name": "stderr",
     "output_type": "stream",
     "text": [
      " 22%|██▏       | 542/2500 [01:53<07:13,  4.52it/s]"
     ]
    },
    {
     "name": "stdout",
     "output_type": "stream",
     "text": [
      "Epoch 540 loss:  15.507331655288564\n",
      "Epoch 540 precision:  0.4434782608695652\n"
     ]
    },
    {
     "name": "stderr",
     "output_type": "stream",
     "text": [
      " 22%|██▏       | 552/2500 [01:55<07:25,  4.37it/s]"
     ]
    },
    {
     "name": "stdout",
     "output_type": "stream",
     "text": [
      "Epoch 550 loss:  10.996779829188496\n",
      "Epoch 550 precision:  0.45271739130434785\n"
     ]
    },
    {
     "name": "stderr",
     "output_type": "stream",
     "text": [
      " 22%|██▏       | 561/2500 [01:57<07:11,  4.49it/s]"
     ]
    },
    {
     "name": "stdout",
     "output_type": "stream",
     "text": [
      "Epoch 560 loss:  19.146542020465567\n",
      "Epoch 560 precision:  0.43125\n"
     ]
    },
    {
     "name": "stderr",
     "output_type": "stream",
     "text": [
      " 23%|██▎       | 572/2500 [01:59<06:20,  5.07it/s]"
     ]
    },
    {
     "name": "stdout",
     "output_type": "stream",
     "text": [
      "Epoch 570 loss:  8.406893888764987\n",
      "Epoch 570 precision:  0.4595108695652174\n"
     ]
    },
    {
     "name": "stderr",
     "output_type": "stream",
     "text": [
      " 23%|██▎       | 581/2500 [02:01<06:40,  4.79it/s]"
     ]
    },
    {
     "name": "stdout",
     "output_type": "stream",
     "text": [
      "Epoch 580 loss:  1.4802029918564412\n",
      "Epoch 580 precision:  0.6217391304347826\n"
     ]
    },
    {
     "name": "stderr",
     "output_type": "stream",
     "text": [
      " 24%|██▎       | 591/2500 [02:03<06:56,  4.58it/s]"
     ]
    },
    {
     "name": "stdout",
     "output_type": "stream",
     "text": [
      "Epoch 590 loss:  3.324315060692526\n",
      "Epoch 590 precision:  0.6190217391304348\n"
     ]
    },
    {
     "name": "stderr",
     "output_type": "stream",
     "text": [
      " 24%|██▍       | 601/2500 [02:06<06:45,  4.68it/s]"
     ]
    },
    {
     "name": "stdout",
     "output_type": "stream",
     "text": [
      "Epoch 600 loss:  2.396766291088269\n",
      "Epoch 600 precision:  0.6230978260869565\n"
     ]
    },
    {
     "name": "stderr",
     "output_type": "stream",
     "text": [
      " 24%|██▍       | 611/2500 [02:08<06:45,  4.66it/s]"
     ]
    },
    {
     "name": "stdout",
     "output_type": "stream",
     "text": [
      "Epoch 610 loss:  11.79745073261922\n",
      "Epoch 610 precision:  0.6038043478260869\n"
     ]
    },
    {
     "name": "stderr",
     "output_type": "stream",
     "text": [
      " 25%|██▍       | 621/2500 [02:10<06:33,  4.78it/s]"
     ]
    },
    {
     "name": "stdout",
     "output_type": "stream",
     "text": [
      "Epoch 620 loss:  19.045228349007523\n",
      "Epoch 620 precision:  0.6038043478260869\n"
     ]
    },
    {
     "name": "stderr",
     "output_type": "stream",
     "text": [
      " 25%|██▌       | 631/2500 [02:12<06:32,  4.76it/s]"
     ]
    },
    {
     "name": "stdout",
     "output_type": "stream",
     "text": [
      "Epoch 630 loss:  18.483378447448548\n",
      "Epoch 630 precision:  0.6038043478260869\n"
     ]
    },
    {
     "name": "stderr",
     "output_type": "stream",
     "text": [
      " 26%|██▌       | 641/2500 [02:14<06:37,  4.67it/s]"
     ]
    },
    {
     "name": "stdout",
     "output_type": "stream",
     "text": [
      "Epoch 640 loss:  16.789380069506734\n",
      "Epoch 640 precision:  0.43777173913043477\n"
     ]
    },
    {
     "name": "stderr",
     "output_type": "stream",
     "text": [
      " 26%|██▌       | 651/2500 [02:16<06:31,  4.73it/s]"
     ]
    },
    {
     "name": "stdout",
     "output_type": "stream",
     "text": [
      "Epoch 650 loss:  0.8979223636179124\n",
      "Epoch 650 precision:  0.6532608695652173\n"
     ]
    },
    {
     "name": "stderr",
     "output_type": "stream",
     "text": [
      " 26%|██▋       | 661/2500 [02:18<06:28,  4.73it/s]"
     ]
    },
    {
     "name": "stdout",
     "output_type": "stream",
     "text": [
      "Epoch 660 loss:  1.5251264664294983\n",
      "Epoch 660 precision:  0.5461956521739131\n"
     ]
    },
    {
     "name": "stderr",
     "output_type": "stream",
     "text": [
      " 27%|██▋       | 671/2500 [02:20<06:36,  4.62it/s]"
     ]
    },
    {
     "name": "stdout",
     "output_type": "stream",
     "text": [
      "Epoch 670 loss:  1.928786109362689\n",
      "Epoch 670 precision:  0.5445652173913044\n"
     ]
    },
    {
     "name": "stderr",
     "output_type": "stream",
     "text": [
      " 27%|██▋       | 681/2500 [02:23<06:39,  4.56it/s]"
     ]
    },
    {
     "name": "stdout",
     "output_type": "stream",
     "text": [
      "Epoch 680 loss:  1.2036366510354681\n",
      "Epoch 680 precision:  0.5334239130434782\n"
     ]
    },
    {
     "name": "stderr",
     "output_type": "stream",
     "text": [
      " 28%|██▊       | 691/2500 [02:25<06:26,  4.69it/s]"
     ]
    },
    {
     "name": "stdout",
     "output_type": "stream",
     "text": [
      "Epoch 690 loss:  0.9306093007342959\n",
      "Epoch 690 precision:  0.6491847826086956\n"
     ]
    },
    {
     "name": "stderr",
     "output_type": "stream",
     "text": [
      " 28%|██▊       | 701/2500 [02:27<06:27,  4.65it/s]"
     ]
    },
    {
     "name": "stdout",
     "output_type": "stream",
     "text": [
      "Epoch 700 loss:  3.4240479912869586\n",
      "Epoch 700 precision:  0.6190217391304348\n"
     ]
    },
    {
     "name": "stderr",
     "output_type": "stream",
     "text": [
      " 28%|██▊       | 711/2500 [02:29<06:13,  4.79it/s]"
     ]
    },
    {
     "name": "stdout",
     "output_type": "stream",
     "text": [
      "Epoch 710 loss:  19.433102353764127\n",
      "Epoch 710 precision:  0.6038043478260869\n"
     ]
    },
    {
     "name": "stderr",
     "output_type": "stream",
     "text": [
      " 29%|██▉       | 721/2500 [02:31<06:15,  4.74it/s]"
     ]
    },
    {
     "name": "stdout",
     "output_type": "stream",
     "text": [
      "Epoch 720 loss:  19.342228761641206\n",
      "Epoch 720 precision:  0.6038043478260869\n"
     ]
    },
    {
     "name": "stderr",
     "output_type": "stream",
     "text": [
      " 29%|██▉       | 731/2500 [02:33<05:49,  5.06it/s]"
     ]
    },
    {
     "name": "stdout",
     "output_type": "stream",
     "text": [
      "Epoch 730 loss:  19.309418788424903\n",
      "Epoch 730 precision:  0.6038043478260869\n"
     ]
    },
    {
     "name": "stderr",
     "output_type": "stream",
     "text": [
      " 30%|██▉       | 741/2500 [02:35<06:05,  4.81it/s]"
     ]
    },
    {
     "name": "stdout",
     "output_type": "stream",
     "text": [
      "Epoch 740 loss:  18.832906138399608\n",
      "Epoch 740 precision:  0.6038043478260869\n"
     ]
    },
    {
     "name": "stderr",
     "output_type": "stream",
     "text": [
      " 30%|███       | 751/2500 [02:37<06:10,  4.72it/s]"
     ]
    },
    {
     "name": "stdout",
     "output_type": "stream",
     "text": [
      "Epoch 750 loss:  14.828154879412798\n",
      "Epoch 750 precision:  0.6038043478260869\n"
     ]
    },
    {
     "name": "stderr",
     "output_type": "stream",
     "text": [
      " 30%|███       | 761/2500 [02:40<06:12,  4.67it/s]"
     ]
    },
    {
     "name": "stdout",
     "output_type": "stream",
     "text": [
      "Epoch 760 loss:  14.149969668090554\n",
      "Epoch 760 precision:  0.6038043478260869\n"
     ]
    },
    {
     "name": "stderr",
     "output_type": "stream",
     "text": [
      " 31%|███       | 771/2500 [02:42<06:06,  4.72it/s]"
     ]
    },
    {
     "name": "stdout",
     "output_type": "stream",
     "text": [
      "Epoch 770 loss:  15.615760345012523\n",
      "Epoch 770 precision:  0.6038043478260869\n"
     ]
    },
    {
     "name": "stderr",
     "output_type": "stream",
     "text": [
      " 31%|███       | 781/2500 [02:44<06:05,  4.70it/s]"
     ]
    },
    {
     "name": "stdout",
     "output_type": "stream",
     "text": [
      "Epoch 780 loss:  14.055187921111644\n",
      "Epoch 780 precision:  0.6038043478260869\n"
     ]
    },
    {
     "name": "stderr",
     "output_type": "stream",
     "text": [
      " 32%|███▏      | 791/2500 [02:46<05:46,  4.94it/s]"
     ]
    },
    {
     "name": "stdout",
     "output_type": "stream",
     "text": [
      "Epoch 790 loss:  14.971115556878068\n",
      "Epoch 790 precision:  0.6038043478260869\n"
     ]
    },
    {
     "name": "stderr",
     "output_type": "stream",
     "text": [
      " 32%|███▏      | 801/2500 [02:48<05:54,  4.80it/s]"
     ]
    },
    {
     "name": "stdout",
     "output_type": "stream",
     "text": [
      "Epoch 800 loss:  13.381244011372791\n",
      "Epoch 800 precision:  0.6038043478260869\n"
     ]
    },
    {
     "name": "stderr",
     "output_type": "stream",
     "text": [
      " 32%|███▏      | 811/2500 [02:50<05:43,  4.92it/s]"
     ]
    },
    {
     "name": "stdout",
     "output_type": "stream",
     "text": [
      "Epoch 810 loss:  14.374528738624546\n",
      "Epoch 810 precision:  0.6038043478260869\n"
     ]
    },
    {
     "name": "stderr",
     "output_type": "stream",
     "text": [
      " 33%|███▎      | 821/2500 [02:52<05:59,  4.67it/s]"
     ]
    },
    {
     "name": "stdout",
     "output_type": "stream",
     "text": [
      "Epoch 820 loss:  11.660686238958643\n",
      "Epoch 820 precision:  0.6084239130434783\n"
     ]
    },
    {
     "name": "stderr",
     "output_type": "stream",
     "text": [
      " 33%|███▎      | 831/2500 [02:54<05:45,  4.83it/s]"
     ]
    },
    {
     "name": "stdout",
     "output_type": "stream",
     "text": [
      "Epoch 830 loss:  18.946403298088033\n",
      "Epoch 830 precision:  0.4380434782608696\n"
     ]
    },
    {
     "name": "stderr",
     "output_type": "stream",
     "text": [
      " 34%|███▎      | 841/2500 [02:56<05:39,  4.89it/s]"
     ]
    },
    {
     "name": "stdout",
     "output_type": "stream",
     "text": [
      "Epoch 840 loss:  6.810297318745474\n",
      "Epoch 840 precision:  0.4722826086956522\n"
     ]
    },
    {
     "name": "stderr",
     "output_type": "stream",
     "text": [
      " 34%|███▍      | 851/2500 [02:58<05:47,  4.74it/s]"
     ]
    },
    {
     "name": "stdout",
     "output_type": "stream",
     "text": [
      "Epoch 850 loss:  2.1772417969784597\n",
      "Epoch 850 precision:  0.5154891304347826\n"
     ]
    },
    {
     "name": "stderr",
     "output_type": "stream",
     "text": [
      " 34%|███▍      | 861/2500 [03:00<05:49,  4.69it/s]"
     ]
    },
    {
     "name": "stdout",
     "output_type": "stream",
     "text": [
      "Epoch 860 loss:  3.098338884884141\n",
      "Epoch 860 precision:  0.5108695652173914\n"
     ]
    },
    {
     "name": "stderr",
     "output_type": "stream",
     "text": [
      " 35%|███▍      | 871/2500 [03:03<06:55,  3.92it/s]"
     ]
    },
    {
     "name": "stdout",
     "output_type": "stream",
     "text": [
      "Epoch 870 loss:  13.656847260421406\n",
      "Epoch 870 precision:  0.6038043478260869\n"
     ]
    },
    {
     "name": "stderr",
     "output_type": "stream",
     "text": [
      " 35%|███▌      | 881/2500 [03:05<06:19,  4.26it/s]"
     ]
    },
    {
     "name": "stdout",
     "output_type": "stream",
     "text": [
      "Epoch 880 loss:  16.2884749175049\n",
      "Epoch 880 precision:  0.6038043478260869\n"
     ]
    },
    {
     "name": "stderr",
     "output_type": "stream",
     "text": [
      " 36%|███▌      | 891/2500 [03:08<07:26,  3.60it/s]"
     ]
    },
    {
     "name": "stdout",
     "output_type": "stream",
     "text": [
      "Epoch 890 loss:  3.9322276764009563\n",
      "Epoch 890 precision:  0.5328804347826087\n"
     ]
    },
    {
     "name": "stderr",
     "output_type": "stream",
     "text": [
      " 36%|███▌      | 901/2500 [03:10<06:49,  3.91it/s]"
     ]
    },
    {
     "name": "stdout",
     "output_type": "stream",
     "text": [
      "Epoch 900 loss:  12.440295855592451\n",
      "Epoch 900 precision:  0.4519021739130435\n"
     ]
    },
    {
     "name": "stderr",
     "output_type": "stream",
     "text": [
      " 36%|███▋      | 911/2500 [03:13<07:44,  3.42it/s]"
     ]
    },
    {
     "name": "stdout",
     "output_type": "stream",
     "text": [
      "Epoch 910 loss:  4.34147780218106\n",
      "Epoch 910 precision:  0.6192934782608696\n"
     ]
    },
    {
     "name": "stderr",
     "output_type": "stream",
     "text": [
      " 37%|███▋      | 921/2500 [03:16<06:40,  3.94it/s]"
     ]
    },
    {
     "name": "stdout",
     "output_type": "stream",
     "text": [
      "Epoch 920 loss:  17.3009487316618\n",
      "Epoch 920 precision:  0.6038043478260869\n"
     ]
    },
    {
     "name": "stderr",
     "output_type": "stream",
     "text": [
      " 37%|███▋      | 931/2500 [03:18<05:57,  4.39it/s]"
     ]
    },
    {
     "name": "stdout",
     "output_type": "stream",
     "text": [
      "Epoch 930 loss:  4.777402964627703\n",
      "Epoch 930 precision:  0.4861413043478261\n"
     ]
    },
    {
     "name": "stderr",
     "output_type": "stream",
     "text": [
      " 38%|███▊      | 941/2500 [03:20<05:21,  4.85it/s]"
     ]
    },
    {
     "name": "stdout",
     "output_type": "stream",
     "text": [
      "Epoch 940 loss:  4.642890844498932\n",
      "Epoch 940 precision:  0.4956521739130435\n"
     ]
    },
    {
     "name": "stderr",
     "output_type": "stream",
     "text": [
      " 38%|███▊      | 951/2500 [03:22<05:19,  4.85it/s]"
     ]
    },
    {
     "name": "stdout",
     "output_type": "stream",
     "text": [
      "Epoch 950 loss:  4.911104487001582\n",
      "Epoch 950 precision:  0.4861413043478261\n"
     ]
    },
    {
     "name": "stderr",
     "output_type": "stream",
     "text": [
      " 38%|███▊      | 962/2500 [03:24<05:06,  5.01it/s]"
     ]
    },
    {
     "name": "stdout",
     "output_type": "stream",
     "text": [
      "Epoch 960 loss:  5.924348076530332\n",
      "Epoch 960 precision:  0.4722826086956522\n"
     ]
    },
    {
     "name": "stderr",
     "output_type": "stream",
     "text": [
      " 39%|███▉      | 972/2500 [03:26<04:57,  5.14it/s]"
     ]
    },
    {
     "name": "stdout",
     "output_type": "stream",
     "text": [
      "Epoch 970 loss:  6.466713404097218\n",
      "Epoch 970 precision:  0.46875\n"
     ]
    },
    {
     "name": "stderr",
     "output_type": "stream",
     "text": [
      " 39%|███▉      | 982/2500 [03:28<04:54,  5.15it/s]"
     ]
    },
    {
     "name": "stdout",
     "output_type": "stream",
     "text": [
      "Epoch 980 loss:  3.7131881793004724\n",
      "Epoch 980 precision:  0.48994565217391306\n"
     ]
    },
    {
     "name": "stderr",
     "output_type": "stream",
     "text": [
      " 40%|███▉      | 991/2500 [03:30<05:01,  5.01it/s]"
     ]
    },
    {
     "name": "stdout",
     "output_type": "stream",
     "text": [
      "Epoch 990 loss:  19.513462973046032\n",
      "Epoch 990 precision:  0.6038043478260869\n"
     ]
    },
    {
     "name": "stderr",
     "output_type": "stream",
     "text": [
      " 40%|████      | 1001/2500 [03:32<05:08,  4.85it/s]"
     ]
    },
    {
     "name": "stdout",
     "output_type": "stream",
     "text": [
      "Epoch 1000 loss:  19.19027855365256\n",
      "Epoch 1000 precision:  0.6038043478260869\n"
     ]
    },
    {
     "name": "stderr",
     "output_type": "stream",
     "text": [
      " 40%|████      | 1012/2500 [03:34<04:51,  5.10it/s]"
     ]
    },
    {
     "name": "stdout",
     "output_type": "stream",
     "text": [
      "Epoch 1010 loss:  18.784871862791814\n",
      "Epoch 1010 precision:  0.6038043478260869\n"
     ]
    },
    {
     "name": "stderr",
     "output_type": "stream",
     "text": [
      " 41%|████      | 1021/2500 [03:36<04:51,  5.08it/s]"
     ]
    },
    {
     "name": "stdout",
     "output_type": "stream",
     "text": [
      "Epoch 1020 loss:  18.828511927183513\n",
      "Epoch 1020 precision:  0.6038043478260869\n"
     ]
    },
    {
     "name": "stderr",
     "output_type": "stream",
     "text": [
      " 41%|████▏     | 1032/2500 [03:38<04:42,  5.19it/s]"
     ]
    },
    {
     "name": "stdout",
     "output_type": "stream",
     "text": [
      "Epoch 1030 loss:  15.496051079560498\n",
      "Epoch 1030 precision:  0.6038043478260869\n"
     ]
    },
    {
     "name": "stderr",
     "output_type": "stream",
     "text": [
      " 42%|████▏     | 1041/2500 [03:40<05:00,  4.85it/s]"
     ]
    },
    {
     "name": "stdout",
     "output_type": "stream",
     "text": [
      "Epoch 1040 loss:  17.173960366755367\n",
      "Epoch 1040 precision:  0.6038043478260869\n"
     ]
    },
    {
     "name": "stderr",
     "output_type": "stream",
     "text": [
      " 42%|████▏     | 1051/2500 [03:42<05:41,  4.24it/s]"
     ]
    },
    {
     "name": "stdout",
     "output_type": "stream",
     "text": [
      "Epoch 1050 loss:  1.9331864367185738\n",
      "Epoch 1050 precision:  0.49483695652173915\n"
     ]
    },
    {
     "name": "stderr",
     "output_type": "stream",
     "text": [
      " 42%|████▏     | 1062/2500 [03:44<04:43,  5.07it/s]"
     ]
    },
    {
     "name": "stdout",
     "output_type": "stream",
     "text": [
      "Epoch 1060 loss:  2.046508347371058\n",
      "Epoch 1060 precision:  0.5133152173913044\n"
     ]
    },
    {
     "name": "stderr",
     "output_type": "stream",
     "text": [
      " 43%|████▎     | 1071/2500 [03:46<04:52,  4.89it/s]"
     ]
    },
    {
     "name": "stdout",
     "output_type": "stream",
     "text": [
      "Epoch 1070 loss:  13.799979575851905\n",
      "Epoch 1070 precision:  0.4407608695652174\n"
     ]
    },
    {
     "name": "stderr",
     "output_type": "stream",
     "text": [
      " 43%|████▎     | 1082/2500 [03:48<04:38,  5.09it/s]"
     ]
    },
    {
     "name": "stdout",
     "output_type": "stream",
     "text": [
      "Epoch 1080 loss:  11.323495829693625\n",
      "Epoch 1080 precision:  0.44565217391304346\n"
     ]
    },
    {
     "name": "stderr",
     "output_type": "stream",
     "text": [
      " 44%|████▎     | 1091/2500 [03:50<04:40,  5.02it/s]"
     ]
    },
    {
     "name": "stdout",
     "output_type": "stream",
     "text": [
      "Epoch 1090 loss:  1.0186469836534249\n",
      "Epoch 1090 precision:  0.6616847826086957\n"
     ]
    },
    {
     "name": "stderr",
     "output_type": "stream",
     "text": [
      " 44%|████▍     | 1101/2500 [03:52<04:42,  4.95it/s]"
     ]
    },
    {
     "name": "stdout",
     "output_type": "stream",
     "text": [
      "Epoch 1100 loss:  17.190896905707145\n",
      "Epoch 1100 precision:  0.6038043478260869\n"
     ]
    },
    {
     "name": "stderr",
     "output_type": "stream",
     "text": [
      " 44%|████▍     | 1111/2500 [03:54<05:03,  4.58it/s]"
     ]
    },
    {
     "name": "stdout",
     "output_type": "stream",
     "text": [
      "Epoch 1110 loss:  1.2745084943046763\n",
      "Epoch 1110 precision:  0.6372282608695652\n"
     ]
    },
    {
     "name": "stderr",
     "output_type": "stream",
     "text": [
      " 45%|████▍     | 1121/2500 [03:56<04:44,  4.85it/s]"
     ]
    },
    {
     "name": "stdout",
     "output_type": "stream",
     "text": [
      "Epoch 1120 loss:  19.357855530611086\n",
      "Epoch 1120 precision:  0.6038043478260869\n"
     ]
    },
    {
     "name": "stderr",
     "output_type": "stream",
     "text": [
      " 45%|████▌     | 1131/2500 [03:59<04:42,  4.84it/s]"
     ]
    },
    {
     "name": "stdout",
     "output_type": "stream",
     "text": [
      "Epoch 1130 loss:  19.30445301232278\n",
      "Epoch 1130 precision:  0.6038043478260869\n"
     ]
    },
    {
     "name": "stderr",
     "output_type": "stream",
     "text": [
      " 46%|████▌     | 1141/2500 [04:01<04:34,  4.96it/s]"
     ]
    },
    {
     "name": "stdout",
     "output_type": "stream",
     "text": [
      "Epoch 1140 loss:  19.07343576683099\n",
      "Epoch 1140 precision:  0.6038043478260869\n"
     ]
    },
    {
     "name": "stderr",
     "output_type": "stream",
     "text": [
      " 46%|████▌     | 1151/2500 [04:03<04:35,  4.90it/s]"
     ]
    },
    {
     "name": "stdout",
     "output_type": "stream",
     "text": [
      "Epoch 1150 loss:  18.687919370440703\n",
      "Epoch 1150 precision:  0.6038043478260869\n"
     ]
    },
    {
     "name": "stderr",
     "output_type": "stream",
     "text": [
      " 46%|████▋     | 1161/2500 [04:05<04:24,  5.05it/s]"
     ]
    },
    {
     "name": "stdout",
     "output_type": "stream",
     "text": [
      "Epoch 1160 loss:  18.699123526749954\n",
      "Epoch 1160 precision:  0.6038043478260869\n"
     ]
    },
    {
     "name": "stderr",
     "output_type": "stream",
     "text": [
      " 47%|████▋     | 1172/2500 [04:07<04:27,  4.97it/s]"
     ]
    },
    {
     "name": "stdout",
     "output_type": "stream",
     "text": [
      "Epoch 1170 loss:  18.443116931665475\n",
      "Epoch 1170 precision:  0.6038043478260869\n"
     ]
    },
    {
     "name": "stderr",
     "output_type": "stream",
     "text": [
      " 47%|████▋     | 1181/2500 [04:09<04:25,  4.96it/s]"
     ]
    },
    {
     "name": "stdout",
     "output_type": "stream",
     "text": [
      "Epoch 1180 loss:  17.795617233967096\n",
      "Epoch 1180 precision:  0.6040760869565217\n"
     ]
    },
    {
     "name": "stderr",
     "output_type": "stream",
     "text": [
      " 48%|████▊     | 1192/2500 [04:11<04:24,  4.94it/s]"
     ]
    },
    {
     "name": "stdout",
     "output_type": "stream",
     "text": [
      "Epoch 1190 loss:  17.58354607953529\n",
      "Epoch 1190 precision:  0.6040760869565217\n"
     ]
    },
    {
     "name": "stderr",
     "output_type": "stream",
     "text": [
      " 48%|████▊     | 1201/2500 [04:13<04:40,  4.62it/s]"
     ]
    },
    {
     "name": "stdout",
     "output_type": "stream",
     "text": [
      "Epoch 1200 loss:  17.66592739450163\n",
      "Epoch 1200 precision:  0.6038043478260869\n"
     ]
    },
    {
     "name": "stderr",
     "output_type": "stream",
     "text": [
      " 48%|████▊     | 1211/2500 [04:15<04:33,  4.72it/s]"
     ]
    },
    {
     "name": "stdout",
     "output_type": "stream",
     "text": [
      "Epoch 1210 loss:  14.00293148260486\n",
      "Epoch 1210 precision:  0.6119565217391304\n"
     ]
    },
    {
     "name": "stderr",
     "output_type": "stream",
     "text": [
      " 49%|████▉     | 1221/2500 [04:17<04:09,  5.12it/s]"
     ]
    },
    {
     "name": "stdout",
     "output_type": "stream",
     "text": [
      "Epoch 1220 loss:  11.143177534600063\n",
      "Epoch 1220 precision:  0.4394021739130435\n"
     ]
    },
    {
     "name": "stderr",
     "output_type": "stream",
     "text": [
      " 49%|████▉     | 1231/2500 [04:19<04:17,  4.93it/s]"
     ]
    },
    {
     "name": "stdout",
     "output_type": "stream",
     "text": [
      "Epoch 1230 loss:  17.85076153378517\n",
      "Epoch 1230 precision:  0.6040760869565217\n"
     ]
    },
    {
     "name": "stderr",
     "output_type": "stream",
     "text": [
      " 50%|████▉     | 1241/2500 [04:21<04:08,  5.07it/s]"
     ]
    },
    {
     "name": "stdout",
     "output_type": "stream",
     "text": [
      "Epoch 1240 loss:  12.83568844870261\n",
      "Epoch 1240 precision:  0.6154891304347826\n"
     ]
    },
    {
     "name": "stderr",
     "output_type": "stream",
     "text": [
      " 50%|█████     | 1252/2500 [04:23<03:56,  5.28it/s]"
     ]
    },
    {
     "name": "stdout",
     "output_type": "stream",
     "text": [
      "Epoch 1250 loss:  16.53995025454453\n",
      "Epoch 1250 precision:  0.6040760869565217\n"
     ]
    },
    {
     "name": "stderr",
     "output_type": "stream",
     "text": [
      " 50%|█████     | 1262/2500 [04:25<04:03,  5.08it/s]"
     ]
    },
    {
     "name": "stdout",
     "output_type": "stream",
     "text": [
      "Epoch 1260 loss:  2.62954684424318\n",
      "Epoch 1260 precision:  0.4964673913043478\n"
     ]
    },
    {
     "name": "stderr",
     "output_type": "stream",
     "text": [
      " 51%|█████     | 1271/2500 [04:27<04:09,  4.92it/s]"
     ]
    },
    {
     "name": "stdout",
     "output_type": "stream",
     "text": [
      "Epoch 1270 loss:  9.680821560797218\n",
      "Epoch 1270 precision:  0.4519021739130435\n"
     ]
    },
    {
     "name": "stderr",
     "output_type": "stream",
     "text": [
      " 51%|█████▏    | 1282/2500 [04:29<03:50,  5.27it/s]"
     ]
    },
    {
     "name": "stdout",
     "output_type": "stream",
     "text": [
      "Epoch 1280 loss:  0.9351152991514398\n",
      "Epoch 1280 precision:  0.6695652173913044\n"
     ]
    },
    {
     "name": "stderr",
     "output_type": "stream",
     "text": [
      " 52%|█████▏    | 1292/2500 [04:31<03:55,  5.13it/s]"
     ]
    },
    {
     "name": "stdout",
     "output_type": "stream",
     "text": [
      "Epoch 1290 loss:  1.746882648342162\n",
      "Epoch 1290 precision:  0.6339673913043479\n"
     ]
    },
    {
     "name": "stderr",
     "output_type": "stream",
     "text": [
      " 52%|█████▏    | 1302/2500 [04:33<03:55,  5.08it/s]"
     ]
    },
    {
     "name": "stdout",
     "output_type": "stream",
     "text": [
      "Epoch 1300 loss:  1.5251634682903554\n",
      "Epoch 1300 precision:  0.6309782608695652\n"
     ]
    },
    {
     "name": "stderr",
     "output_type": "stream",
     "text": [
      " 52%|█████▏    | 1312/2500 [04:35<03:53,  5.09it/s]"
     ]
    },
    {
     "name": "stdout",
     "output_type": "stream",
     "text": [
      "Epoch 1310 loss:  1.68455579222518\n",
      "Epoch 1310 precision:  0.6385869565217391\n"
     ]
    },
    {
     "name": "stderr",
     "output_type": "stream",
     "text": [
      " 53%|█████▎    | 1321/2500 [04:37<04:04,  4.82it/s]"
     ]
    },
    {
     "name": "stdout",
     "output_type": "stream",
     "text": [
      "Epoch 1320 loss:  1.33102225540927\n",
      "Epoch 1320 precision:  0.6429347826086956\n"
     ]
    },
    {
     "name": "stderr",
     "output_type": "stream",
     "text": [
      " 53%|█████▎    | 1331/2500 [04:39<03:59,  4.88it/s]"
     ]
    },
    {
     "name": "stdout",
     "output_type": "stream",
     "text": [
      "Epoch 1330 loss:  15.061466663171533\n",
      "Epoch 1330 precision:  0.6100543478260869\n"
     ]
    },
    {
     "name": "stderr",
     "output_type": "stream",
     "text": [
      " 54%|█████▎    | 1342/2500 [04:41<03:48,  5.06it/s]"
     ]
    },
    {
     "name": "stdout",
     "output_type": "stream",
     "text": [
      "Epoch 1340 loss:  1.063505215501345\n",
      "Epoch 1340 precision:  0.6627717391304347\n"
     ]
    },
    {
     "name": "stderr",
     "output_type": "stream",
     "text": [
      " 54%|█████▍    | 1352/2500 [04:43<03:43,  5.13it/s]"
     ]
    },
    {
     "name": "stdout",
     "output_type": "stream",
     "text": [
      "Epoch 1350 loss:  1.9871613883061545\n",
      "Epoch 1350 precision:  0.6358695652173914\n"
     ]
    },
    {
     "name": "stderr",
     "output_type": "stream",
     "text": [
      " 54%|█████▍    | 1361/2500 [04:45<03:55,  4.84it/s]"
     ]
    },
    {
     "name": "stdout",
     "output_type": "stream",
     "text": [
      "Epoch 1360 loss:  13.065169340990806\n",
      "Epoch 1360 precision:  0.43967391304347825\n"
     ]
    },
    {
     "name": "stderr",
     "output_type": "stream",
     "text": [
      " 55%|█████▍    | 1372/2500 [04:47<03:39,  5.14it/s]"
     ]
    },
    {
     "name": "stdout",
     "output_type": "stream",
     "text": [
      "Epoch 1370 loss:  17.938543756180323\n",
      "Epoch 1370 precision:  0.6040760869565217\n"
     ]
    },
    {
     "name": "stderr",
     "output_type": "stream",
     "text": [
      " 55%|█████▌    | 1382/2500 [04:49<03:40,  5.08it/s]"
     ]
    },
    {
     "name": "stdout",
     "output_type": "stream",
     "text": [
      "Epoch 1380 loss:  18.745950177366126\n",
      "Epoch 1380 precision:  0.6040760869565217\n"
     ]
    },
    {
     "name": "stderr",
     "output_type": "stream",
     "text": [
      " 56%|█████▌    | 1392/2500 [04:51<03:38,  5.07it/s]"
     ]
    },
    {
     "name": "stdout",
     "output_type": "stream",
     "text": [
      "Epoch 1390 loss:  18.49399440456165\n",
      "Epoch 1390 precision:  0.6038043478260869\n"
     ]
    },
    {
     "name": "stderr",
     "output_type": "stream",
     "text": [
      " 56%|█████▌    | 1401/2500 [04:53<03:49,  4.79it/s]"
     ]
    },
    {
     "name": "stdout",
     "output_type": "stream",
     "text": [
      "Epoch 1400 loss:  10.751599986890628\n",
      "Epoch 1400 precision:  0.6179347826086956\n"
     ]
    },
    {
     "name": "stderr",
     "output_type": "stream",
     "text": [
      " 56%|█████▋    | 1411/2500 [04:55<03:35,  5.05it/s]"
     ]
    },
    {
     "name": "stdout",
     "output_type": "stream",
     "text": [
      "Epoch 1410 loss:  1.7151418518058783\n",
      "Epoch 1410 precision:  0.6459239130434783\n"
     ]
    },
    {
     "name": "stderr",
     "output_type": "stream",
     "text": [
      " 57%|█████▋    | 1421/2500 [04:57<03:44,  4.80it/s]"
     ]
    },
    {
     "name": "stdout",
     "output_type": "stream",
     "text": [
      "Epoch 1420 loss:  13.327189238780251\n",
      "Epoch 1420 precision:  0.6152173913043478\n"
     ]
    },
    {
     "name": "stderr",
     "output_type": "stream",
     "text": [
      " 57%|█████▋    | 1431/2500 [04:59<03:55,  4.53it/s]"
     ]
    },
    {
     "name": "stdout",
     "output_type": "stream",
     "text": [
      "Epoch 1430 loss:  15.435199864702248\n",
      "Epoch 1430 precision:  0.6043478260869565\n"
     ]
    },
    {
     "name": "stderr",
     "output_type": "stream",
     "text": [
      " 58%|█████▊    | 1441/2500 [05:01<04:14,  4.16it/s]"
     ]
    },
    {
     "name": "stdout",
     "output_type": "stream",
     "text": [
      "Epoch 1440 loss:  2.550794645404139\n",
      "Epoch 1440 precision:  0.4885869565217391\n"
     ]
    },
    {
     "name": "stderr",
     "output_type": "stream",
     "text": [
      " 58%|█████▊    | 1451/2500 [05:04<04:37,  3.78it/s]"
     ]
    },
    {
     "name": "stdout",
     "output_type": "stream",
     "text": [
      "Epoch 1450 loss:  17.563004834119827\n",
      "Epoch 1450 precision:  0.6038043478260869\n"
     ]
    },
    {
     "name": "stderr",
     "output_type": "stream",
     "text": [
      " 58%|█████▊    | 1462/2500 [05:06<03:29,  4.96it/s]"
     ]
    },
    {
     "name": "stdout",
     "output_type": "stream",
     "text": [
      "Epoch 1460 loss:  16.242952941925928\n",
      "Epoch 1460 precision:  0.6040760869565217\n"
     ]
    },
    {
     "name": "stderr",
     "output_type": "stream",
     "text": [
      " 59%|█████▉    | 1471/2500 [05:08<03:22,  5.07it/s]"
     ]
    },
    {
     "name": "stdout",
     "output_type": "stream",
     "text": [
      "Epoch 1470 loss:  14.196010670110176\n",
      "Epoch 1470 precision:  0.6046195652173914\n"
     ]
    },
    {
     "name": "stderr",
     "output_type": "stream",
     "text": [
      " 59%|█████▉    | 1481/2500 [05:10<03:38,  4.66it/s]"
     ]
    },
    {
     "name": "stdout",
     "output_type": "stream",
     "text": [
      "Epoch 1480 loss:  1.1175009155460136\n",
      "Epoch 1480 precision:  0.6627717391304347\n"
     ]
    },
    {
     "name": "stderr",
     "output_type": "stream",
     "text": [
      " 60%|█████▉    | 1491/2500 [05:12<03:35,  4.69it/s]"
     ]
    },
    {
     "name": "stdout",
     "output_type": "stream",
     "text": [
      "Epoch 1490 loss:  17.48391960637343\n",
      "Epoch 1490 precision:  0.6043478260869565\n"
     ]
    },
    {
     "name": "stderr",
     "output_type": "stream",
     "text": [
      " 60%|██████    | 1501/2500 [05:14<03:31,  4.72it/s]"
     ]
    },
    {
     "name": "stdout",
     "output_type": "stream",
     "text": [
      "Epoch 1500 loss:  10.509365086504065\n",
      "Epoch 1500 precision:  0.4364130434782609\n"
     ]
    },
    {
     "name": "stderr",
     "output_type": "stream",
     "text": [
      " 60%|██████    | 1511/2500 [05:17<04:05,  4.03it/s]"
     ]
    },
    {
     "name": "stdout",
     "output_type": "stream",
     "text": [
      "Epoch 1510 loss:  3.2691558419177182\n",
      "Epoch 1510 precision:  0.48777173913043476\n"
     ]
    },
    {
     "name": "stderr",
     "output_type": "stream",
     "text": [
      " 61%|██████    | 1521/2500 [05:19<03:16,  4.97it/s]"
     ]
    },
    {
     "name": "stdout",
     "output_type": "stream",
     "text": [
      "Epoch 1520 loss:  3.101767977416613\n",
      "Epoch 1520 precision:  0.4953804347826087\n"
     ]
    },
    {
     "name": "stderr",
     "output_type": "stream",
     "text": [
      " 61%|██████▏   | 1532/2500 [05:21<03:11,  5.05it/s]"
     ]
    },
    {
     "name": "stdout",
     "output_type": "stream",
     "text": [
      "Epoch 1530 loss:  1.215658001824338\n",
      "Epoch 1530 precision:  0.6701086956521739\n"
     ]
    },
    {
     "name": "stderr",
     "output_type": "stream",
     "text": [
      " 62%|██████▏   | 1541/2500 [05:23<03:39,  4.38it/s]"
     ]
    },
    {
     "name": "stdout",
     "output_type": "stream",
     "text": [
      "Epoch 1540 loss:  13.282661870211127\n",
      "Epoch 1540 precision:  0.4418478260869565\n"
     ]
    },
    {
     "name": "stderr",
     "output_type": "stream",
     "text": [
      " 62%|██████▏   | 1551/2500 [05:25<03:42,  4.27it/s]"
     ]
    },
    {
     "name": "stdout",
     "output_type": "stream",
     "text": [
      "Epoch 1550 loss:  14.413252296806666\n",
      "Epoch 1550 precision:  0.44130434782608696\n"
     ]
    },
    {
     "name": "stderr",
     "output_type": "stream",
     "text": [
      " 62%|██████▏   | 1561/2500 [05:27<03:27,  4.52it/s]"
     ]
    },
    {
     "name": "stdout",
     "output_type": "stream",
     "text": [
      "Epoch 1560 loss:  5.192941789429308\n",
      "Epoch 1560 precision:  0.4861413043478261\n"
     ]
    },
    {
     "name": "stderr",
     "output_type": "stream",
     "text": [
      " 63%|██████▎   | 1571/2500 [05:29<03:19,  4.65it/s]"
     ]
    },
    {
     "name": "stdout",
     "output_type": "stream",
     "text": [
      "Epoch 1570 loss:  14.421282672585782\n",
      "Epoch 1570 precision:  0.6130434782608696\n"
     ]
    },
    {
     "name": "stderr",
     "output_type": "stream",
     "text": [
      " 63%|██████▎   | 1581/2500 [05:32<03:18,  4.64it/s]"
     ]
    },
    {
     "name": "stdout",
     "output_type": "stream",
     "text": [
      "Epoch 1580 loss:  15.397102100542964\n",
      "Epoch 1580 precision:  0.6040760869565217\n"
     ]
    },
    {
     "name": "stderr",
     "output_type": "stream",
     "text": [
      " 64%|██████▎   | 1592/2500 [05:34<02:58,  5.07it/s]"
     ]
    },
    {
     "name": "stdout",
     "output_type": "stream",
     "text": [
      "Epoch 1590 loss:  0.9997137318777396\n",
      "Epoch 1590 precision:  0.6641304347826087\n"
     ]
    },
    {
     "name": "stderr",
     "output_type": "stream",
     "text": [
      " 64%|██████▍   | 1602/2500 [05:36<02:55,  5.12it/s]"
     ]
    },
    {
     "name": "stdout",
     "output_type": "stream",
     "text": [
      "Epoch 1600 loss:  16.23749906459022\n",
      "Epoch 1600 precision:  0.6046195652173914\n"
     ]
    },
    {
     "name": "stderr",
     "output_type": "stream",
     "text": [
      " 64%|██████▍   | 1611/2500 [05:38<02:59,  4.95it/s]"
     ]
    },
    {
     "name": "stdout",
     "output_type": "stream",
     "text": [
      "Epoch 1610 loss:  11.859239064961614\n",
      "Epoch 1610 precision:  0.6141304347826086\n"
     ]
    },
    {
     "name": "stderr",
     "output_type": "stream",
     "text": [
      " 65%|██████▍   | 1622/2500 [05:40<02:48,  5.22it/s]"
     ]
    },
    {
     "name": "stdout",
     "output_type": "stream",
     "text": [
      "Epoch 1620 loss:  1.3707225978033613\n",
      "Epoch 1620 precision:  0.6717391304347826\n"
     ]
    },
    {
     "name": "stderr",
     "output_type": "stream",
     "text": [
      " 65%|██████▌   | 1631/2500 [05:42<02:54,  4.99it/s]"
     ]
    },
    {
     "name": "stdout",
     "output_type": "stream",
     "text": [
      "Epoch 1630 loss:  15.646783299129591\n",
      "Epoch 1630 precision:  0.6046195652173914\n"
     ]
    },
    {
     "name": "stderr",
     "output_type": "stream",
     "text": [
      " 66%|██████▌   | 1642/2500 [05:44<02:48,  5.11it/s]"
     ]
    },
    {
     "name": "stdout",
     "output_type": "stream",
     "text": [
      "Epoch 1640 loss:  0.9539728687618731\n",
      "Epoch 1640 precision:  0.6614130434782609\n"
     ]
    },
    {
     "name": "stderr",
     "output_type": "stream",
     "text": [
      " 66%|██████▌   | 1652/2500 [05:46<02:43,  5.18it/s]"
     ]
    },
    {
     "name": "stdout",
     "output_type": "stream",
     "text": [
      "Epoch 1650 loss:  3.105858027157138\n",
      "Epoch 1650 precision:  0.6220108695652173\n"
     ]
    },
    {
     "name": "stderr",
     "output_type": "stream",
     "text": [
      " 66%|██████▋   | 1661/2500 [05:48<02:48,  4.98it/s]"
     ]
    },
    {
     "name": "stdout",
     "output_type": "stream",
     "text": [
      "Epoch 1660 loss:  0.9656115472813316\n",
      "Epoch 1660 precision:  0.6739130434782609\n"
     ]
    },
    {
     "name": "stderr",
     "output_type": "stream",
     "text": [
      " 67%|██████▋   | 1671/2500 [05:50<02:49,  4.90it/s]"
     ]
    },
    {
     "name": "stdout",
     "output_type": "stream",
     "text": [
      "Epoch 1670 loss:  11.578805973767071\n",
      "Epoch 1670 precision:  0.4494565217391304\n"
     ]
    },
    {
     "name": "stderr",
     "output_type": "stream",
     "text": [
      " 67%|██████▋   | 1682/2500 [05:52<02:39,  5.13it/s]"
     ]
    },
    {
     "name": "stdout",
     "output_type": "stream",
     "text": [
      "Epoch 1680 loss:  12.918316286379623\n",
      "Epoch 1680 precision:  0.6127717391304348\n"
     ]
    },
    {
     "name": "stderr",
     "output_type": "stream",
     "text": [
      " 68%|██████▊   | 1691/2500 [05:54<02:47,  4.83it/s]"
     ]
    },
    {
     "name": "stdout",
     "output_type": "stream",
     "text": [
      "Epoch 1690 loss:  15.826455170265245\n",
      "Epoch 1690 precision:  0.6108695652173913\n"
     ]
    },
    {
     "name": "stderr",
     "output_type": "stream",
     "text": [
      " 68%|██████▊   | 1701/2500 [05:56<02:57,  4.49it/s]"
     ]
    },
    {
     "name": "stdout",
     "output_type": "stream",
     "text": [
      "Epoch 1700 loss:  1.127105395802143\n",
      "Epoch 1700 precision:  0.6725543478260869\n"
     ]
    },
    {
     "name": "stderr",
     "output_type": "stream",
     "text": [
      " 68%|██████▊   | 1712/2500 [05:58<02:41,  4.88it/s]"
     ]
    },
    {
     "name": "stdout",
     "output_type": "stream",
     "text": [
      "Epoch 1710 loss:  6.235586987329173\n",
      "Epoch 1710 precision:  0.4923913043478261\n"
     ]
    },
    {
     "name": "stderr",
     "output_type": "stream",
     "text": [
      " 69%|██████▉   | 1721/2500 [06:00<02:46,  4.68it/s]"
     ]
    },
    {
     "name": "stdout",
     "output_type": "stream",
     "text": [
      "Epoch 1720 loss:  13.695308636581878\n",
      "Epoch 1720 precision:  0.44782608695652176\n"
     ]
    },
    {
     "name": "stderr",
     "output_type": "stream",
     "text": [
      " 69%|██████▉   | 1731/2500 [06:02<02:35,  4.93it/s]"
     ]
    },
    {
     "name": "stdout",
     "output_type": "stream",
     "text": [
      "Epoch 1730 loss:  1.041976683336424\n",
      "Epoch 1730 precision:  0.6796195652173913\n"
     ]
    },
    {
     "name": "stderr",
     "output_type": "stream",
     "text": [
      " 70%|██████▉   | 1742/2500 [06:04<02:27,  5.13it/s]"
     ]
    },
    {
     "name": "stdout",
     "output_type": "stream",
     "text": [
      "Epoch 1740 loss:  14.517383607394562\n",
      "Epoch 1740 precision:  0.6146739130434783\n"
     ]
    },
    {
     "name": "stderr",
     "output_type": "stream",
     "text": [
      " 70%|███████   | 1752/2500 [06:06<02:29,  4.99it/s]"
     ]
    },
    {
     "name": "stdout",
     "output_type": "stream",
     "text": [
      "Epoch 1750 loss:  1.0481576426028105\n",
      "Epoch 1750 precision:  0.675\n"
     ]
    },
    {
     "name": "stderr",
     "output_type": "stream",
     "text": [
      " 70%|███████   | 1761/2500 [06:08<02:31,  4.87it/s]"
     ]
    },
    {
     "name": "stdout",
     "output_type": "stream",
     "text": [
      "Epoch 1760 loss:  15.737297231997388\n",
      "Epoch 1760 precision:  0.6043478260869565\n"
     ]
    },
    {
     "name": "stderr",
     "output_type": "stream",
     "text": [
      " 71%|███████   | 1771/2500 [06:10<02:22,  5.11it/s]"
     ]
    },
    {
     "name": "stdout",
     "output_type": "stream",
     "text": [
      "Epoch 1770 loss:  1.1177678028239462\n",
      "Epoch 1770 precision:  0.5366847826086957\n"
     ]
    },
    {
     "name": "stderr",
     "output_type": "stream",
     "text": [
      " 71%|███████   | 1781/2500 [06:12<02:20,  5.11it/s]"
     ]
    },
    {
     "name": "stdout",
     "output_type": "stream",
     "text": [
      "Epoch 1780 loss:  6.946441191188527\n",
      "Epoch 1780 precision:  0.6209239130434783\n"
     ]
    },
    {
     "name": "stderr",
     "output_type": "stream",
     "text": [
      " 72%|███████▏  | 1792/2500 [06:14<02:17,  5.16it/s]"
     ]
    },
    {
     "name": "stdout",
     "output_type": "stream",
     "text": [
      "Epoch 1790 loss:  5.637009791816354\n",
      "Epoch 1790 precision:  0.4880434782608696\n"
     ]
    },
    {
     "name": "stderr",
     "output_type": "stream",
     "text": [
      " 72%|███████▏  | 1802/2500 [06:16<02:18,  5.05it/s]"
     ]
    },
    {
     "name": "stdout",
     "output_type": "stream",
     "text": [
      "Epoch 1800 loss:  13.509443839826814\n",
      "Epoch 1800 precision:  0.6059782608695652\n"
     ]
    },
    {
     "name": "stderr",
     "output_type": "stream",
     "text": [
      " 72%|███████▏  | 1811/2500 [06:18<02:17,  4.99it/s]"
     ]
    },
    {
     "name": "stdout",
     "output_type": "stream",
     "text": [
      "Epoch 1810 loss:  2.5958978847452343\n",
      "Epoch 1810 precision:  0.5252717391304348\n"
     ]
    },
    {
     "name": "stderr",
     "output_type": "stream",
     "text": [
      " 73%|███████▎  | 1822/2500 [06:20<02:10,  5.20it/s]"
     ]
    },
    {
     "name": "stdout",
     "output_type": "stream",
     "text": [
      "Epoch 1820 loss:  16.38616730496802\n",
      "Epoch 1820 precision:  0.6057065217391304\n"
     ]
    },
    {
     "name": "stderr",
     "output_type": "stream",
     "text": [
      " 73%|███████▎  | 1831/2500 [06:22<02:14,  4.97it/s]"
     ]
    },
    {
     "name": "stdout",
     "output_type": "stream",
     "text": [
      "Epoch 1830 loss:  6.369211756508847\n",
      "Epoch 1830 precision:  0.47554347826086957\n"
     ]
    },
    {
     "name": "stderr",
     "output_type": "stream",
     "text": [
      " 74%|███████▎  | 1841/2500 [06:24<02:14,  4.89it/s]"
     ]
    },
    {
     "name": "stdout",
     "output_type": "stream",
     "text": [
      "Epoch 1840 loss:  12.2329357430425\n",
      "Epoch 1840 precision:  0.4410326086956522\n"
     ]
    },
    {
     "name": "stderr",
     "output_type": "stream",
     "text": [
      " 74%|███████▍  | 1851/2500 [06:26<02:13,  4.88it/s]"
     ]
    },
    {
     "name": "stdout",
     "output_type": "stream",
     "text": [
      "Epoch 1850 loss:  1.5643909009561512\n",
      "Epoch 1850 precision:  0.5578804347826087\n"
     ]
    },
    {
     "name": "stderr",
     "output_type": "stream",
     "text": [
      " 74%|███████▍  | 1861/2500 [06:28<02:14,  4.74it/s]"
     ]
    },
    {
     "name": "stdout",
     "output_type": "stream",
     "text": [
      "Epoch 1860 loss:  1.1277567441319982\n",
      "Epoch 1860 precision:  0.6722826086956522\n"
     ]
    },
    {
     "name": "stderr",
     "output_type": "stream",
     "text": [
      " 75%|███████▍  | 1871/2500 [06:30<02:11,  4.79it/s]"
     ]
    },
    {
     "name": "stdout",
     "output_type": "stream",
     "text": [
      "Epoch 1870 loss:  3.057181879630339\n",
      "Epoch 1870 precision:  0.5054347826086957\n"
     ]
    },
    {
     "name": "stderr",
     "output_type": "stream",
     "text": [
      " 75%|███████▌  | 1881/2500 [06:33<02:09,  4.79it/s]"
     ]
    },
    {
     "name": "stdout",
     "output_type": "stream",
     "text": [
      "Epoch 1880 loss:  1.4823715127933592\n",
      "Epoch 1880 precision:  0.6404891304347826\n"
     ]
    },
    {
     "name": "stderr",
     "output_type": "stream",
     "text": [
      " 76%|███████▌  | 1891/2500 [06:35<02:05,  4.85it/s]"
     ]
    },
    {
     "name": "stdout",
     "output_type": "stream",
     "text": [
      "Epoch 1890 loss:  12.608139072976817\n",
      "Epoch 1890 precision:  0.6157608695652174\n"
     ]
    },
    {
     "name": "stderr",
     "output_type": "stream",
     "text": [
      " 76%|███████▌  | 1901/2500 [06:37<02:03,  4.85it/s]"
     ]
    },
    {
     "name": "stdout",
     "output_type": "stream",
     "text": [
      "Epoch 1900 loss:  4.679058367131633\n",
      "Epoch 1900 precision:  0.5\n"
     ]
    },
    {
     "name": "stderr",
     "output_type": "stream",
     "text": [
      " 76%|███████▋  | 1911/2500 [06:39<02:01,  4.86it/s]"
     ]
    },
    {
     "name": "stdout",
     "output_type": "stream",
     "text": [
      "Epoch 1910 loss:  17.908708969386097\n",
      "Epoch 1910 precision:  0.6043478260869565\n"
     ]
    },
    {
     "name": "stderr",
     "output_type": "stream",
     "text": [
      " 77%|███████▋  | 1921/2500 [06:41<01:57,  4.93it/s]"
     ]
    },
    {
     "name": "stdout",
     "output_type": "stream",
     "text": [
      "Epoch 1920 loss:  16.35820529825824\n",
      "Epoch 1920 precision:  0.6059782608695652\n"
     ]
    },
    {
     "name": "stderr",
     "output_type": "stream",
     "text": [
      " 77%|███████▋  | 1931/2500 [06:43<01:55,  4.95it/s]"
     ]
    },
    {
     "name": "stdout",
     "output_type": "stream",
     "text": [
      "Epoch 1930 loss:  15.76985536372145\n",
      "Epoch 1930 precision:  0.60625\n"
     ]
    },
    {
     "name": "stderr",
     "output_type": "stream",
     "text": [
      " 78%|███████▊  | 1941/2500 [06:45<01:57,  4.78it/s]"
     ]
    },
    {
     "name": "stdout",
     "output_type": "stream",
     "text": [
      "Epoch 1940 loss:  1.128092738567014\n",
      "Epoch 1940 precision:  0.6790760869565218\n"
     ]
    },
    {
     "name": "stderr",
     "output_type": "stream",
     "text": [
      " 78%|███████▊  | 1951/2500 [06:47<01:52,  4.89it/s]"
     ]
    },
    {
     "name": "stdout",
     "output_type": "stream",
     "text": [
      "Epoch 1950 loss:  12.664698122225412\n",
      "Epoch 1950 precision:  0.6165760869565218\n"
     ]
    },
    {
     "name": "stderr",
     "output_type": "stream",
     "text": [
      " 78%|███████▊  | 1961/2500 [06:49<01:56,  4.64it/s]"
     ]
    },
    {
     "name": "stdout",
     "output_type": "stream",
     "text": [
      "Epoch 1960 loss:  1.6273817265210277\n",
      "Epoch 1960 precision:  0.5679347826086957\n"
     ]
    },
    {
     "name": "stderr",
     "output_type": "stream",
     "text": [
      " 79%|███████▉  | 1971/2500 [06:51<01:50,  4.80it/s]"
     ]
    },
    {
     "name": "stdout",
     "output_type": "stream",
     "text": [
      "Epoch 1970 loss:  16.168039538111554\n",
      "Epoch 1970 precision:  0.6059782608695652\n"
     ]
    },
    {
     "name": "stderr",
     "output_type": "stream",
     "text": [
      " 79%|███████▉  | 1982/2500 [06:53<01:41,  5.09it/s]"
     ]
    },
    {
     "name": "stdout",
     "output_type": "stream",
     "text": [
      "Epoch 1980 loss:  1.1433211624303083\n",
      "Epoch 1980 precision:  0.6785326086956521\n"
     ]
    },
    {
     "name": "stderr",
     "output_type": "stream",
     "text": [
      " 80%|███████▉  | 1992/2500 [06:55<01:39,  5.12it/s]"
     ]
    },
    {
     "name": "stdout",
     "output_type": "stream",
     "text": [
      "Epoch 1990 loss:  4.372483111289858\n",
      "Epoch 1990 precision:  0.6220108695652173\n"
     ]
    },
    {
     "name": "stderr",
     "output_type": "stream",
     "text": [
      " 80%|████████  | 2002/2500 [06:57<01:37,  5.09it/s]"
     ]
    },
    {
     "name": "stdout",
     "output_type": "stream",
     "text": [
      "Epoch 2000 loss:  13.515160432345478\n",
      "Epoch 2000 precision:  0.6171195652173913\n"
     ]
    },
    {
     "name": "stderr",
     "output_type": "stream",
     "text": [
      " 80%|████████  | 2012/2500 [06:59<01:36,  5.07it/s]"
     ]
    },
    {
     "name": "stdout",
     "output_type": "stream",
     "text": [
      "Epoch 2010 loss:  14.75180883541015\n",
      "Epoch 2010 precision:  0.6133152173913043\n"
     ]
    },
    {
     "name": "stderr",
     "output_type": "stream",
     "text": [
      " 81%|████████  | 2022/2500 [07:01<01:34,  5.08it/s]"
     ]
    },
    {
     "name": "stdout",
     "output_type": "stream",
     "text": [
      "Epoch 2020 loss:  12.462816891146856\n",
      "Epoch 2020 precision:  0.4385869565217391\n"
     ]
    },
    {
     "name": "stderr",
     "output_type": "stream",
     "text": [
      " 81%|████████▏ | 2032/2500 [07:03<01:32,  5.08it/s]"
     ]
    },
    {
     "name": "stdout",
     "output_type": "stream",
     "text": [
      "Epoch 2030 loss:  12.904031165802436\n",
      "Epoch 2030 precision:  0.6135869565217391\n"
     ]
    },
    {
     "name": "stderr",
     "output_type": "stream",
     "text": [
      " 82%|████████▏ | 2041/2500 [07:05<01:38,  4.68it/s]"
     ]
    },
    {
     "name": "stdout",
     "output_type": "stream",
     "text": [
      "Epoch 2040 loss:  2.289032381540648\n",
      "Epoch 2040 precision:  0.5478260869565217\n"
     ]
    },
    {
     "name": "stderr",
     "output_type": "stream",
     "text": [
      " 82%|████████▏ | 2051/2500 [07:07<01:35,  4.70it/s]"
     ]
    },
    {
     "name": "stdout",
     "output_type": "stream",
     "text": [
      "Epoch 2050 loss:  13.358570157856498\n",
      "Epoch 2050 precision:  0.6165760869565218\n"
     ]
    },
    {
     "name": "stderr",
     "output_type": "stream",
     "text": [
      " 82%|████████▏ | 2062/2500 [07:10<01:26,  5.04it/s]"
     ]
    },
    {
     "name": "stdout",
     "output_type": "stream",
     "text": [
      "Epoch 2060 loss:  1.2086192802793503\n",
      "Epoch 2060 precision:  0.5679347826086957\n"
     ]
    },
    {
     "name": "stderr",
     "output_type": "stream",
     "text": [
      " 83%|████████▎ | 2071/2500 [07:11<01:22,  5.19it/s]"
     ]
    },
    {
     "name": "stdout",
     "output_type": "stream",
     "text": [
      "Epoch 2070 loss:  10.672712525962618\n",
      "Epoch 2070 precision:  0.6179347826086956\n"
     ]
    },
    {
     "name": "stderr",
     "output_type": "stream",
     "text": [
      " 83%|████████▎ | 2081/2500 [07:13<01:22,  5.07it/s]"
     ]
    },
    {
     "name": "stdout",
     "output_type": "stream",
     "text": [
      "Epoch 2080 loss:  2.4866069940405384\n",
      "Epoch 2080 precision:  0.5404891304347826\n"
     ]
    },
    {
     "name": "stderr",
     "output_type": "stream",
     "text": [
      " 84%|████████▎ | 2092/2500 [07:16<01:20,  5.07it/s]"
     ]
    },
    {
     "name": "stdout",
     "output_type": "stream",
     "text": [
      "Epoch 2090 loss:  15.070958394416296\n",
      "Epoch 2090 precision:  0.6125\n"
     ]
    },
    {
     "name": "stderr",
     "output_type": "stream",
     "text": [
      " 84%|████████▍ | 2101/2500 [07:17<01:25,  4.65it/s]"
     ]
    },
    {
     "name": "stdout",
     "output_type": "stream",
     "text": [
      "Epoch 2100 loss:  1.3481769048190744\n",
      "Epoch 2100 precision:  0.6741847826086956\n"
     ]
    },
    {
     "name": "stderr",
     "output_type": "stream",
     "text": [
      " 84%|████████▍ | 2111/2500 [07:20<01:22,  4.70it/s]"
     ]
    },
    {
     "name": "stdout",
     "output_type": "stream",
     "text": [
      "Epoch 2110 loss:  3.850767371240304\n",
      "Epoch 2110 precision:  0.5423913043478261\n"
     ]
    },
    {
     "name": "stderr",
     "output_type": "stream",
     "text": [
      " 85%|████████▍ | 2121/2500 [07:22<01:23,  4.51it/s]"
     ]
    },
    {
     "name": "stdout",
     "output_type": "stream",
     "text": [
      "Epoch 2120 loss:  14.87527964001056\n",
      "Epoch 2120 precision:  0.60625\n"
     ]
    },
    {
     "name": "stderr",
     "output_type": "stream",
     "text": [
      " 85%|████████▌ | 2131/2500 [07:24<01:20,  4.58it/s]"
     ]
    },
    {
     "name": "stdout",
     "output_type": "stream",
     "text": [
      "Epoch 2130 loss:  15.787387825176566\n",
      "Epoch 2130 precision:  0.60625\n"
     ]
    },
    {
     "name": "stderr",
     "output_type": "stream",
     "text": [
      " 86%|████████▌ | 2141/2500 [07:26<01:14,  4.82it/s]"
     ]
    },
    {
     "name": "stdout",
     "output_type": "stream",
     "text": [
      "Epoch 2140 loss:  13.402824816334846\n",
      "Epoch 2140 precision:  0.6144021739130435\n"
     ]
    },
    {
     "name": "stderr",
     "output_type": "stream",
     "text": [
      " 86%|████████▌ | 2152/2500 [07:28<01:10,  4.90it/s]"
     ]
    },
    {
     "name": "stdout",
     "output_type": "stream",
     "text": [
      "Epoch 2150 loss:  4.392117568780232\n",
      "Epoch 2150 precision:  0.6255434782608695\n"
     ]
    },
    {
     "name": "stderr",
     "output_type": "stream",
     "text": [
      " 86%|████████▋ | 2161/2500 [07:30<01:18,  4.29it/s]"
     ]
    },
    {
     "name": "stdout",
     "output_type": "stream",
     "text": [
      "Epoch 2160 loss:  1.3654384944101006\n",
      "Epoch 2160 precision:  0.6747282608695652\n"
     ]
    },
    {
     "name": "stderr",
     "output_type": "stream",
     "text": [
      " 87%|████████▋ | 2171/2500 [07:32<01:10,  4.70it/s]"
     ]
    },
    {
     "name": "stdout",
     "output_type": "stream",
     "text": [
      "Epoch 2170 loss:  1.5301155956369457\n",
      "Epoch 2170 precision:  0.675\n"
     ]
    },
    {
     "name": "stderr",
     "output_type": "stream",
     "text": [
      " 87%|████████▋ | 2181/2500 [07:34<01:05,  4.90it/s]"
     ]
    },
    {
     "name": "stdout",
     "output_type": "stream",
     "text": [
      "Epoch 2180 loss:  2.814296887280214\n",
      "Epoch 2180 precision:  0.6364130434782609\n"
     ]
    },
    {
     "name": "stderr",
     "output_type": "stream",
     "text": [
      " 88%|████████▊ | 2192/2500 [07:37<00:57,  5.32it/s]"
     ]
    },
    {
     "name": "stdout",
     "output_type": "stream",
     "text": [
      "Epoch 2190 loss:  11.720383583417622\n",
      "Epoch 2190 precision:  0.6165760869565218\n"
     ]
    },
    {
     "name": "stderr",
     "output_type": "stream",
     "text": [
      " 88%|████████▊ | 2202/2500 [07:38<00:56,  5.28it/s]"
     ]
    },
    {
     "name": "stdout",
     "output_type": "stream",
     "text": [
      "Epoch 2200 loss:  6.314899237008753\n",
      "Epoch 2200 precision:  0.4983695652173913\n"
     ]
    },
    {
     "name": "stderr",
     "output_type": "stream",
     "text": [
      " 88%|████████▊ | 2212/2500 [07:40<00:54,  5.29it/s]"
     ]
    },
    {
     "name": "stdout",
     "output_type": "stream",
     "text": [
      "Epoch 2210 loss:  1.1841048840273698\n",
      "Epoch 2210 precision:  0.6845108695652173\n"
     ]
    },
    {
     "name": "stderr",
     "output_type": "stream",
     "text": [
      " 89%|████████▉ | 2222/2500 [07:42<00:53,  5.23it/s]"
     ]
    },
    {
     "name": "stdout",
     "output_type": "stream",
     "text": [
      "Epoch 2220 loss:  13.308355287866519\n",
      "Epoch 2220 precision:  0.6133152173913043\n"
     ]
    },
    {
     "name": "stderr",
     "output_type": "stream",
     "text": [
      " 89%|████████▉ | 2232/2500 [07:44<00:51,  5.21it/s]"
     ]
    },
    {
     "name": "stdout",
     "output_type": "stream",
     "text": [
      "Epoch 2230 loss:  11.991179275350119\n",
      "Epoch 2230 precision:  0.6146739130434783\n"
     ]
    },
    {
     "name": "stderr",
     "output_type": "stream",
     "text": [
      " 90%|████████▉ | 2242/2500 [07:46<00:49,  5.25it/s]"
     ]
    },
    {
     "name": "stdout",
     "output_type": "stream",
     "text": [
      "Epoch 2240 loss:  4.408120107824338\n",
      "Epoch 2240 precision:  0.5467391304347826\n"
     ]
    },
    {
     "name": "stderr",
     "output_type": "stream",
     "text": [
      " 90%|█████████ | 2252/2500 [07:48<00:48,  5.10it/s]"
     ]
    },
    {
     "name": "stdout",
     "output_type": "stream",
     "text": [
      "Epoch 2250 loss:  1.6426207398604318\n",
      "Epoch 2250 precision:  0.5595108695652173\n"
     ]
    },
    {
     "name": "stderr",
     "output_type": "stream",
     "text": [
      " 90%|█████████ | 2261/2500 [07:50<00:45,  5.23it/s]"
     ]
    },
    {
     "name": "stdout",
     "output_type": "stream",
     "text": [
      "Epoch 2260 loss:  2.4064378811731295\n",
      "Epoch 2260 precision:  0.5516304347826086\n"
     ]
    },
    {
     "name": "stderr",
     "output_type": "stream",
     "text": [
      " 91%|█████████ | 2272/2500 [07:52<00:43,  5.19it/s]"
     ]
    },
    {
     "name": "stdout",
     "output_type": "stream",
     "text": [
      "Epoch 2270 loss:  12.199270294173616\n",
      "Epoch 2270 precision:  0.4502717391304348\n"
     ]
    },
    {
     "name": "stderr",
     "output_type": "stream",
     "text": [
      " 91%|█████████▏| 2282/2500 [07:54<00:41,  5.24it/s]"
     ]
    },
    {
     "name": "stdout",
     "output_type": "stream",
     "text": [
      "Epoch 2280 loss:  11.516704747886253\n",
      "Epoch 2280 precision:  0.4494565217391304\n"
     ]
    },
    {
     "name": "stderr",
     "output_type": "stream",
     "text": [
      " 92%|█████████▏| 2291/2500 [1:05:28<7:05:17, 122.09s/it]  "
     ]
    },
    {
     "name": "stdout",
     "output_type": "stream",
     "text": [
      "Epoch 2290 loss:  12.43495931276588\n",
      "Epoch 2290 precision:  0.6173913043478261\n"
     ]
    },
    {
     "name": "stderr",
     "output_type": "stream",
     "text": [
      " 92%|█████████▏| 2301/2500 [1:05:30<12:15,  3.70s/it]   "
     ]
    },
    {
     "name": "stdout",
     "output_type": "stream",
     "text": [
      "Epoch 2300 loss:  2.9912851048774995\n",
      "Epoch 2300 precision:  0.5380434782608695\n"
     ]
    },
    {
     "name": "stderr",
     "output_type": "stream",
     "text": [
      " 92%|█████████▏| 2311/2500 [1:05:32<00:58,  3.24it/s]"
     ]
    },
    {
     "name": "stdout",
     "output_type": "stream",
     "text": [
      "Epoch 2310 loss:  13.948453792136473\n",
      "Epoch 2310 precision:  0.6144021739130435\n"
     ]
    },
    {
     "name": "stderr",
     "output_type": "stream",
     "text": [
      " 93%|█████████▎| 2321/2500 [1:05:34<00:40,  4.41it/s]"
     ]
    },
    {
     "name": "stdout",
     "output_type": "stream",
     "text": [
      "Epoch 2320 loss:  6.802978161994099\n",
      "Epoch 2320 precision:  0.621195652173913\n"
     ]
    },
    {
     "name": "stderr",
     "output_type": "stream",
     "text": [
      " 93%|█████████▎| 2331/2500 [1:05:37<00:46,  3.66it/s]"
     ]
    },
    {
     "name": "stdout",
     "output_type": "stream",
     "text": [
      "Epoch 2330 loss:  7.2756515074130075\n",
      "Epoch 2330 precision:  0.6209239130434783\n"
     ]
    },
    {
     "name": "stderr",
     "output_type": "stream",
     "text": [
      " 94%|█████████▎| 2341/2500 [1:05:39<00:39,  4.01it/s]"
     ]
    },
    {
     "name": "stdout",
     "output_type": "stream",
     "text": [
      "Epoch 2340 loss:  14.017043104121413\n",
      "Epoch 2340 precision:  0.6141304347826086\n"
     ]
    },
    {
     "name": "stderr",
     "output_type": "stream",
     "text": [
      " 94%|█████████▍| 2351/2500 [1:05:41<00:30,  4.92it/s]"
     ]
    },
    {
     "name": "stdout",
     "output_type": "stream",
     "text": [
      "Epoch 2350 loss:  1.3122025279242777\n",
      "Epoch 2350 precision:  0.6744565217391304\n"
     ]
    },
    {
     "name": "stderr",
     "output_type": "stream",
     "text": [
      " 94%|█████████▍| 2362/2500 [1:05:44<00:26,  5.13it/s]"
     ]
    },
    {
     "name": "stdout",
     "output_type": "stream",
     "text": [
      "Epoch 2360 loss:  1.44747488708319\n",
      "Epoch 2360 precision:  0.5524456521739131\n"
     ]
    },
    {
     "name": "stderr",
     "output_type": "stream",
     "text": [
      " 95%|█████████▍| 2371/2500 [1:05:46<00:30,  4.30it/s]"
     ]
    },
    {
     "name": "stdout",
     "output_type": "stream",
     "text": [
      "Epoch 2370 loss:  1.7190996862723023\n",
      "Epoch 2370 precision:  0.6614130434782609\n"
     ]
    },
    {
     "name": "stderr",
     "output_type": "stream",
     "text": [
      " 95%|█████████▌| 2381/2500 [1:05:48<00:25,  4.62it/s]"
     ]
    },
    {
     "name": "stdout",
     "output_type": "stream",
     "text": [
      "Epoch 2380 loss:  5.432240123256257\n",
      "Epoch 2380 precision:  0.5163043478260869\n"
     ]
    },
    {
     "name": "stderr",
     "output_type": "stream",
     "text": [
      " 96%|█████████▌| 2391/2500 [1:05:50<00:21,  5.09it/s]"
     ]
    },
    {
     "name": "stdout",
     "output_type": "stream",
     "text": [
      "Epoch 2390 loss:  6.719613681875209\n",
      "Epoch 2390 precision:  0.5059782608695652\n"
     ]
    },
    {
     "name": "stderr",
     "output_type": "stream",
     "text": [
      " 96%|█████████▌| 2401/2500 [1:05:52<00:19,  4.99it/s]"
     ]
    },
    {
     "name": "stdout",
     "output_type": "stream",
     "text": [
      "Epoch 2400 loss:  3.4712908319144615\n",
      "Epoch 2400 precision:  0.5578804347826087\n"
     ]
    },
    {
     "name": "stderr",
     "output_type": "stream",
     "text": [
      " 96%|█████████▋| 2411/2500 [1:05:54<00:18,  4.73it/s]"
     ]
    },
    {
     "name": "stdout",
     "output_type": "stream",
     "text": [
      "Epoch 2410 loss:  12.263747342782326\n",
      "Epoch 2410 precision:  0.6160326086956521\n"
     ]
    },
    {
     "name": "stderr",
     "output_type": "stream",
     "text": [
      " 97%|█████████▋| 2421/2500 [1:05:56<00:18,  4.33it/s]"
     ]
    },
    {
     "name": "stdout",
     "output_type": "stream",
     "text": [
      "Epoch 2420 loss:  1.8843130780867356\n",
      "Epoch 2420 precision:  0.5551630434782608\n"
     ]
    },
    {
     "name": "stderr",
     "output_type": "stream",
     "text": [
      " 97%|█████████▋| 2432/2500 [1:05:59<00:13,  5.12it/s]"
     ]
    },
    {
     "name": "stdout",
     "output_type": "stream",
     "text": [
      "Epoch 2430 loss:  1.8053450754658997\n",
      "Epoch 2430 precision:  0.5597826086956522\n"
     ]
    },
    {
     "name": "stderr",
     "output_type": "stream",
     "text": [
      " 98%|█████████▊| 2442/2500 [1:06:00<00:11,  5.19it/s]"
     ]
    },
    {
     "name": "stdout",
     "output_type": "stream",
     "text": [
      "Epoch 2440 loss:  3.6346260076945565\n",
      "Epoch 2440 precision:  0.5557065217391305\n"
     ]
    },
    {
     "name": "stderr",
     "output_type": "stream",
     "text": [
      " 98%|█████████▊| 2452/2500 [1:06:02<00:09,  5.23it/s]"
     ]
    },
    {
     "name": "stdout",
     "output_type": "stream",
     "text": [
      "Epoch 2450 loss:  13.828894875342643\n",
      "Epoch 2450 precision:  0.6138586956521739\n"
     ]
    },
    {
     "name": "stderr",
     "output_type": "stream",
     "text": [
      " 98%|█████████▊| 2462/2500 [1:06:04<00:07,  5.31it/s]"
     ]
    },
    {
     "name": "stdout",
     "output_type": "stream",
     "text": [
      "Epoch 2460 loss:  5.959464901603146\n",
      "Epoch 2460 precision:  0.625\n"
     ]
    },
    {
     "name": "stderr",
     "output_type": "stream",
     "text": [
      " 99%|█████████▉| 2472/2500 [1:06:06<00:05,  5.01it/s]"
     ]
    },
    {
     "name": "stdout",
     "output_type": "stream",
     "text": [
      "Epoch 2470 loss:  13.704822740236091\n",
      "Epoch 2470 precision:  0.6135869565217391\n"
     ]
    },
    {
     "name": "stderr",
     "output_type": "stream",
     "text": [
      " 99%|█████████▉| 2481/2500 [1:06:08<00:03,  5.12it/s]"
     ]
    },
    {
     "name": "stdout",
     "output_type": "stream",
     "text": [
      "Epoch 2480 loss:  1.6604532328471737\n",
      "Epoch 2480 precision:  0.6793478260869565\n"
     ]
    },
    {
     "name": "stderr",
     "output_type": "stream",
     "text": [
      "100%|█████████▉| 2492/2500 [1:06:10<00:01,  5.36it/s]"
     ]
    },
    {
     "name": "stdout",
     "output_type": "stream",
     "text": [
      "Epoch 2490 loss:  16.446512710038903\n",
      "Epoch 2490 precision:  0.6057065217391304\n"
     ]
    },
    {
     "name": "stderr",
     "output_type": "stream",
     "text": [
      "100%|██████████| 2500/2500 [1:06:12<00:00,  4.47it/s]\n"
     ]
    }
   ],
   "source": [
    "n_h = 256 # 128\n",
    "nn = NeuralNetwork(X_train, y_train, n_h)\n",
    "\n",
    "loss_conv_2, prec_conv_2 = [], []\n",
    "for i in tqdm(range(2500)):\n",
    "    scores = nn.train(X_train, y_train)\n",
    "    if (i % 10 == 0):\n",
    "        print(\"Epoch\", i, \"loss: \", scores['loss'])\n",
    "        print(\"Epoch\", i, \"precision: \", scores['prec'])\n",
    "        loss_conv_2.append(scores['loss'])\n",
    "        prec_conv_2.append(scores['prec'])"
   ]
  },
  {
   "cell_type": "code",
   "execution_count": 9,
   "metadata": {},
   "outputs": [
    {
     "name": "stdout",
     "output_type": "stream",
     "text": [
      "Epoch 2499 loss:  14.982265796275845\n",
      "Epoch 2499 precision:  0.6167209554831705\n"
     ]
    },
    {
     "name": "stderr",
     "output_type": "stream",
     "text": [
      "/root/miniconda3/envs/invoicenet/lib/python3.6/site-packages/ipykernel_launcher.py:3: RuntimeWarning: overflow encountered in exp\n",
      "  This is separate from the ipykernel package so we can avoid doing imports until\n"
     ]
    }
   ],
   "source": [
    "scores = nn.test(X_test, y_test)\n",
    "print(\"Epoch\", i, \"loss: \", scores['loss'])\n",
    "print(\"Epoch\", i, \"precision: \", scores['prec'])"
   ]
  },
  {
   "cell_type": "markdown",
   "metadata": {},
   "source": [
    "#### Below, during training, NN's seem to be oscillating between local minima. Training with batches of the total data should improve this behaviour."
   ]
  },
  {
   "cell_type": "code",
   "execution_count": 18,
   "metadata": {},
   "outputs": [
    {
     "data": {
      "image/png": "[encoded data removed]",
      "text/plain": [
       "<matplotlib.figure.Figure at 0x7f8ccdba7898>"
      ]
     },
     "metadata": {
      "needs_background": "light"
     },
     "output_type": "display_data"
    }
   ],
   "source": [
    "plt.subplot(2, 1, 1)\n",
    "plt.title('Precision and Loss during training')\n",
    "plt.plot(prec_conv_2)\n",
    "plt.ylabel('Precision')\n",
    "plt.subplot(2, 1, 2)\n",
    "plt.plot(loss_conv_2)\n",
    "plt.ylabel('Loss');"
   ]
  }
 ],
 "metadata": {
  "kernelspec": {
   "display_name": "Python 3",
   "language": "python",
   "name": "python3"
  },
  "language_info": {
   "codemirror_mode": {
    "name": "ipython",
    "version": 3
   },
   "file_extension": ".py",
   "mimetype": "text/x-python",
   "name": "python",
   "nbconvert_exporter": "python",
   "pygments_lexer": "ipython3",
   "version": "3.6.6"
  }
 },
 "nbformat": 4,
 "nbformat_minor": 2
}
